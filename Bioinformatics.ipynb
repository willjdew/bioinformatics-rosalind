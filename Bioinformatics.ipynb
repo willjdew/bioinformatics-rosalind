{
 "cells": [
  {
   "cell_type": "markdown",
   "metadata": {},
   "source": [
    "http://rosalind.info/problems/list-view/"
   ]
  },
  {
   "cell_type": "markdown",
   "metadata": {},
   "source": [
    "## Read FASTA file"
   ]
  },
  {
   "cell_type": "code",
   "execution_count": 1,
   "metadata": {
    "collapsed": true
   },
   "outputs": [],
   "source": [
    "# Split the file contents at '>' to get a list of strings representing entries\n",
    "def read_FASTA_strings(filename):\n",
    "    with open(filename) as file:\n",
    "        return file.read().split('>')[1:]\n",
    "\n",
    "# Partition the strings to seperate the first line from the rest\n",
    "def read_FASTA_entries(filename):\n",
    "    return [seq.partition('\\n') for seq in read_FASTA_strings(filename)]\n",
    "\n",
    "# Remove the newlines from the sequence data\n",
    "def read_FASTA_sequences(filename):\n",
    "    return [(info[0:], seq.replace('\\n', '')) \n",
    "            for info, ignore, seq in #ignor is ignores (!)\n",
    "            read_FASTA_entries(filename)]\n",
    "\n",
    "# Split the description line into peices where vertical bars appear\n",
    "def read_FASTA_sequences_and_info(filename):\n",
    "    return [[seq[0].split('|'), seq[1]] for seq in read_FASTA_sequences(filename)]\n",
    "\n",
    "# Create an sequence dictionary from sequence data\n",
    "def make_indexed_sequences_dictionary(filename):\n",
    "    return {info: seq for info, seq in read_FASTA_sequences(filename)}"
   ]
  },
  {
   "cell_type": "markdown",
   "metadata": {},
   "source": [
    "### Counting DNA Nucleotides"
   ]
  },
  {
   "cell_type": "code",
   "execution_count": 2,
   "metadata": {},
   "outputs": [
    {
     "data": {
      "text/plain": [
       "{'A': 20, 'C': 12, 'G': 17, 'T': 21}"
      ]
     },
     "execution_count": 2,
     "metadata": {},
     "output_type": "execute_result"
    }
   ],
   "source": [
    "# Counting DNA Nucleotides\n",
    "# http://rosalind.info/problems/dna/\n",
    "def count_bases(DNA_string):\n",
    "    DNA_string.upper()\n",
    "    base_count = {}\n",
    "    base_count['A'] = DNA_string.count('A')\n",
    "    base_count['C'] = DNA_string.count('C')\n",
    "    base_count['G'] = DNA_string.count('G')\n",
    "    base_count['T'] = DNA_string.count('T')\n",
    "    return base_count\n",
    "\n",
    "dna = 'AGCTTTTCATTCTGACTGCAACGGGCAATATGTCTCTGTGTGGATTAAAAAAAGAGTGTCTGATAGCAGC'\n",
    "count_bases(dna)"
   ]
  },
  {
   "cell_type": "markdown",
   "metadata": {},
   "source": [
    "### Transcribing DNA into RNA"
   ]
  },
  {
   "cell_type": "code",
   "execution_count": 3,
   "metadata": {
    "scrolled": true
   },
   "outputs": [
    {
     "data": {
      "text/plain": [
       "'GAGUGUAUAUCACUUCGACACGACGUGUCCUCAGUCCUCCCUGUUGCUGCUUUUAACAUUCGUGUAUGACGGGGCCGGUCCAUAUAAGCAACGGACUUGGACGCGCUAGUCUUGGCCCGGCCGUUUUAGGCUCGACGAAACUCUAUAUUUUUACCUCGUCCACGAAACUACUGACUACUAACAUAUAUCUACUCACGCGCAUCCGUACCUCAUAGUGAGAGAUUCGCCCUGUUUUGAUGCUGAAUUGAAAGCAUACGUACAGUCAGUCCAUCGAAUCCACCCGCAUAUAGUGUAAACGCCCUCGCAUGCCCGACCUGGACACUAGCGUAGUAUGGCAUCUAGAGAGCCGGACCCCUCCAUGAACGCGAGCUGCCAACUCCUCUCUUAUUGCCACGAGUAGAGACCCCGUCAUAUUUCCCGGACAGGGCGCACCUGGGUUGUCGUGAUUGCCAGAUAGACCUAGUGGUUUUCCAUAACCUUUCCUACGUUGUCCACCCGUAUGUGUAGACAGUUCCACCUUGCUUCGAUGCCAUCACGAUGAGGAACUUAGUCCCAUUAGGGUCAAAGCUCAUGGUUUAUGCAUUUUAGAUCCGAAGCGGCAUACCGGUUUUUGGCAUAGAUCCCAAUAGUAGCUCAUUACACAUAAUUGCGGUCGUGCUUACGAUAUAAUCCCGGUGAACCGUUGAUAUCACGCGUAAAGAUCACUAGGAAAGUUCCGACCGUGUCGUUGCGGAUCAUUAUUUGCUUCUACAGCUGAAGCGUGGGAUGCGCUACCCGGCACAGCAGCACACGCAAAUCCAAAUUUUUGGAGUCUUACGACAGUUACCUGGGCGGUAUUGGUUAUCACAGCCUCGUUUUAUUAGUAUUGAAUACUCGGCUCGUCCUGGUAGGCGCAGGUGAAGAGCCUCACGUUCUUCAACACUGGGUCGGA'"
      ]
     },
     "execution_count": 3,
     "metadata": {},
     "output_type": "execute_result"
    }
   ],
   "source": [
    "# Transcribing DNA into RNA\n",
    "# http://rosalind.info/problems/rna/\n",
    "def transcribe_base_sequence(base_sequence, RNAflag = False):\n",
    "    if RNAflag:\n",
    "        base_sequence = base_sequence.replace('U', 'T')\n",
    "    else:\n",
    "        base_sequence = base_sequence.replace('T', 'U')\n",
    "    return base_sequence\n",
    "\n",
    "dna = 'GAGTGTATATCACTTCGACACGACGTGTCCTCAGTCCTCCCTGTTGCTGCTTTTAACATTCGTGTATGACGGGGCCGGTCCATATAAGCAACGGACTTGGACGCGCTAGTCTTGGCCCGGCCGTTTTAGGCTCGACGAAACTCTATATTTTTACCTCGTCCACGAAACTACTGACTACTAACATATATCTACTCACGCGCATCCGTACCTCATAGTGAGAGATTCGCCCTGTTTTGATGCTGAATTGAAAGCATACGTACAGTCAGTCCATCGAATCCACCCGCATATAGTGTAAACGCCCTCGCATGCCCGACCTGGACACTAGCGTAGTATGGCATCTAGAGAGCCGGACCCCTCCATGAACGCGAGCTGCCAACTCCTCTCTTATTGCCACGAGTAGAGACCCCGTCATATTTCCCGGACAGGGCGCACCTGGGTTGTCGTGATTGCCAGATAGACCTAGTGGTTTTCCATAACCTTTCCTACGTTGTCCACCCGTATGTGTAGACAGTTCCACCTTGCTTCGATGCCATCACGATGAGGAACTTAGTCCCATTAGGGTCAAAGCTCATGGTTTATGCATTTTAGATCCGAAGCGGCATACCGGTTTTTGGCATAGATCCCAATAGTAGCTCATTACACATAATTGCGGTCGTGCTTACGATATAATCCCGGTGAACCGTTGATATCACGCGTAAAGATCACTAGGAAAGTTCCGACCGTGTCGTTGCGGATCATTATTTGCTTCTACAGCTGAAGCGTGGGATGCGCTACCCGGCACAGCAGCACACGCAAATCCAAATTTTTGGAGTCTTACGACAGTTACCTGGGCGGTATTGGTTATCACAGCCTCGTTTTATTAGTATTGAATACTCGGCTCGTCCTGGTAGGCGCAGGTGAAGAGCCTCACGTTCTTCAACACTGGGTCGGA'\n",
    "transcribe_base_sequence(dna)"
   ]
  },
  {
   "cell_type": "markdown",
   "metadata": {},
   "source": [
    "### Complementing a strand of DNA"
   ]
  },
  {
   "cell_type": "code",
   "execution_count": 4,
   "metadata": {
    "scrolled": false
   },
   "outputs": [
    {
     "data": {
      "text/plain": [
       "'TATGTTGGCACAACACGTAGCTGTGAAAAAGGCGTTAAGATACGGTACTAACATAGAGTATAGGACGAACAGGAGATCCAAGACCGGAAAGCCCACCCAGGAGTACCCATGGACCTCACGATCACTTGGTCTCCGATAGCATGTGAAATCCCGGTCGAGACGATCGTTGTAAGCGAAGGACGTAGTGAACCTCCCCGAACCTTAGGCTTAGACGTAACGGCGAATCGTCGCGAGTATCACCCTCACTGCAGAAACCCATACGTCGACTCATCACAGGCCGTTCACAATGTCTAGGACTGGTCGGGAATGACATCCCGCGTCGCAATTGGAGCATAACTTGGGTGTAAGGCATGGCCCGGCTGTGAGGAATCTTGTACGGCAGATAGTACTCGAGTCGATCGTGGGATAGGCAAAGCTCACGTGATAATATGTAGAGGAGCGTCAGCAACTACTCAAGAAGTCAGCCAGGTGATCTAGTAGGATCAGCACCCCCAATTCTCACTGCCGTTTGAAGCGTTATATTCCTTTACTGGAGGCATGGATATAGATCCAATGGTTATGCACCACGTTAGAAGACCGACACCTCTAGATATATAGAAGCGCAGGGCCTTAGCGACGTATGTGCATAAGCCGTCAGGCTCCATGACGGATCATGTGCGTAGAACCCGTAATCCCCAGGCCAATGTTTGTTTCTGCGGACACTATTTTGCCAGGTTGGCGTCGGTTAGCATCAAGGTAGACTTCGCCCCACAGGCAGTAATCGTCGGTAAGGTGGCCTCCAGCATAAGATATACATGTTATCTGCTGCAATCTGAACTTAGAATCACGACGGATGATTAGTTCTCAAATTCCAATCTTATCTCACTGCCTATCGTTACATGTATTTCATCCTTTATGCAGGTACACAGAGGCTG'"
      ]
     },
     "execution_count": 4,
     "metadata": {},
     "output_type": "execute_result"
    }
   ],
   "source": [
    "# Complementing a strand of DNA\n",
    "# http://rosalind.info/problems/revc/\n",
    "def reverse_complement(base_sequence):\n",
    "    complement = {'A': 'T', 'C': 'G', 'G': 'C', 'T': 'A'}\n",
    "    return \"\".join(complement.get(base, base) for base in reversed(base_sequence))\n",
    "\n",
    "dna = 'CAGCCTCTGTGTACCTGCATAAAGGATGAAATACATGTAACGATAGGCAGTGAGATAAGATTGGAATTTGAGAACTAATCATCCGTCGTGATTCTAAGTTCAGATTGCAGCAGATAACATGTATATCTTATGCTGGAGGCCACCTTACCGACGATTACTGCCTGTGGGGCGAAGTCTACCTTGATGCTAACCGACGCCAACCTGGCAAAATAGTGTCCGCAGAAACAAACATTGGCCTGGGGATTACGGGTTCTACGCACATGATCCGTCATGGAGCCTGACGGCTTATGCACATACGTCGCTAAGGCCCTGCGCTTCTATATATCTAGAGGTGTCGGTCTTCTAACGTGGTGCATAACCATTGGATCTATATCCATGCCTCCAGTAAAGGAATATAACGCTTCAAACGGCAGTGAGAATTGGGGGTGCTGATCCTACTAGATCACCTGGCTGACTTCTTGAGTAGTTGCTGACGCTCCTCTACATATTATCACGTGAGCTTTGCCTATCCCACGATCGACTCGAGTACTATCTGCCGTACAAGATTCCTCACAGCCGGGCCATGCCTTACACCCAAGTTATGCTCCAATTGCGACGCGGGATGTCATTCCCGACCAGTCCTAGACATTGTGAACGGCCTGTGATGAGTCGACGTATGGGTTTCTGCAGTGAGGGTGATACTCGCGACGATTCGCCGTTACGTCTAAGCCTAAGGTTCGGGGAGGTTCACTACGTCCTTCGCTTACAACGATCGTCTCGACCGGGATTTCACATGCTATCGGAGACCAAGTGATCGTGAGGTCCATGGGTACTCCTGGGTGGGCTTTCCGGTCTTGGATCTCCTGTTCGTCCTATACTCTATGTTAGTACCGTATCTTAACGCCTTTTTCACAGCTACGTGTTGTGCCAACATA'\n",
    "reverse_complement(dna)"
   ]
  },
  {
   "cell_type": "markdown",
   "metadata": {},
   "source": [
    "### Mendel's First Law"
   ]
  },
  {
   "cell_type": "code",
   "execution_count": 5,
   "metadata": {
    "collapsed": true
   },
   "outputs": [],
   "source": [
    "# Mendel's First Law\n",
    "# http://rosalind.info/problems/iprb/\n",
    "# Import comb (combination operation) from the scipy library \n",
    "from scipy.special import comb\n",
    "\n",
    "def calculateProbability(k, m, n):\n",
    "    # Calculate total number of organisms in the population:\n",
    "    totalPop = k + m + n \n",
    "    # Calculate the number of combos that could be made (valid or not):\n",
    "    totalCombos = comb(totalPop, 2)\n",
    "    # Calculate the number of combos that have a dominant allele therefore are valid:\n",
    "    validCombos = comb(k, 2) + k*m + k*n + .5*m*n + .75*comb(m, 2)\n",
    "    probability = validCombos/totalCombos\n",
    "    return probability"
   ]
  },
  {
   "cell_type": "code",
   "execution_count": 6,
   "metadata": {},
   "outputs": [
    {
     "data": {
      "text/plain": [
       "0.78333333333333333"
      ]
     },
     "execution_count": 6,
     "metadata": {},
     "output_type": "execute_result"
    }
   ],
   "source": [
    "calculateProbability(21,24,29)\n",
    "calculateProbability(2, 2, 2)"
   ]
  },
  {
   "cell_type": "markdown",
   "metadata": {},
   "source": [
    "### Rabbits and Recurrence Relations"
   ]
  },
  {
   "cell_type": "code",
   "execution_count": 63,
   "metadata": {
    "collapsed": true
   },
   "outputs": [],
   "source": [
    "# Rabbits and Recurrence Relationsdef fib_rabbits(n, m):\n",
    "# http://rosalind.info/problems/fib/\n",
    "# https://medium.com/algorithms-for-life/rosalind-walkthrough-rabbits-and-recurrence-relations-4812c0c2ddb3\n",
    "\n",
    "def fib_rabbits(n, k):\n",
    "    # n = number of Months\n",
    "    # k = number of offspring\n",
    "    \n",
    "    # base case: in the first month there is only one pair of rabbits\n",
    "    if n == 1:\n",
    "        return 1\n",
    "    # base case: in the second month there is k amount of rabbits + 1\n",
    "    elif n == 2:\n",
    "        return k\n",
    "    \n",
    "    # Fibonacci's sequence F(n) = F(n-1) + F(n-2)\n",
    "    one_gen = fib_rabbits(n - 1, k) # F(n-1)\n",
    "    two_gen = fib_rabbits(n - 2, k) # f(n-2)\n",
    "    \n",
    "    # Size of populaiton up to the 4th gen can be predicted by adding gen1 and gen2\n",
    "    if n <= 4:\n",
    "        return one_gen + two_gen\n",
    "\n",
    "    # Multiplying the number of offspring born during each mating with the \n",
    "    # number of rabbits two generations ago, gives us the number of offspring \n",
    "    # in the current generation. We simply add this to the number of rabbits \n",
    "    # one generation ago to get our answer.\n",
    "    return (one_gen + (two_gen * k))\n",
    "    "
   ]
  },
  {
   "cell_type": "code",
   "execution_count": 66,
   "metadata": {
    "scrolled": false
   },
   "outputs": [
    {
     "data": {
      "text/plain": [
       "19"
      ]
     },
     "execution_count": 66,
     "metadata": {},
     "output_type": "execute_result"
    }
   ],
   "source": [
    "# Rabbits and Recurrence Relations\n",
    "fib_rabbits(5, 3)"
   ]
  },
  {
   "cell_type": "markdown",
   "metadata": {},
   "source": [
    "### Computing GC Content"
   ]
  },
  {
   "cell_type": "code",
   "execution_count": 9,
   "metadata": {
    "collapsed": true
   },
   "outputs": [],
   "source": [
    "# Computing GC Content\n",
    "# http://rosalind.info/problems/gc/\n",
    "\n",
    "def gc_content(base_sequence):\n",
    "    # Return the precentage of G and C characters in base_sequence\n",
    "    base_sequence = str(base_sequence)\n",
    "    seq = base_sequence.upper()\n",
    "    g = float(seq.count('G'))\n",
    "    c = float(seq.count('C'))\n",
    "    l = float(len(seq))\n",
    "    return (g + c) / l\n",
    "\n",
    "def key_with_max_val(d):\n",
    "    # a) create a list of the dict's keys and values; \n",
    "    # b) return the key with the max value \n",
    "    v=list(d.values())\n",
    "    k=list(d.keys())\n",
    "    return k[v.index(max(v))]\n",
    "\n",
    "def highest_gc_content(filename):\n",
    "    fasta_list = read_FASTA_sequences(filename)\n",
    "    gc_dict = {}\n",
    "    for i in range(0, len(fasta_list)):\n",
    "        name = fasta_list[i][0]\n",
    "        gc_dict[name] = gc_content(fasta_list[i][1])\n",
    "    max_key = key_with_max_val(gc_dict)\n",
    "    print max_key\n",
    "    print gc_dict[max_key] * 100"
   ]
  },
  {
   "cell_type": "code",
   "execution_count": 10,
   "metadata": {
    "scrolled": false
   },
   "outputs": [
    {
     "name": "stdout",
     "output_type": "stream",
     "text": [
      "Rosalind_2\n",
      "62.5\n"
     ]
    }
   ],
   "source": [
    "fasta_list = highest_gc_content('rosalind_gc.txt')\n",
    "fasta_list"
   ]
  },
  {
   "cell_type": "markdown",
   "metadata": {},
   "source": [
    "### Translating RNA into Protien"
   ]
  },
  {
   "cell_type": "code",
   "execution_count": 4,
   "metadata": {
    "collapsed": true
   },
   "outputs": [],
   "source": [
    "# Translating RNA into Protien\n",
    "RNA_codon_table = {\n",
    "    \"UUU\":\"F\", \"UUC\":\"F\", \"UUA\":\"L\", \"UUG\":\"L\",\n",
    "    \"UCU\":\"S\", \"UCC\":\"S\", \"UCA\":\"S\", \"UCG\":\"S\",\n",
    "    \"UAU\":\"Y\", \"UAC\":\"Y\", \"UAA\":\"Stop\", \"UAG\":\"Stop\",\n",
    "    \"UGU\":\"C\", \"UGC\":\"C\", \"UGA\":\"Stop\", \"UGG\":\"W\",\n",
    "    \"CUU\":\"L\", \"CUC\":\"L\", \"CUA\":\"L\", \"CUG\":\"L\",\n",
    "    \"CCU\":\"P\", \"CCC\":\"P\", \"CCA\":\"P\", \"CCG\":\"P\",\n",
    "    \"CAU\":\"H\", \"CAC\":\"H\", \"CAA\":\"Q\", \"CAG\":\"Q\",\n",
    "    \"CGU\":\"R\", \"CGC\":\"R\", \"CGA\":\"R\", \"CGG\":\"R\",\n",
    "    \"AUU\":\"I\", \"AUC\":\"I\", \"AUA\":\"I\", \"AUG\":\"M\",\n",
    "    \"ACU\":\"T\", \"ACC\":\"T\", \"ACA\":\"T\", \"ACG\":\"T\",\n",
    "    \"AAU\":\"N\", \"AAC\":\"N\", \"AAA\":\"K\", \"AAG\":\"K\",\n",
    "    \"AGU\":\"S\", \"AGC\":\"S\", \"AGA\":\"R\", \"AGG\":\"R\",\n",
    "    \"GUU\":\"V\", \"GUC\":\"V\", \"GUA\":\"V\", \"GUG\":\"V\",\n",
    "    \"GCU\":\"A\", \"GCC\":\"A\", \"GCA\":\"A\", \"GCG\":\"A\",\n",
    "    \"GAU\":\"D\", \"GAC\":\"D\", \"GAA\":\"E\", \"GAG\":\"E\",\n",
    "    \"GGU\":\"G\", \"GGC\":\"G\", \"GGA\":\"G\", \"GGG\":\"G\",\n",
    "}\n",
    "\n",
    "def translate_RNA_codon(codon):\n",
    "    return RNA_codon_table[codon]\n",
    "\n",
    "def aa_generator(rnaseq):\n",
    "    \"\"\"Return a generator object that produces an amino acid by translating\n",
    "    the next three characters of rnaseq each time nex is called on it\"\"\"\n",
    "    return (translate_RNA_codon(rnaseq[n:n+3])\n",
    "           for n in range(0, len(rnaseq), 3))\n",
    "\n",
    "def translate(rnaseq):\n",
    "    \"\"\"Translate rnaseq into amino acid symbols\"\"\"\n",
    "    gen = aa_generator(rnaseq)\n",
    "    seq = ''\n",
    "    aa = next(gen, None)\n",
    "    while aa:\n",
    "        if aa == 'Stop':\n",
    "            aa = next(gen, None)\n",
    "        else:\n",
    "            seq += aa\n",
    "            aa = next(gen, None)\n",
    "    return seq"
   ]
  },
  {
   "cell_type": "code",
   "execution_count": 12,
   "metadata": {
    "scrolled": false
   },
   "outputs": [
    {
     "data": {
      "text/plain": [
       "'MDHFGRLQGPLSRELRPCKDKQTSLSIKALMPDRFSNRMWKGHLDCDIVQLLGGRMFLLTHELIKFSGRFTQTSFAAVDSAQETNEVYNTQSSPAHGGPKEVSETTLLQKRSHNTCALGSPQRTIYRRYLRYYCIKVSQCIDAIVDHVPNTAFIFLYRWTDCGTITSAIHGYRGTITYMRHWSQHCWLPQNQRTLGWSATLGSLLGTRKPNHESVSHWAFYVHQNSWNCLYFTTHFAASAHAIARSPRKQAKSDLRSMRRILYSALLSLNGGRKEWQRLISKCHRHSYNCLYLTFRLLVSPPVDPTTGCWSEQIRTTRSTQRVIRSLHTRVLSLALRVSLDFSVRGKGSTRFPPPTSSMRTRPRGKNKPLGQSPPKAVQLVREHQRLERQNTRNGCCVWGKRAETHPLGVRKFAFLCYGQHRATKGYRNVCPSSFKHVVPRHVSVRQFKVDGGRLCFKPRVNSWARALCTTRRDIYKQATNPRLGYYGSSVNLDVVANLSSACLGKLTPLGTTTYGLQKGWTGQSVADLTSVQFSFIRSAFKSNSIVRPPHSIEIALNHTRPSAAELRQCVLCSPLTFQQTRTCPLPGCFFSPARHDGMSKGTWRYRGYCKTCISGTPDGRPYYANLCDEQPGPVLRLTRVGLCLLRQAISVLPLSKLILFSCSPGSSLGAHEPVLFRTASNFVNSALFRIEDDAIPYRRGMLLKSSRVCIYLVIPPQEPESKAVSYSISKDCVARATQVISKSGLVPFLPSVYTTPRPELDDVLWRVKFVSVPPRHRRPYSSTIPSEAREAYCTTGSIEWRARYFRRNICLAMWEGQNHRGLREGYEYGSHLTLLYTTGSRSCSIAGLSMPLVRVHAEYAHAESTPASGYTVSTSEYGMLRWYGKPLVILYSMEIEWGGRIRSKSQTLTNRTLDVDISVRPPLKRSLAKIGMRELKANKLERLVRNAPERCLDFDYTSICVVGKFLKLSTSACFRGITYRYVNGGSKSTFEIELMSRSSGSEQWRYWPNPTHKLPFNLYDLECLTELSIRRRVAASRQFRNRSTYPCISDFPYVQRGDRHKAVSISCREWMTANKLNLGRVVPRYTQAAIPSRSFTSTTSGSCMLVEKSGRTICFHKLVYSLAWPHYRSSPCPLQIMITFTPTLHTTVEKVGGHRTFDFLHSISQPWDGYLVSAHGNREVTSLVRALRITFIDVKIVVDKESSQIYLSWRPDKSKADSLLSLTLECTRKTSRPSWKHCKLMACTGMCPLSPYDTVLRLYSNGQGRLIPAPCKGSSGNRSAKFGWKTYQTERIYYVRESRVVNVLQGLAWKHQKELPTLLGSKHSINIRIHSGARWAVILHKCWSAPRLAELFCVHPVSLRGAGIAYTHMPRHRATTRLGPIRRPGSVPRTQIHDKGYVRLRGVYIRGCSCLRAYNIRRTYLRSVNASITCHSSYFNNTPPATRKRTEVSTSCCSVISRENVASLLSLALFPLPAGRSQRTARLRHLTSRHPSESSTPAGISTSARIYWPRPPGKHVWLYVTGTHGKGTHEQIPAGRSFLTSRRPFAIERYKCYKSEPTSTRFYKLPTHDVRNDLARGRNRRDFQVVLMMTLGACVGNAYASFRRERVNVRCQESGQGRLLAIQVNVTGPRQAASKATRKYVSRTRDLCMVPHSSVSFQLRSSKRVGQNQVNIARCKLVSAATSARGAEKMETLKQATFDTLMSIVSEIKVRVLAPNSLRTASFRIHDFLEHQKVVRHTTKNTPEVMPRLIPCVLPSGTQPWFAPNVKLLSKMFTHRGLHGRVSTIPTSAPPTVFVQDYATCWTKEVTTTPERYRGPMGGCDGSSTAPYTDRLSKLRPIRIRLLVCALDAHSLMPWCCLWPHSSPHRSSRRPNKLNEYPIVTDLSINNGCRSTRAYSISYLIDSGDNFKGSCSRASTFSDANHARVNCNCYRLDHSADHRFSRRRTTLRLAALFTHSYVHPVTSVTVVGISNTHRSGLQPLSRALQPWRMRGTHTIELSTELTTFSRLWKCKTYVAPTEHFLCVLATGWTMISLQHARERCHTERKTAAIVAFGRTRQSNASHGNHTCGLGLIGTCIYKCSTAVVIWIGLGPIPRSCRASVLNGYVPLSLEHTLHVSNSKGPISKRDSRWDFWEPYLIRKGHATRPTCSKSSAFGFARSGVPHSLPALMVCTSEEIIRLIGNLKRSADFQGGCEECLNALIPAREGQTNVRASSFLSGEGMLATRAPSSDVTCKILQVDIVDRNLNFKSPSLFGGALKYIGKYRRQTRIGNGIRRFVRTDYHRPGHHIELGEQLTWRQNEPTGIIAVCNWFVAVSDTSSFQLYISVHLLKVGTRQHTGSIDGRSTVPLLHSDLSTTEGIRIKGGRFEDCLRPHGWVTASRGGVPRLRYWPGRREEGTLSGICKEGTPTALPHSALCLNEPQVIGSPRAHLIRRDGILFRKAGLICVLVGMSRNSHIRCLIPYERRPSHSLRRLEQLVSHAKPTMTQTAVLAILLSTYTGQLLLARFGGFAVAGLIEARFWDSILLVALPTTCRSAPRMSTRPRIRPPRTLPIEASSDSDASANFQLDVASPDYTYNTTVHLCFCIISPQFGRTPLKTNEGSKSSADRTVSITYESGGSSRSTRPVQLVRIAPLGKDTRYLTSMSRIVNLQVDGVAQCSTSVNEGVHSLVRRVTGGVIGASYAYSMEEVSPDPTFVGKPTTSCQEVILSVGRMGKASIS'"
      ]
     },
     "execution_count": 12,
     "metadata": {},
     "output_type": "execute_result"
    }
   ],
   "source": [
    "rnaseq = 'AUGGACCAUUUUGGGAGACUUCAAGGACCACUCUCGCGAGAGCUACGUCCCUGUAAGGACAAACAGACCUCACUCUCGAUUAAGGCACUAAUGCCGGACCGAUUUUCCAACAGAAUGUGGAAAGGCCAUCUCGAUUGCGACAUAGUGCAGCUACUCGGAGGGCGUAUGUUCUUAUUGACUCAUGAGUUAAUCAAAUUUUCGGGGCGUUUUACGCAGACAAGCUUUGCAGCAGUUGAUUCGGCCCAAGAAACCAACGAAGUCUAUAAUACACAAUCGUCUCCAGCUCACGGAGGACCCAAAGAAGUGUCGGAGACGACACUUCUACAAAAGCGUUCCCAUAACACAUGCGCCCUUGGCUCACCCCAGAGAACUAUCUAUAGAAGAUAUUUGAGAUAUUACUGCAUUAAGGUUUCCCAGUGUAUUGACGCGAUUGUGGAUCACGUUCCAAACACGGCUUUCAUAUUUUUGUAUCGGUGGACCGAUUGCGGUACAAUUACGAGUGCGAUACACGGGUACCGAGGUACGAUAACAUACAUGCGGCACUGGUCACAGCACUGCUGGCUCCCCCAAAACCAACGUACACUGGGGUGGAGUGCUACCCUGGGCUCUUUGCUGGGGACACGGAAGCCCAAUCACGAAUCCGUGUCCCAUUGGGCCUUUUACGUUCACCAGAAUUCUUGGAACUGCUUGUACUUUACUACACAUUUUGCAGCCUCUGCACAUGCGAUUGCCCGGAGUCCUAGAAAGCAGGCAAAGUCUGACUUACGUUCCAUGAGGCGUAUUCUCUACUCGGCGUUGUUAAGUCUGAAUGGGGGGAGGAAAGAGUGGCAAAGGCUGAUUAGCAAAUGCCAUCGGCAUUCAUAUAAUUGUCUGUACUUAACUUUCCGAUUGCUAGUUUCACCACCGGUCGAUCCCACGACCGGAUGUUGGAGCGAACAAAUUAGAACGACUCGAUCCACGCAGCGCGUAAUAAGAUCCCUUCACACCCGUGUCCUCUCUUUGGCUCUGCGGGUCUCACUGGACUUUUCUGUCCGUGGCAAAGGUUCCACACGCUUUCCCCCCCCUACGUCUAGUAUGCGGACGCGCCCAAGGGGUAAAAACAAACCCUUGGGGCAAUCGCCACCAAAAGCCGUUCAGCUAGUCCGUGAGCACCAACGUCUUGAACGGCAAAAUACGCGGAACGGUUGCUGUGUAUGGGGAAAACGUGCAGAAACACACCCCUUAGGCGUCCGUAAAUUCGCCUUUCUGUGCUAUGGCCAACAUAGAGCAACAAAGGGGUACAGGAAUGUGUGUCCAAGCAGCUUUAAACAUGUAGUACCCAGGCAUGUGUCGGUUCGUCAAUUCAAAGUGGAUGGUGGGAGACUAUGCUUCAAGCCCCGAGUAAAUAGCUGGGCACGAGCGUUAUGUACCACUCGGAGGGAUAUCUAUAAGCAGGCGACAAACCCUCGCCUAGGGUAUUACGGAAGCAGUGUAAAUCUGGAUGUCGUCGCGAAUCUGAGCUCUGCGUGCCUGGGAAAGCUCACACCCUUAGGGACUACCACCUAUGGGUUACAGAAAGGCUGGACGGGGCAAUCAGUUGCGGACCUUACAAGCGUCCAGUUCUCUUUCAUCCGGUCUGCGUUUAAAUCAAAUUCAAUUGUGCGUCCGCCUCACAGCAUUGAGAUUGCUCUAAACCACACUCGGCCGUCCGCAGCCGAGUUGCGCCAAUGCGUCCUCUGUAGCCCUCUUACAUUCCAACAGACUAGAACUUGUCCCCUCCCAGGGUGUUUUUUUUCUCCUGCCCGUCACGAUGGUAUGUCAAAGGGUACAUGGCGAUAUAGAGGCUACUGCAAAACAUGCAUUAGUGGGACACCAGAUGGCAGACCCUACUAUGCAAACUUGUGUGAUGAGCAGCCGGGACCGGUGUUACGGCUCACGCGCGUUGGUUUGUGCUUAUUACGGCAAGCUAUAAGUGUGCUUCCCCUCUCUAAACUCAUUUUGUUCUCCUGCAGUCCAGGUAGCUCCCUUGGGGCGCAUGAACCGGUCUUAUUCAGAACAGCCAGUAACUUUGUGAAUUCUGCAUUAUUUCGCAUAGAGGAUGACGCGAUACCUUAUCGUAGAGGAAUGUUACUCAAGUCGUCGAGGGUUUGUAUUUAUUUAGUCAUCCCACCGCAAGAGCCAGAAUCAAAGGCUGUUAGUUACAGCAUCUCCAAGGACUGUGUUGCCCGUGCCACGCAAGUAAUAUCAAAAUCAGGUCUCGUGCCAUUCUUACCAAGCGUGUACACUACCCCCAGGCCCGAGCUAGAUGACGUUCUGUGGCGAGUCAAAUUCGUCAGCGUUCCCCCGAGACACAGAAGGCCUUACAGCUCCACCAUUCCAUCCGAAGCGCGCGAAGCGUAUUGCACCACGGGGAGUAUAGAAUGGCGCGCUAGGUACUUUCGACGGAAUAUAUGCCUUGCUAUGUGGGAGGGCCAAAAUCAUCGGGGCUUGCGUGAGGGCUAUGAGUAUGGUUCACACCUGACCUUACUUUAUACGACCGGAAGUCGUUCCUGUUCCAUUGCCGGAUUGUCCAUGCCUCUUGUAAGGGUACAUGCUGAAUAUGCGCAUGCAGAAUCGACGCCCGCGUCAGGCUAUACGGUUUCCACGAGUGAGUACGGUAUGCUUCGAUGGUAUGGCAAGCCACUGGUGAUCCUAUACUCUAUGGAGAUCGAAUGGGGCGGGAGAAUAAGGAGCAAGUCACAAACGCUGACUAACCGCACGUUGGAUGUCGAUAUCUCAGUCAGACCGCCUCUUAAACGGUCAUUAGCCAAAAUAGGGAUGCGUGAAUUAAAAGCGAACAAGUUGGAGAGAUUGGUUAGAAACGCGCCGGAGCGUUGUUUAGACUUUGACUAUACGUCGAUUUGUGUUGUGGGGAAAUUUCUGAAACUCUCAACAUCUGCAUGCUUUAGGGGUAUUACUUAUCGUUACGUUAACGGGGGGUCAAAAAGUACUUUUGAAAUAGAACUGAUGUCCCGCAGUUCUGGGUCCGAACAGUGGAGAUAUUGGCCCAAUCCUACUCAUAAGCUGCCGUUCAACUUAUAUGAUCUGGAAUGCCUUACAGAGCUAAGCAUCCGGCGUCGGGUUGCUGCGAGCCGUCAGUUCCGGAACCGCAGUACCUAUCCGUGCAUAUCGGACUUCCCGUACGUACAGAGGGGAGAUAGGCAUAAAGCGGUCAGCAUCUCUUGCCGAGAGUGGAUGACUGCCAACAAGUUGAAUCUAGGACGCGUAGUGCCACGGUACACCCAGGCAGCAAUACCUUCUCGGUCGUUCACAUCGACUACUUCAGGGAGCUGCAUGCUUGUAGAGAAGAGCGGCAGAACGAUCUGCUUCCAUAAGUUAGUAUACUCUCUUGCAUGGCCGCACUACCGGAGUAGUCCUUGUCCACUCCAGAUCAUGAUUACCUUUACACCCACACUUCAUACAACCGUUGAAAAAGUCGGCGGGCAUAGAACGUUCGACUUUUUACAUUCCAUCAGUCAGCCAUGGGAUGGCUAUCUAGUUAGCGCCCACGGAAAUCGUGAAGUGACAUCACUUGUGCGGGCUCUUAGAAUUACUUUUAUAGACGUGAAGAUCGUGGUAGAUAAGGAAUCCAGUCAAAUAUACCUUAGCUGGAGGCCGGAUAAGUCCAAGGCCGAUAGCUUGUUGUCAUUGACACUCGAAUGUACUCGGAAAACAUCACGACCUAGCUGGAAACACUGUAAGCUAAUGGCUUGCACAGGGAUGUGCCCUUUAUCACCGUAUGAUACGGUACUACGCCUAUACAGCAAUGGACAGGGGCGGCUGAUUCCGGCUCCUUGUAAAGGUUCCUCGGGGAACAGGUCCGCUAAGUUUGGAUGGAAGACAUAUCAGACAGAGCGAAUAUACUACGUAAGAGAGUCCAGAGUAGUAAACGUUCUUCAGGGUCUCGCAUGGAAACACCAGAAAGAGCUUCCCACUCUCCUUGGAUCGAAACAUUCAAUAAAUAUACGUAUCCACAGUGGAGCCAGAUGGGCGGUCAUUUUACACAAGUGUUGGAGUGCGCCUCGUUUGGCGGAGUUGUUUUGUGUACAUCCAGUCUCGCUACGCGGUGCCGGCAUCGCGUACACGCAUAUGCCUCGCCACCGCGCAACCACUAGGCUGGGUCCUAUUCGACGACCCGGCUCUGUUCCCAGGACGCAAAUUCACGACAAAGGGUAUGUACGCUUACGUGGCGUAUAUAUACGUGGGUGUAGUUGUCUCAGAGCGUACAAUAUUCGACGCACUUAUUUACGCUCCGUCAACGCGAGCAUUACAUGCCAUAGUAGUUACUUUAAUAACACCCCCCCAGCGACCCGCAAGAGAACCGAAGUCAGCACGUCCUGCUGCAGCGUGAUUUCCAGGGAAAAUGUGGCCUCGCUAUUGUCGUUAGCUCUUUUUCCUCUGCCUGCUGGCAGAUCUCAACGAACAGCCAGGUUGAGACACCUGACCUCCAGGCAUCCGUCAGAAUCGUCUACACCAGCGGGAAUUUCAACUAGCGCCCGGAUAUAUUGGCCCCGUCCUCCAGGAAAGCAUGUGUGGCUGUACGUCACUGGGACACAUGGGAAAGGAACCCACGAACAAAUACCGGCCGGUCGCUCAUUUCUGACUUCACGACGACCCUUCGCCAUUGAGAGAUACAAGUGUUAUAAGUCAGAACCUACCAGUACACGCUUUUAUAAACUGCCCACCCACGAUGUGAGGAACGACCUCGCACGCGGCCGGAAUAGACGGGACUUCCAAGUAGUGUUGAUGAUGACAUUAGGAGCUUGUGUAGGAAACGCAUACGCGAGUUUCAGACGGGAGCGAGUGAAUGUACGGUGUCAGGAAUCAGGCCAGGGGAGGCUGUUAGCGAUUCAGGUUAAUGUGACUGGACCUCGCCAAGCUGCGUCCAAAGCAACGAGAAAAUACGUCAGCCGAACAAGGGACCUGUGUAUGGUACCGCACAGUAGCGUUUCAUUUCAACUUCGAUCUUCAAAGCGGGUAGGACAGAAUCAGGUGAAUAUCGCGCGAUGUAAACUAGUUAGCGCAGCAACGUCGGCUCGAGGUGCCGAAAAAAUGGAGACGCUGAAGCAGGCGACCUUCGACACUCUUAUGAGUAUCGUAAGUGAAAUAAAAGUGCGCGUUCUGGCACCUAAUAGUUUGAGGACGGCGAGCUUUCGUAUCCACGAUUUUCUAGAGCAUCAAAAGGUAGUAAGGCAUACGACGAAAAAUACCCCAGAGGUCAUGCCACGGCUAAUUCCGUGCGUUCUACCGAGCGGGACUCAGCCUUGGUUUGCCCCCAAUGUAAAACUGCUUUCCAAGAUGUUCACCCAUCGUGGGUUGCAUGGUCGGGUAUCUACUAUCCCUACGAGCGCUCCUCCAACAGUCUUUGUUCAAGAUUACGCCACGUGCUGGACGAAAGAAGUAACUACAACGCCUGAGCGGUAUCGCGGCCCUAUGGGUGGAUGCGACGGAAGCAGUACAGCACCAUACACAGACCGACUUAGCAAGCUUCGACCCAUUAGGAUUCGCUUACUAGUCUGCGCAUUGGACGCACACUCACUAAUGCCUUGGUGUUGCUUGUGGCCGCAUAGUAGUCCACACCGUAGUUCUCGCAGACCUAAUAAGUUGAACGAGUACCCGAUAGUUACGGAUUUGUCAAUCAACAAUGGUUGCCGUAGUACGCGCGCUUACUCAAUCUCUUACCUUAUCGACUCGGGCGACAACUUUAAAGGUUCGUGUAGUCGCGCUUCUACGUUUAGCGAUGCGAAUCAUGCCCGCGUAAACUGCAAUUGUUACCGUUUAGAUCAUAGCGCCGACCACCGGUUUAGCCGGCGCAGGACAACGCUCCGACUUGCGGCUCUAUUUACUCACAGCUAUGUUCAUCCAGUGACGUCAGUGACUGUCGUAGGUAUAAGUAAUACACAUAGGUCUGGCUUACAACCCCUUUCGCGGGCUCUCCAACCGUGGAGGAUGCGAGGUACGCACACUAUAGAGCUUUCCACUGAGCUCACCACAUUCUCUCGGCUUUGGAAAUGUAAAACAUAUGUCGCCCCUACUGAACAUUUUCUAUGUGUGUUAGCGACCGGAUGGACAAUGAUAUCGCUGCAGCACGCAAGAGAGCGGUGUCACACCGAGCGAAAGACAGCGGCAAUCGUUGCGUUCGGCAGAACUAGGCAGUCAAAUGCUUCCCACGGAAAUCAUACAUGUGGUCUAGGCCUCAUAGGUACUUGUAUUUAUAAAUGCAGUACCGCCGUGGUAAUUUGGAUCGGACUAGGUCCCAUACCUCGCUCUUGUCGGGCAAGCGUACUUAAUGGCUAUGUGCCGUUGUCUUUAGAGCAUACUCUGCACGUUAGUAAUUCAAAAGGACCCAUCUCAAAACGCGACAGUCGUUGGGAUUUUUGGGAGCCAUAUUUAAUACGGAAGGGACACGCAACGCGACCCACCUGCAGCAAAUCUAGUGCCUUCGGGUUCGCUAGGAGCGGCGUACCACACUCACUGCCUGCUUUAAUGGUUUGCACGUCGGAAGAGAUAAUAAGGUUGAUUGGAAAUCUUAAAAGAAGUGCCGAUUUCCAGGGCGGGUGUGAAGAGUGUUUGAACGCAUUGAUCCCCGCUCGGGAGGGGCAGACGAACGUUCGAGCUAGCAGUUUCUUAAGUGGAGAGGGGAUGCUUGCCACGCGUGCUCCUUCGAGCGAUGUAACAUGUAAAAUCUUGCAGGUCGAUAUUGUGGACCGAAAUUUGAACUUUAAAAGUCCUUCCCUAUUCGGCGGUGCUUUGAAAUACAUCGGUAAAUAUCGAAGGCAGACCCGGAUAGGUAAUGGCAUUCGGCGAUUCGUACGGACUGAUUAUCACAGGCCCGGGCACCACAUUGAGUUGGGAGAACAACUGACAUGGCGUCAAAAUGAACCCACUGGGAUAAUUGCCGUAUGCAAUUGGUUUGUAGCCGUCAGUGACACCUCCUCUUUUCAGUUGUACAUAUCGGUCCAUCUCUUAAAAGUUGGAACAAGACAGCACACGGGAUCAAUCGAUGGAAGAUCCACAGUUCCCUUAUUACAUUCUGAUCUAUCCACGACUGAGGGUAUUAGAAUUAAGGGUGGCCGUUUUGAGGACUGUCUCCGGCCUCAUGGCUGGGUGACCGCGUCGAGAGGCGGAGUCCCCCGGCUACGCUAUUGGCCUGGACGUAGAGAGGAAGGCACGCUAAGUGGGAUUUGCAAGGAAGGCACCCCAACUGCCCUUCCCCAUUCCGCGCUGUGUUUGAACGAGCCACAAGUAAUUGGCAGCCCUAGGGCCCACCUUAUACGACGAGACGGUAUAUUGUUCCGAAAGGCAGGUUUAAUAUGUGUGCUGGUCGGUAUGUCGAGAAACUCUCAUAUCCGUUGUUUAAUCCCUUACGAGAGACGGCCUAGCCAUUCGUUAAGGCGUCUAGAACAGCUUGUCUCACACGCGAAACCUACCAUGACCCAGACCGCGGUGUUAGCUAUUCUCCUAAGUACUUACACAGGUCAGCUGCUCUUGGCCCGGUUUGGCGGCUUUGCAGUAGCCGGAUUGAUUGAGGCCAGAUUUUGGGAUAGCAUUCUCUUGGUAGCACUGCCUACCACCUGCCGUAGCGCUCCGCGUAUGUCGACGCGACCGCGAAUAAGACCGCCACGUACCCUCCCAAUAGAAGCCUCAUCGGACUCUGACGCCUCCGCGAAUUUUCAGCUAGAUGUCGCGUCACCUGACUACACUUACAAUACGACAGUCCAUCUUUGCUUCUGCAUAAUUAGUCCGCAGUUCGGGAGGACUCCCUUAAAGACCAACGAAGGGAGUAAAAGUUCUGCAGACAGAACCGUCAGUAUUACUUACGAGUCCGGGGGCAGUAGUAGAUCGACGCGCCCGGUUCAGUUGGUAAGGAUUGCCCCGUUGGGGAAGGAUACUCGCUACUUGACGAGCAUGUCUAGGAUCGUCAACUUACAGGUGGACGGUGUCGCCCAGUGCAGUACCAGUGUAAAUGAAGGUGUCCAUUCUCUUGUGCGACGAGUCACAGGCGGUGUUAUUGGUGCUUCAUACGCUUAUUCCAUGGAAGAAGUUAGUCCCGACCCAACGUUCGUCGGAAAGCCAACUACAUCGUGCCAAGAGGUAAUCCUCUCCGUUGGUAGGAUGGGUAAAGCAAGCAUAUCAUGA'\n",
    "\n",
    "translate(rnaseq)"
   ]
  },
  {
   "cell_type": "markdown",
   "metadata": {},
   "source": [
    "### Finding a Motif in DNA"
   ]
  },
  {
   "cell_type": "code",
   "execution_count": 20,
   "metadata": {
    "collapsed": true
   },
   "outputs": [],
   "source": [
    "# Finding a Motif in DNA\n",
    "# http://rosalind.info/problems/subs/\n",
    "\n",
    "def find_all(a_str, sub):\n",
    "    start = 0\n",
    "    while True:\n",
    "        print \"start before find:\", start\n",
    "        start = a_str.find(sub, start)\n",
    "        if start == -1: return\n",
    "        print \"start after find:\", start\n",
    "        yield start\n",
    "        print \"start after yield:\", start\n",
    "        start += 1"
   ]
  },
  {
   "cell_type": "code",
   "execution_count": 22,
   "metadata": {
    "scrolled": true
   },
   "outputs": [
    {
     "name": "stdout",
     "output_type": "stream",
     "text": [
      "start before find: 0\n",
      "start after find: 1\n",
      "start after yield: 1\n",
      "start before find: 2\n",
      "start after find: 3\n",
      "start after yield: 3\n",
      "start before find: 4\n",
      "start after find: 9\n",
      "start after yield: 9\n",
      "start before find: 10\n"
     ]
    },
    {
     "data": {
      "text/plain": [
       "array([1, 3, 9])"
      ]
     },
     "execution_count": 22,
     "metadata": {},
     "output_type": "execute_result"
    }
   ],
   "source": [
    "import numpy as np\n",
    "\n",
    "dna = 'GATATATGCATATACTT'\n",
    "motif = 'ATAT'\n",
    "# dna = 'CCGACCTCCGACCTCCCGGCACCGACCTCCGACCTCATCAACCGACCTCCGACCTCCCGACCTAAACGCCGACCTAGTCCGACCTAGCCCGACCTCCGACCTCCGACCTCCACCGACCTCGGCCGACCTCCGACCTTCCCGACCTCCCGACCTCTCCCGACCTACCGACCTGACGCCGACCTTCCGACCTCCGACCTTCCGACCTCTCCGACCTGGCCGACCTGTACCGACCTACTGAATGCTCTTAGCCGACCTGTGCTTTTACCGACCTGCCGACCTGTCCGACCTGTTTCACAAGGATCCGACCTCCGACCTCCCGACCTCCGACCTGATTCCGACCTAAACCGACCTATCGGACCCGACCTCCGACCTCCGACCTCATCGCCGACCTGTCCGACCTGCCCGACCTCCGACCTCCCGACCTCCGACCTTTACTCCCGACCTCATACCGACCTACCGACCTGTACCGACCTAACCGACCTCCGACCTCACCGACCTATACCCCGACCTTTCCGACCTCCGACCTACCCGACCTCCCCCGACCTCCGACCTTCGGGCGCCCGACCTACTCCCGACCTGTGGACCGACCTCCCGACCTATTGCCGACCTCCGACCTCCCCGACCTTGATACCCGACCTCTATCCGACCTTCCGACCTTCCGACCTATCGCCGACCTGCGCCGACCTAGCACCCGACCTCCGACCTGGAGCCGACCTTTATCTGGTCCGACCTCCGACCTCCGACCTGAGTAAACCGACCTGCCGACCTCCGACCTTCGCCGACCTACCCGACCTGATCCGACCTGCCGACCTCCCGACCTGGCCGACCT'\n",
    "# motif = 'CCGACCTCC'\n",
    "\n",
    "y = list(find_all(dna, motif))\n",
    "y = np.array(y)\n",
    "# y = y + 1\n",
    "y"
   ]
  },
  {
   "cell_type": "markdown",
   "metadata": {},
   "source": [
    "### Counting Point Mutatnions"
   ]
  },
  {
   "cell_type": "code",
   "execution_count": 15,
   "metadata": {
    "collapsed": true
   },
   "outputs": [],
   "source": [
    "# Counting Point Mutatnions\n",
    "def hamming_distance(s1, s2):\n",
    "    #Return the Hamming distance between equal-length sequences\n",
    "    if len(s1) != len(s2):\n",
    "        raise ValueError(\"Undefined for sequences of unequal length\")\n",
    "    return sum(ch1 != ch2 for ch1, ch2 in zip(s1, s2))"
   ]
  },
  {
   "cell_type": "code",
   "execution_count": 16,
   "metadata": {},
   "outputs": [
    {
     "data": {
      "text/plain": [
       "466"
      ]
     },
     "execution_count": 16,
     "metadata": {},
     "output_type": "execute_result"
    }
   ],
   "source": [
    "s1 = 'CTTTTTCCATCGCTCGATGTTAAACCTCTACGAGGGCCCCTGTGGTCCGGTGATGGCTCTAGGCTCTACGCTAACAGATCCGAAACGCCAGAGGTGCCCCATAGCTGCTAACTCACAATCATTACTCTCACATCAGCTTACATACCTAGCCGCAATCCCTTACATTAAATTGCCCCAACGACAAGGTTCAATCATACTAAAATCCTACTACGTGTGAGACTGATCGTACATAACTCAAGCTCAAGCTATATGTGTCCCGGCAGGCTTGCGACTCGATCATACATCATAGTTACGGTAATTAAAAACCAGTTGATCGGACGCAAGTGATCGGCCGCTGTATGCTTGACACCCTGTAATACTACCGCATTCTAGTCACATCCCTAAATCTAATGAAGCAGTTGTAAAAGACGCGAACATAAGAGCATCCAGCCGAGCGGGACACATGGCGTTGACCTCTATTCAGAGCCGCTACCATAAATACAGGGTATGTCCTTCAATCCTTGAGCGCGAGCCCTAATCCGGAAGGATAGTTTCGGCAATCAATTCCATCACTGCGTGTAACCCGGGAGTAGCAGGCTATTGGTCATTATGTGACATCCTATCATGGGGTTATAAGGCAATCACCTGGAATAAGACCTAGTGTGGAAGGGCCTACTGGAGAGCTAGCCACTGGATGGCTCTTGCCCAGGCCAACTGACGAAATACCCGATTGGTGCCAGTACCGTTCTAGTCGCACGTATTAGCGGGGGGGCCACGCCGCGCCGCGATTGACATAGTGCCCGGGTCTCGTATGTTTGAAACCGTACCTGTGATGCGCCTACACGAGTACTACTTTATATTACCGACAACCATACACGCGAGCTTTAAATAGCGATGTTCTGGAGTGCTCTCACATATGATGTCGATGCTCAACAAGAAGTATTGCCTGGAAGTAGTGAAGTAATTGCTAAATTGAGTGATTTTATTCTTGGTAACAGACCCGAAGTTCCTTGCG'\n",
    "s2 = 'GTATTAAGCTCACGACATGATGACACCTTCCCTGTTCCCCTACGGTCTGCTAAATGGTATAAACTCTACGCTATCACATCCACATCGTAAGGGATGACGAAGAACATATAAAGGCGGCTCCGTAAGCTAACCTTAACATACCTACACAATTCCAATACCGAAAGTTGAACTGCCGGAAAGCCGAGGGCCGATTCGACCAAAATCCTTGGGCGTGTTAGCATGATGGCTTTTTATTCAAAATCTAAGTACATTTCCCCAGACAACGAAGCGAGTCGGAATTACATAAGACTAACGGAACTTCCAAACCACTCGATTGAATGCAAGTGCTAGGCCGCGCTAGCAAGCCATCGCTCCGCTGCTCGATCAGAGTGCAGAGGCCCATTAAATGGTTGAGGCTCACAAAAGATCCGGGAGCTTCAAACGATCAAGACTCCGTGGACACGTGAAGTTCACCCCTATTCATCTCCGTGGTTATGGCTACCTGGTTGGCTTTGCAATTTCCGACCGCCTGCCCAGATACGGAAACTTGGGTTACCCAACCAATTCCCCGCCTGCGTCTCATGCGGCTGCAGCTATCTGGCCGCTTTTGTATAAAATTATATCACCGGGTTATTAACCACTGTCTTTGACTCCGACCGCAGCGAAAACGGCCAGGTTGGTAGGTGGCGACTAACCCGTTTGGCTCGAGTCACGCTCGCGACATAAGCAGTTGAATTATGATTTGCACACGTCGAACGTGTCAGCGGGTTGGACGCTCAGTTGCACGCCGTCCATATGTCTCCATTCTCATCTCCTTACAGCGGTACCGTGGAGGCATATAGGGGAGTACTGCCTGACATATCCATTACTCAAGAACGGGAGGTGTGTATAGAAGGTCTCTCGAGAGGCCTAAGCCTGGATATGACTGGTTAAATACGCGGACTGATCGGAGTAATTCAAGTAATTGTCATAGCAATCGTGAAATTCCTTCTTATCGAGTCCGAAGTTCTTGGAA'\n",
    "\n",
    "hamming_distance(s1, s2)"
   ]
  },
  {
   "cell_type": "markdown",
   "metadata": {},
   "source": [
    "### Calculating Expected Offspring"
   ]
  },
  {
   "cell_type": "code",
   "execution_count": 38,
   "metadata": {},
   "outputs": [
    {
     "data": {
      "text/plain": [
       "123680.5"
      ]
     },
     "execution_count": 38,
     "metadata": {},
     "output_type": "execute_result"
    }
   ],
   "source": [
    "# http://rosalind.info/problems/iev/\n",
    "# array = (1, 0, 0, 1, 0, 1)\n",
    "\n",
    "geno_dict = {\"AA-AA\": 17804, \n",
    "             \"AA-Aa\": 19798, \n",
    "             \"AA-Aa\": 19570, \n",
    "             \"Aa-Aa\": 19533, \n",
    "             \"Aa-aa\": 19633, \n",
    "             \"aa-aa\": 19957}\n",
    "\n",
    "def cal_exp_offspring(geno_dict):\n",
    "    for i in geno_dict:\n",
    "        geno_dict[i] = float(geno_dict[i])\n",
    "        \n",
    "    multiplier = {\"AA-AA\": 1.0, \n",
    "                  \"AA-Aa\": 1.0, \n",
    "                  \"AA-Aa\": 1.0, \n",
    "                  \"Aa-Aa\": 0.75, \n",
    "                  \"Aa-aa\": 0.50, \n",
    "                  \"aa-aa\": 0.0}\n",
    "    exp = 0\n",
    "    for x in geno_dict.keys():\n",
    "        exp = exp + 2 * geno_dict[x] * multiplier[x]\n",
    "    return exp\n",
    "\n",
    "cal_exp_offspring(geno_dict)"
   ]
  },
  {
   "cell_type": "markdown",
   "metadata": {},
   "source": [
    "### Mortal Fibonacci Rabbits"
   ]
  },
  {
   "cell_type": "code",
   "execution_count": 96,
   "metadata": {
    "collapsed": true
   },
   "outputs": [],
   "source": [
    "# http://rosalind.info/problems/fibd/\n",
    "def fib_rabbits(n, k):\n",
    "    # n = number of Months\n",
    "    # k = number of offspring\n",
    "    \n",
    "    # base case: in the first month there is only one pair of rabbits\n",
    "    if n == 1:\n",
    "        return 1\n",
    "    # base case: in the second month there is k amount of rabbits + 1\n",
    "    elif n == 2:\n",
    "        return k\n",
    "    \n",
    "    # Fibonacci's sequence F(n) = F(n-1) + F(n-2)\n",
    "    one_gen = fib_rabbits(n - 1, k) # F(n-1)\n",
    "    two_gen = fib_rabbits(n - 2, k) # f(n-2)\n",
    "    \n",
    "    # Size of populaiton up to the 4th gen can be predicted by adding gen1 and gen2\n",
    "    if n <= 4:\n",
    "        return one_gen + two_gen\n",
    "\n",
    "    # Multiplying the number of offspring born during each mating with the \n",
    "    # number of rabbits two generations ago, gives us the number of offspring \n",
    "    # in the current generation. We simply add this to the number of rabbits \n",
    "    # one generation ago to get our answer.\n",
    "    return (one_gen + (two_gen * k))\n",
    "\n",
    "def dying_fib_rabbits(n, m):\n",
    "    # n = number of Months\n",
    "    # m = number of months to live\n",
    "    print n, m\n",
    "    # base cases: \n",
    "    if n <= 0:\n",
    "        print 'return 0'\n",
    "        return 0\n",
    "    if n == 1:\n",
    "        print 'return 1'\n",
    "        return 1\n",
    "    # Fibonacci's sequence F(n) = F(n-1) + F(n-2)\n",
    "    # one_gen = dying_fib_rabbits(n-1, m) # F(n-1)\n",
    "    # two_gen = dying_fib_rabbits(n-2, m) # f(n-2)\n",
    "    x = m+1\n",
    "    if m <= n:\n",
    "        print 'm <= n:'\n",
    "        return dying_fib_rabbits(n-1, m) + dying_fib_rabbits(n-2, m)\n",
    "    elif n == x:\n",
    "        print 'n == (m + 1)'\n",
    "        return dying_fib_rabbits(n-1, m) + dying_fib_rabbits(n-2, m) - 1\n",
    "    else:\n",
    "        print 'else'\n",
    "        return dying_fib_rabbits(n-1, m) + dying_fib_rabbits(n-2, m) + dying_fib_rabbits(n-(m+1), m)\n",
    "    "
   ]
  },
  {
   "cell_type": "code",
   "execution_count": 97,
   "metadata": {
    "scrolled": true
   },
   "outputs": [
    {
     "name": "stdout",
     "output_type": "stream",
     "text": [
      "6 3\n",
      "m <= n:\n",
      "5 3\n",
      "m <= n:\n",
      "4 3\n",
      "m <= n:\n",
      "3 3\n",
      "m <= n:\n",
      "2 3\n",
      "else\n",
      "1 3\n",
      "return 1\n",
      "0 3\n",
      "return 0\n",
      "-2 3\n",
      "return 0\n",
      "1 3\n",
      "return 1\n",
      "2 3\n",
      "else\n",
      "1 3\n",
      "return 1\n",
      "0 3\n",
      "return 0\n",
      "-2 3\n",
      "return 0\n",
      "3 3\n",
      "m <= n:\n",
      "2 3\n",
      "else\n",
      "1 3\n",
      "return 1\n",
      "0 3\n",
      "return 0\n",
      "-2 3\n",
      "return 0\n",
      "1 3\n",
      "return 1\n",
      "4 3\n",
      "m <= n:\n",
      "3 3\n",
      "m <= n:\n",
      "2 3\n",
      "else\n",
      "1 3\n",
      "return 1\n",
      "0 3\n",
      "return 0\n",
      "-2 3\n",
      "return 0\n",
      "1 3\n",
      "return 1\n",
      "2 3\n",
      "else\n",
      "1 3\n",
      "return 1\n",
      "0 3\n",
      "return 0\n",
      "-2 3\n",
      "return 0\n"
     ]
    },
    {
     "data": {
      "text/plain": [
       "8"
      ]
     },
     "execution_count": 97,
     "metadata": {},
     "output_type": "execute_result"
    }
   ],
   "source": [
    "dying_fib_rabbits(6, 3)"
   ]
  },
  {
   "cell_type": "markdown",
   "metadata": {},
   "source": [
    "### Inferring mRNA from Protein"
   ]
  },
  {
   "cell_type": "code",
   "execution_count": 10,
   "metadata": {},
   "outputs": [
    {
     "name": "stdout",
     "output_type": "stream",
     "text": [
      "12\n",
      "849472\n"
     ]
    }
   ],
   "source": [
    "# http://rosalind.info/problems/mrna/\n",
    "\n",
    "# \n",
    "def codon_frequencies():\n",
    "    frequencies = {}\n",
    "    for k, v in RNA_codon_table.iteritems():\n",
    "        if not frequencies.has_key(v):\n",
    "            frequencies[v] = 0\n",
    "        frequencies[v] += 1\n",
    "    return frequencies\n",
    "\n",
    "def possible_rna_strings(input):\n",
    "    f = codon_frequencies()\n",
    "    n = f['Stop']\n",
    "\n",
    "    for c in input:\n",
    "        n *= f[c]\n",
    "\n",
    "    return n\n",
    "\n",
    "small_dataset = 'MA'\n",
    "large_dataset = 'MQMADTLSMFIQPWGGVKKCTQLSYLLVATDQHHKTAAANERCRPENIGINGTTLAQDSTDMDPPWTREYIIDNANPKPFCCRCCAYCHSLISQEVSNDQDNANNWRIAMGVMMKEERNYATGSVGLKELTIFTHSDKTDPGVEQSYIICFLIPNRASLYLGDLNDMMPIYEMGTNSWDNHWCRQCIYHKPDFFGAGHEVDKYMVHEIEMDDMVPARDCDPEHPKMCDPYENRHCNIYWGAMHAFYNNVGTWHNPCIMFCTAPFFCIAVLIAENHWHTNVLGDHMWLRTFKGVREHNCEIKEGCTTYAYSTQKWYGKKCCNQEQSLISENMTRGRHGCQDRARYRATANCEPNINPPDEHPQIWLTCTRGVSSAMHFFWWSMMSLDESTPNYACPHCYGVTDLFAWREQKPYRFVKVKQELDSDIPVRESDESTMHSKPDKEFVSKQLQDGLFPVTMHAANIVGIHYVNVPQNLFQYMGPKCHNRAAQHWHLVCCRLRRVQHWNANRCEHGMWRNWYTKHVSEYYMHSYTHKGHFTHYNSITWQYRDFMYKMVLVKQYLGCVQARQQFWPELHWDEYEANHAWYTRHLMNYDCYIDETQVEWYTFYGMYDTQNRTVKTNWRAHVDETMKTMHLGVNMSWIIWEDTFTLVRYVHFFVFVYRIHVIQFTCNRHYEHTTRSHHIIHIPCSRTSKHFDLGGYYPPMKCDREMQQNLKYYDAHQWYTIELNFEWHYVMEYVPQEAQQCDPTDLIVPLLYCGVRHQLLVGAPQENDVGRNYMMWYISCEHEKLQDYKMIYIDVTEEPEFTSINKNHFCAHFTNQGCAPRMCIVRLYSWDIGEEHHDVMTVDASFVENMRYPTHAHMGISWWMIMRRRECAINPRQTKHFNSNIACSSQAVCTTTNKPWWWTLAIMQITWHTHCDTNKHPKDDWDKTFHEMKRWTRADPVPVNVNFKSHDAQVDLDNCGRMWLDWKLRVMYMVTPERDGAIANNQSWNVQFWGQL'\n",
    "print possible_rna_strings(small_dataset)\n",
    "print possible_rna_strings(large_dataset) % 1000000\n"
   ]
  },
  {
   "cell_type": "markdown",
   "metadata": {},
   "source": [
    "### Independent Alleles"
   ]
  },
  {
   "cell_type": "code",
   "execution_count": null,
   "metadata": {
    "collapsed": true
   },
   "outputs": [],
   "source": [
    "# http://rosalind.info/problems/lia/\n"
   ]
  },
  {
   "cell_type": "markdown",
   "metadata": {},
   "source": [
    "### Consesnsus and Profile"
   ]
  },
  {
   "cell_type": "code",
   "execution_count": 17,
   "metadata": {
    "collapsed": true
   },
   "outputs": [],
   "source": [
    "# Consesnsus and Profile\n",
    "import pandas as pd\n",
    "\n",
    "def string_to_list(string):\n",
    "    lis = []\n",
    "    for i in range(len(string)):\n",
    "        lis.append(string[i])\n",
    "    return lis\n",
    "\n",
    "def dict_values_to_list(d):\n",
    "    for i in d.keys():\n",
    "        string = d[i]\n",
    "        l = string_to_list(string)\n",
    "        d[i] = l\n",
    "    return d"
   ]
  },
  {
   "cell_type": "code",
   "execution_count": 18,
   "metadata": {
    "collapsed": true
   },
   "outputs": [],
   "source": [
    "def value_counts(series):\n",
    "    return series.value_counts()\n",
    "    \n",
    "def series_to_int(series):\n",
    "    return series.astype(int)\n",
    "    \n",
    "def profile_maker(df):\n",
    "    profile_dict = {'A': 0, 'C': 0, 'G': 0, 'T': 0}\n",
    "    profile_df = pd.DataFrame.from_dict(profile_dict,orient='index').sort_index()\n",
    "    profile_df = df.apply(value_counts, axis=0).fillna(0)\n",
    "    for i in range(len(profile_df.columns.values)):\n",
    "        profile_df[i] = profile_df[i].astype(int)\n",
    "    return profile_df\n",
    "\n",
    "def max_value_counts(series):\n",
    "    return series.idxmax()\n",
    "\n",
    "def common_ancestor(df):\n",
    "    profile_df = profile_maker(df)\n",
    "    base_max_values = profile_df.apply(max_value_counts, axis=0)\n",
    "    seq_list = base_max_values.tolist()\n",
    "    seq = ''.join(seq_list)\n",
    "    print seq\n",
    "    print profile_df"
   ]
  },
  {
   "cell_type": "code",
   "execution_count": 19,
   "metadata": {
    "scrolled": true
   },
   "outputs": [
    {
     "name": "stdout",
     "output_type": "stream",
     "text": [
      "AAGATTACGAGGCTGCTCCTTAAAACGTGTCCCGCCAGGACGGACTTCCCACATAAGCAAACACAGGGCTATTAAACCGCCGAGGTAAAACAATATAATGCGCAATTTCAAAATACACACAGAAAGCTACAGAAAAATCATAGATGGACTAAGATAATATAAGCTACGTCCGCAAGCAGCCTGGCGTTAAGGCGCGAAAGAAAAGGCGTGGGCCCCTCATGTTAGCACGACGCCTACAGTGTCGCCCTACGCAATATTAAACCAAGTATTAAATGGATGCGAACAAAACAACGTCAAACGAAAACACAGTTCGCGATGACCTGCGGGCAAACAACAAGGCGCCCAAAACAGAACCAGGAATCAAGGAGAGGCTCAAGAGTGTACAACTCAGCACGAAACAATCCCCGGAAGCAGTACTTGACGCCGGAATAAAATACCACGACCTATAAATTCCACTACCCAAAGGTGACCTCGCAACTCGGAATTGGGAAAGGGAGGGGCACTCAATAACTGCAAGAAACAGTCAGACAATACCCACACGGAGGTCATACACATACTTACAAACAACGACGAAGAGTCACTGGTACAGAACACGGCAACAGTCAGCAACTGACAAATTGACATGCCTCCGCGAACTTACCGTTGACTCATTACGAGATACTCTAAACCACAATGGTTTTGCCAGGGTGAACTGACAAGAGCATTTGGAGATGTGAGCAAGTCCACAAGGGCAGACATCAATGGGTACAAAAAAGAAACCCAACAGGCTGGCGGCAAGTGCTCGACCCATAGAAACCCCTACAGTAAGACTGCAGTATGGCGCCATTTCGACACCATTTGGAGAGTGGGTTACCCGGTCAGCACCAGAAACCTACAGCCACTCCGCCAGTTGGAGCTTTCCTACTCATTAGCATAGGACATTTAAACGACAAAACTCGCCGGCATGGGATGTAGGGCAGCGTAA\n",
      "   0    1    2    3    4    5    6    7    8    9   ...   954  955  956  957  \\\n",
      "A    3    6    2    4    2    3    5    1    2    3 ...     1    0    3    5   \n",
      "C    3    2    1    3    2    3    1    4    2    2 ...     1    3    6    1   \n",
      "G    2    0    4    2    2    0    3    1    6    2 ...     4    5    1    1   \n",
      "T    2    2    3    1    4    4    1    4    0    3 ...     4    2    0    3   \n",
      "\n",
      "   958  959  960  961  962  963  \n",
      "A    2    2    1    2    3    5  \n",
      "C    2    3    2    3    2    3  \n",
      "G    3    2    4    1    3    1  \n",
      "T    3    3    3    4    2    1  \n",
      "\n",
      "[4 rows x 964 columns]\n"
     ]
    }
   ],
   "source": [
    "fasta_dict = make_indexed_sequences_dictionary('rosalind_cons.txt')\n",
    "fasta_dict = dict_values_to_list(fasta_dict)\n",
    "fasta_df = pd.DataFrame.from_dict(fasta_dict,orient='index').sort_index()\n",
    "common_ancestor(fasta_df)"
   ]
  },
  {
   "cell_type": "markdown",
   "metadata": {},
   "source": [
    "### Introduction to Random Strings"
   ]
  },
  {
   "cell_type": "code",
   "execution_count": 69,
   "metadata": {},
   "outputs": [
    {
     "data": {
      "text/plain": [
       "[-80.03,\n",
       " -66.018,\n",
       " -61.306,\n",
       " -56.78,\n",
       " -55.96,\n",
       " -52.405,\n",
       " -51.632,\n",
       " -50.033,\n",
       " -48.703,\n",
       " -48.236,\n",
       " -48.162,\n",
       " -48.276,\n",
       " -49.734,\n",
       " -51.622,\n",
       " -54.09,\n",
       " -57.34,\n",
       " -64.008]"
      ]
     },
     "execution_count": 69,
     "metadata": {},
     "output_type": "execute_result"
    }
   ],
   "source": [
    "import math\n",
    "\n",
    "def AT_GC_counts(seq):\n",
    "    base_counts = count_bases(seq)\n",
    "    AT = base_counts['A'] + base_counts['T']\n",
    "    GC = base_counts['G'] + base_counts['C']\n",
    "    return AT, GC\n",
    "\n",
    "def log_10_probabilites(value, AT, GC):\n",
    "    return round(math.log10((((1 - value) / 2)**AT) * (value / 2)**GC), 3)\n",
    "\n",
    "def probabilities(gc_content, seq):\n",
    "    AT, GC = AT_GC_counts(seq)\n",
    "    probabilities = []\n",
    "    for i in gc_content:\n",
    "        prob = log_10_probabilites(i, AT, GC)\n",
    "        probabilities.append(prob)\n",
    "    return probabilities\n",
    "\n",
    "def random_strings(file_name):\n",
    "    seq = ''\n",
    "    bases = ['A', 'T', 'G', 'C']\n",
    "    with open(file_name, 'r') as f:\n",
    "        for line in f:\n",
    "            if any(base not in line for base in bases):\n",
    "                numbers = line.split()\n",
    "                gc_content = [float(x) for x in numbers]\n",
    "            seq = seq + line\n",
    "    \n",
    "    return probabilities(gc_content, seq)\n",
    "\n",
    "random_strings('rosalind_prob.txt')   "
   ]
  },
  {
   "cell_type": "markdown",
   "metadata": {},
   "source": [
    "### Speeding Up Motif Finding"
   ]
  },
  {
   "cell_type": "code",
   "execution_count": 73,
   "metadata": {},
   "outputs": [
    {
     "ename": "SyntaxError",
     "evalue": "invalid syntax (<ipython-input-73-84a4e24fdb36>, line 11)",
     "output_type": "error",
     "traceback": [
      "\u001b[1;36m  File \u001b[1;32m\"<ipython-input-73-84a4e24fdb36>\"\u001b[1;36m, line \u001b[1;32m11\u001b[0m\n\u001b[1;33m    i =\u001b[0m\n\u001b[1;37m        ^\u001b[0m\n\u001b[1;31mSyntaxError\u001b[0m\u001b[1;31m:\u001b[0m invalid syntax\n"
     ]
    }
   ],
   "source": []
  }
 ],
 "metadata": {
  "kernelspec": {
   "display_name": "Python 2",
   "language": "python",
   "name": "python2"
  },
  "language_info": {
   "codemirror_mode": {
    "name": "ipython",
    "version": 2
   },
   "file_extension": ".py",
   "mimetype": "text/x-python",
   "name": "python",
   "nbconvert_exporter": "python",
   "pygments_lexer": "ipython2",
   "version": "2.7.14"
  }
 },
 "nbformat": 4,
 "nbformat_minor": 2
}
