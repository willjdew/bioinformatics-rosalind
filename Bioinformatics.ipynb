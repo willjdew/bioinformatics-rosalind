{
 "cells": [
  {
   "cell_type": "code",
   "execution_count": 2,
   "metadata": {
    "collapsed": true
   },
   "outputs": [],
   "source": [
    "# http://rosalind.info/problems/locations/\n",
    "\n",
    "def validate_base_sequence(base_sequence, RNAflag = False):\n",
    "    valid_bases = 'UCAG' if RNAflag else 'TCAG'\n",
    "    return all([(base in valid_bases) for base in base_sequence.upper()])"
   ]
  },
  {
   "cell_type": "code",
   "execution_count": 3,
   "metadata": {
    "collapsed": true
   },
   "outputs": [],
   "source": [
    "RNA_codon_table = {\n",
    "    \"UUU\":\"F\", \"UUC\":\"F\", \"UUA\":\"L\", \"UUG\":\"L\",\n",
    "    \"UCU\":\"S\", \"UCC\":\"s\", \"UCA\":\"S\", \"UCG\":\"S\",\n",
    "    \"UAU\":\"Y\", \"UAC\":\"Y\", \"UAA\":\"STOP\", \"UAG\":\"STOP\",\n",
    "    \"UGU\":\"C\", \"UGC\":\"C\", \"UGA\":\"STOP\", \"UGG\":\"W\",\n",
    "    \"CUU\":\"L\", \"CUC\":\"L\", \"CUA\":\"L\", \"CUG\":\"L\",\n",
    "    \"CCU\":\"P\", \"CCC\":\"P\", \"CCA\":\"P\", \"CCG\":\"P\",\n",
    "    \"CAU\":\"H\", \"CAC\":\"H\", \"CAA\":\"Q\", \"CAG\":\"Q\",\n",
    "    \"CGU\":\"R\", \"CGC\":\"R\", \"CGA\":\"R\", \"CGG\":\"R\",\n",
    "    \"AUU\":\"I\", \"AUC\":\"I\", \"AUA\":\"I\", \"AUG\":\"M\",\n",
    "    \"ACU\":\"T\", \"ACC\":\"T\", \"ACA\":\"T\", \"ACG\":\"T\",\n",
    "    \"AAU\":\"N\", \"AAC\":\"N\", \"AAA\":\"K\", \"AAG\":\"K\",\n",
    "    \"AGU\":\"S\", \"AGC\":\"S\", \"AGA\":\"R\", \"AGG\":\"R\",\n",
    "    \"GUU\":\"V\", \"GUC\":\"V\", \"GUA\":\"V\", \"GUG\":\"V\",\n",
    "    \"GCU\":\"A\", \"GCC\":\"A\", \"GCA\":\"A\", \"GCG\":\"A\",\n",
    "    \"GAU\":\"D\", \"GAC\":\"D\", \"GAA\":\"E\", \"GAG\":\"E\",\n",
    "    \"GGU\":\"G\", \"GGC\":\"G\", \"GGA\":\"G\", \"GGG\":\"G\",\n",
    "}\n",
    "\n",
    "def translate_RNA_codon(codon):\n",
    "    return RNA_codon_table[codon]"
   ]
  },
  {
   "cell_type": "code",
   "execution_count": 21,
   "metadata": {
    "collapsed": true
   },
   "outputs": [],
   "source": [
    "from numpy.random import randint\n",
    "\n",
    "def random_base(RNAflag = False):\n",
    "    return ('UCAG' if RNAflag else 'TCAG')[randint(0,3)]\n",
    "\n",
    "def random_codon(RNAflag = False):\n",
    "    return random_base(RNAflag) + random_base(RNAflag) + random_base(RNAflag)\n",
    "\n",
    "def random_codons(minlength = 3, maxlength = 10, RNAflag = False):\n",
    "    \"\"\"Generate a random list of codons (RNA if RNAflag, else DNA)\n",
    "    between minlength and maxlength, inclusive\"\"\"\n",
    "    return [random_codon(RNAflag) for n in range(randint(minlength, maxlength))]\n",
    "\n",
    "def random_codons_translation(minlength = 3, maxlength = 10):\n",
    "    \"\"\"Generate a random list of codons between minlength and \n",
    "    maxlength, inclussive\"\"\"\n",
    "    return [translate_RNA_codon(codon) for codon in random_codons(minlength, maxlength, True)]"
   ]
  },
  {
   "cell_type": "code",
   "execution_count": 28,
   "metadata": {
    "scrolled": true
   },
   "outputs": [
    {
     "data": {
      "text/plain": [
       "['L', 'P', 'N', 'N', 'N', 'F', 'T', 'S', 'STOP']"
      ]
     },
     "execution_count": 28,
     "metadata": {},
     "output_type": "execute_result"
    }
   ],
   "source": [
    "random_codons_translation()"
   ]
  },
  {
   "cell_type": "code",
   "execution_count": 6,
   "metadata": {
    "collapsed": true
   },
   "outputs": [],
   "source": [
    "# Split the file contents at '>' to get a list of strings representing entries\n",
    "def read_FASTA_strings(filename):\n",
    "    with open(filename) as file:\n",
    "        return file.read().split('>')[1:]\n",
    "\n",
    "# Partition the strings to seperate the first line from the rest\n",
    "def read_FASTA_entries(filename):\n",
    "    return [seq.partition('\\n') for seq in read_FASTA_strings(filename)]\n",
    "\n",
    "# Remove the newlines from the sequence data\n",
    "def read_FASTA_sequences(filename):\n",
    "    return [(info[1:], seq.replace('\\n', '')) \n",
    "            for info, ignore, seq in #ignor is ignores (!)\n",
    "            read_FASTA_entries(filename)]\n",
    "\n",
    "# Split the description line into peices where vertical bars appear\n",
    "def read_FASTA_sequences_and_info(filename):\n",
    "    return [[seq[0].split('|'), seq[1]] for seq in read_FASTA_sequences(filename)]"
   ]
  },
  {
   "cell_type": "code",
   "execution_count": 7,
   "metadata": {
    "collapsed": true
   },
   "outputs": [],
   "source": [
    "def make_indexed_sequences_dictionary(filename):\n",
    "    return {info[0]: seq for info, seq in read_FASTA(filename)}"
   ]
  },
  {
   "cell_type": "code",
   "execution_count": 10,
   "metadata": {
    "collapsed": true
   },
   "outputs": [],
   "source": [
    "def aa_generator(rnaseq):\n",
    "    \"\"\"Return a generator object that produces an amino acid by translating\n",
    "    the next three characters of rnaseq each time nex is called on it\"\"\"\n",
    "    return (translate_RNA_codon(rnaseq[n:n+3])\n",
    "           for n in range(0, len(rnaseq), 3))"
   ]
  },
  {
   "cell_type": "code",
   "execution_count": 11,
   "metadata": {},
   "outputs": [
    {
     "data": {
      "text/plain": [
       "'P'"
      ]
     },
     "execution_count": 11,
     "metadata": {},
     "output_type": "execute_result"
    }
   ],
   "source": [
    "aagen= aa_generator('CCACCGCACCAACAGCGC')\n",
    "next(aagen, None)"
   ]
  },
  {
   "cell_type": "code",
   "execution_count": 12,
   "metadata": {},
   "outputs": [
    {
     "data": {
      "text/plain": [
       "'P'"
      ]
     },
     "execution_count": 12,
     "metadata": {},
     "output_type": "execute_result"
    }
   ],
   "source": [
    "next(aagen, None)"
   ]
  },
  {
   "cell_type": "code",
   "execution_count": 13,
   "metadata": {},
   "outputs": [
    {
     "data": {
      "text/plain": [
       "'H'"
      ]
     },
     "execution_count": 13,
     "metadata": {},
     "output_type": "execute_result"
    }
   ],
   "source": [
    "next(aagen, None)"
   ]
  },
  {
   "cell_type": "code",
   "execution_count": 20,
   "metadata": {
    "collapsed": true
   },
   "outputs": [],
   "source": [
    "def dr(name):\n",
    "    \"\"\"Return the result of the dir(name), ommitting any names beginning\n",
    "    with an underscore\"\"\"\n",
    "    return [nm for nm in dir(name) if nm[0] != '_']\n",
    "\n",
    "# Extract sequence descriptions from a FASTA file and split them into fields\n",
    "# at their vertical bars\n",
    "def get_FASTA_descriptions(filename):\n",
    "    with open(filename) as file:\n",
    "        return [line[1:].split('|') for lin in file if line[0] == '>']\n",
    "\n",
    "# Returns a list of all the different codes it finds in the third field    \n",
    "def get_FASTA_codes(filename):\n",
    "    with open(filename) as file:\n",
    "        if len(line.split('|')) < 3:\n",
    "            return []\n",
    "        return {line.split('|')[2] for line in file if line [0] == '>'}\n",
    "\n",
    "# No provision was made for entries whose descriptions begin with something\n",
    "# other than 'gi'\n",
    "def make_gi_indexed_sequences_dictionary(filename):\n",
    "    return {info[1]: seq for info, seq in read_FASTA(filename)\n",
    "            if len(info) >= 2 and info[0] == 'gi'}"
   ]
  },
  {
   "cell_type": "code",
   "execution_count": 15,
   "metadata": {
    "collapsed": true
   },
   "outputs": [],
   "source": [
    "# Using a generator to find the first common element\n",
    "def first_common(list1, list2):\n",
    "    \"\"\"Return the first element in list1 that is in list2\"\"\"\n",
    "    return next((item for item in list1 if item in list2), None)"
   ]
  },
  {
   "cell_type": "code",
   "execution_count": 16,
   "metadata": {
    "collapsed": true
   },
   "outputs": [],
   "source": [
    "def generate_triples(chars='TCAG'):\n",
    "    \"\"\"Return a list of all three-character combinations of unique\n",
    "    characters in chars\"\"\"\n",
    "    chars = set(chars)\n",
    "    return [b1 + b2 + b3 for b1 in chars for b2 in chars for b3 in chars]"
   ]
  },
  {
   "cell_type": "code",
   "execution_count": 19,
   "metadata": {},
   "outputs": [
    {
     "data": {
      "text/plain": [
       "['111', '110', '101', '100', '011', '010', '001', '000']"
      ]
     },
     "execution_count": 19,
     "metadata": {},
     "output_type": "execute_result"
    }
   ],
   "source": [
    "generate_triples('01')"
   ]
  }
 ],
 "metadata": {
  "kernelspec": {
   "display_name": "Python 2",
   "language": "python",
   "name": "python2"
  },
  "language_info": {
   "codemirror_mode": {
    "name": "ipython",
    "version": 2
   },
   "file_extension": ".py",
   "mimetype": "text/x-python",
   "name": "python",
   "nbconvert_exporter": "python",
   "pygments_lexer": "ipython2",
   "version": "2.7.14"
  }
 },
 "nbformat": 4,
 "nbformat_minor": 2
}
