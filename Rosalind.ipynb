{
 "cells": [
  {
   "cell_type": "markdown",
   "metadata": {},
   "source": [
    "# Counting DNA Nucleotides\n",
    "\n",
    "A string is simply an ordered collection of symbols selected from some alphabet and formed into a word; the length of a string is the number of symbols that it contains.\n",
    "\n",
    "An example of a length 21 DNA string (whose alphabet contains the symbols 'A', 'C', 'G', and 'T') is \"ATGCTTCAGAAAGGTCTTACG.\"\n",
    "\n",
    "Given: A DNA string s of length at most 1000 nt.\n",
    "\n",
    "Return: Four integers (separated by spaces) counting the respective number of times that the symbols 'A', 'C', 'G', and 'T' occur in s."
   ]
  },
  {
   "cell_type": "code",
   "execution_count": 1,
   "metadata": {},
   "outputs": [],
   "source": [
    "def counting_DNA_Nucleotides(s):\n",
    "    s = s.upper()\n",
    "    A = s.count('A')\n",
    "    C = s.count('C')\n",
    "    G = s.count('G')\n",
    "    T = s.count('T')\n",
    "    \n",
    "    return A, C, G, T"
   ]
  },
  {
   "cell_type": "code",
   "execution_count": 2,
   "metadata": {},
   "outputs": [
    {
     "data": {
      "text/plain": [
       "(6, 4, 5, 6)"
      ]
     },
     "execution_count": 2,
     "metadata": {},
     "output_type": "execute_result"
    }
   ],
   "source": [
    "s = \"ATGCTTCAGAAAGGTCTTACG\"\n",
    "counting_DNA_Nucleotides(s)"
   ]
  },
  {
   "cell_type": "markdown",
   "metadata": {},
   "source": [
    "# Transcribing DNA into RNA\n",
    "\n",
    "An RNA string is a string formed from the alphabet containing 'A', 'C', 'G', and 'U'.\n",
    "\n",
    "Given a DNA string t corresponding to a coding strand, its transcribed RNA string u is formed by replacing all occurrences of 'T' in t with 'U' in u.\n",
    "\n",
    "Given: A DNA string t having length at most 1000 nt.\n",
    "\n",
    "Return: The transcribed RNA string of t."
   ]
  },
  {
   "cell_type": "code",
   "execution_count": 3,
   "metadata": {},
   "outputs": [],
   "source": [
    "def transcribe_DNA_to_RNA(t):\n",
    "    t.upper()\n",
    "    t = t.replace('T', 'U')\n",
    "    return t"
   ]
  },
  {
   "cell_type": "code",
   "execution_count": 4,
   "metadata": {},
   "outputs": [
    {
     "data": {
      "text/plain": [
       "'GAUGGAACUUGACUACGUAAAUU'"
      ]
     },
     "execution_count": 4,
     "metadata": {},
     "output_type": "execute_result"
    }
   ],
   "source": [
    "t = 'GATGGAACTTGACTACGTAAATT'\n",
    "transcribe_DNA_to_RNA(t)"
   ]
  },
  {
   "cell_type": "markdown",
   "metadata": {},
   "source": [
    "# Complementing a Strand of DNA\n",
    "\n",
    "In DNA strings, symbols 'A' and 'T' are complements of each other, as are 'C' and 'G'.\n",
    "\n",
    "The reverse complement of a DNA string s is the string sc formed by reversing the symbols of s, then taking the complement of each symbol (e.g., the reverse complement of \"GTCA\" is \"TGAC\").\n",
    "\n",
    "Given: A DNA string s of length at most 1000 bp.\n",
    "\n",
    "Return: The reverse complement sc of s."
   ]
  },
  {
   "cell_type": "code",
   "execution_count": 5,
   "metadata": {},
   "outputs": [],
   "source": [
    "import string\n",
    "\n",
    "def complement_DNA(s):\n",
    "    s.upper()\n",
    "    trans_DNA = string.maketrans('ATCG', 'TAGC')\n",
    "    sc = s.translate(trans_DNA)\n",
    "    return sc"
   ]
  },
  {
   "cell_type": "code",
   "execution_count": 6,
   "metadata": {},
   "outputs": [
    {
     "data": {
      "text/plain": [
       "'TTTTGGGCCA'"
      ]
     },
     "execution_count": 6,
     "metadata": {},
     "output_type": "execute_result"
    }
   ],
   "source": [
    "s = 'AAAACCCGGT'\n",
    "complement_DNA(s)"
   ]
  },
  {
   "cell_type": "markdown",
   "metadata": {},
   "source": [
    "# Mendel's First Law\n",
    "\n",
    "Probability is the mathematical study of randomly occurring phenomena. We will model such a phenomenon with a random variable, which is simply a variable that can take a number of different distinct outcomes depending on the result of an underlying random process.\n",
    "\n",
    "For example, say that we have a bag containing 3 red balls and 2 blue balls. If we let X represent the random variable corresponding to the color of a drawn ball, then the probability of each of the two outcomes is given by Pr(X=red)=35 and Pr(X=blue)=25.\n",
    "\n",
    "Random variables can be combined to yield new random variables. Returning to the ball example, let Y model the color of a second ball drawn from the bag (without replacing the first ball). The probability of Y being red depends on whether the first ball was red or blue. To represent all outcomes of X and Y, we therefore use a probability tree diagram. This branching diagram represents all possible individual probabilities for X and Y, with outcomes at the endpoints (\"leaves\") of the tree. The probability of any outcome is given by the product of probabilities along the path from the beginning of the tree.\n",
    "\n",
    "An event is simply a collection of outcomes. Because outcomes are distinct, the probability of an event can be written as the sum of the probabilities of its constituent outcomes. For our colored ball example, let A be the event \"Y is blue.\" Pr(A) is equal to the sum of the probabilities of two different outcomes: Pr(X=blue and Y=blue)+Pr(X=red and Y=blue), or 3/10+1/10=2/5.\n",
    "\n",
    "Given: Three positive integers k, m, and n, representing a population containing k+m+n organisms: k individuals are homozygous dominant for a factor, m are heterozygous, and n are homozygous recessive.\n",
    "\n",
    "Return: The probability that two randomly selected mating organisms will produce an individual possessing a dominant allele (and thus displaying the dominant phenotype). Assume that any two organisms can mate."
   ]
  },
  {
   "cell_type": "code",
   "execution_count": 7,
   "metadata": {},
   "outputs": [],
   "source": [
    "import scipy.special\n",
    "\n",
    "def dominate_allele(k, m, n):\n",
    "    # Calculate total number of organisms in the population:\n",
    "    total_pop = k + m + n\n",
    "    # Calculate the number of combos that could be made (valid or not):\n",
    "    total_comb = scipy.special.comb(total_pop, 2)\n",
    "    # Calculate the number of combos that have a dominant allele therefore are \n",
    "    # valid:\n",
    "    valid_comb = scipy.special.comb(k, 2) + k*m + k*n + 0.75*scipy.special.comb(m, 2) + 0.5*m*n + 0.0\n",
    "    # Calculate the probability of valid combos\n",
    "    prob = valid_comb / total_comb\n",
    "    return prob   "
   ]
  },
  {
   "cell_type": "code",
   "execution_count": 8,
   "metadata": {
    "scrolled": true
   },
   "outputs": [
    {
     "data": {
      "text/plain": [
       "0.7833333333333333"
      ]
     },
     "execution_count": 8,
     "metadata": {},
     "output_type": "execute_result"
    }
   ],
   "source": [
    "dominate_allele(2,2,2)"
   ]
  },
  {
   "cell_type": "markdown",
   "metadata": {},
   "source": [
    "# Rabbits and Recurrence Relations\n",
    "\n",
    "A sequence is an ordered collection of objects (usually numbers), which are allowed to repeat. Sequences can be finite or infinite. Two examples are the finite sequence (π,−2–√,0,π) and the infinite sequence of odd numbers (1,3,5,7,9,…). We use the notation an to represent the n-th term of a sequence.\n",
    "\n",
    "A recurrence relation is a way of defining the terms of a sequence with respect to the values of previous terms. In the case of Fibonacci's rabbits from the introduction, any given month will contain the rabbits that were alive the previous month, plus any new offspring. A key observation is that the number of offspring in any month is equal to the number of rabbits that were alive two months prior. As a result, if Fn represents the number of rabbit pairs alive after the n-th month, then we obtain the Fibonacci sequence having terms Fn that are defined by the recurrence relation F(n)=F(n−1)+F(n−2) (with F1=F2=1 to initiate the sequence). Although the sequence bears Fibonacci's name, it was known to Indian mathematicians over two millennia ago.\n",
    "\n",
    "When finding the n-th term of a sequence defined by a recurrence relation, we can simply use the recurrence relation to generate terms for progressively larger values of n. This problem introduces us to the computational technique of dynamic programming, which successively builds up solutions by using the answers to smaller cases.\n",
    "\n",
    "Given: Positive integers n≤40 and k≤5.\n",
    "\n",
    "Return: The total number of rabbit pairs that will be present after n months, if we begin with 1 pair and in each generation, every pair of reproduction-age rabbits produces a litter of k rabbit pairs (instead of only 1 pair).\n",
    "\n",
    "https://stackoverflow.com/questions/25111106/recursive-fibonacci-algorithm-with-variant\n",
    "https://www.python-course.eu/python3_recursive_functions.php"
   ]
  },
  {
   "cell_type": "code",
   "execution_count": 9,
   "metadata": {},
   "outputs": [],
   "source": [
    "def fibonacci_recursive(n, k):\n",
    "    # This coe is 1-based so months may not be 0 or less\n",
    "    if n <= 0:\n",
    "        return \"n must be greater than 0\"\n",
    "    # In months 1 and 2 there is only 1 pair of rabbits\n",
    "    if n == 1 or n == 2:\n",
    "        return 1\n",
    "    # Calculate the total populatin using fibonacci squence \n",
    "    # F(n)=F(n−1)+F(n−2) (with F1=F2=1 to initiate the sequence)\n",
    "    else:\n",
    "        return fibonacci_recursive(n-1, k) + k * fibonacci_recursive(n-2, k)"
   ]
  },
  {
   "cell_type": "code",
   "execution_count": 10,
   "metadata": {},
   "outputs": [],
   "source": [
    "def fibonacci_tracking(n, k):\n",
    "    old, new = 0, 0\n",
    "    for i in range(n):\n",
    "        # if month is less than old rabbits is 1 and new rabbits born is 1\n",
    "        if i < 2:\n",
    "            old, new = 1, 1\n",
    "        else:\n",
    "            # new rabbits become the old rabbits.  new rabbits born is old\n",
    "            # rabbits multiplied by the k plus the new rabbits from last month\n",
    "            old, new = new, (old * k) + new\n",
    "    return new"
   ]
  },
  {
   "cell_type": "code",
   "execution_count": 11,
   "metadata": {
    "scrolled": false
   },
   "outputs": [
    {
     "name": "stdout",
     "output_type": "stream",
     "text": [
      "19\n",
      "19\n"
     ]
    }
   ],
   "source": [
    "print fibonacci_recursive(5,3)\n",
    "print fibonacci_tracking(5, 3)"
   ]
  },
  {
   "cell_type": "markdown",
   "metadata": {},
   "source": [
    "# Computing GC Content\n",
    "\n",
    "The GC-content of a DNA string is given by the percentage of symbols in the string that are 'C' or 'G'. For example, the GC-content of \"AGCTATAG\" is 37.5%. Note that the reverse complement of any DNA string has the same GC-content.\n",
    "\n",
    "DNA strings must be labeled when they are consolidated into a database. A commonly used method of string labeling is called FASTA format. In this format, the string is introduced by a line that begins with '>', followed by some labeling information. Subsequent lines contain the string itself; the first line to begin with '>' indicates the label of the next string.\n",
    "\n",
    "In Rosalind's implementation, a string in FASTA format will be labeled by the ID \"Rosalind_xxxx\", where \"xxxx\" denotes a four-digit code between 0000 and 9999.\n",
    "\n",
    "Given: At most 10 DNA strings in FASTA format (of length at most 1 kbp each).\n",
    "\n",
    "Return: The ID of the string having the highest GC-content, followed by the GC-content of that string. Rosalind allows for a default error of 0.001 in all decimal answers unless otherwise stated; please see the note on absolute error below."
   ]
  },
  {
   "cell_type": "code",
   "execution_count": 12,
   "metadata": {},
   "outputs": [],
   "source": [
    "# Split the file contents at '>' to get a list of strings representing entries\n",
    "def read_FASTA_strings(filename):\n",
    "    with open(filename) as file:\n",
    "        return file.read().split('>')[1:]\n",
    "\n",
    "# Partition the strings to seperate the first line from the rest\n",
    "def read_FASTA_entries(filename):\n",
    "    return [seq.partition('\\n') for seq in read_FASTA_strings(filename)]\n",
    "\n",
    "# Remove the newlines from the sequence data\n",
    "def read_FASTA_sequences(filename):\n",
    "    return [(info[0:], seq.replace('\\n', '')) \n",
    "            for info, ignore, seq in #ignor is ignores (!)\n",
    "            read_FASTA_entries(filename)]\n",
    "\n",
    "# Create an sequence dictionary from sequence data\n",
    "def make_indexed_sequences_dictionary(filename):\n",
    "    return {info: seq for info, seq in read_FASTA_sequences(filename)}"
   ]
  },
  {
   "cell_type": "code",
   "execution_count": 13,
   "metadata": {},
   "outputs": [],
   "source": [
    "def gc_content(base_sequence):\n",
    "    # make base_sequence a string and Upper case for uniform processing.\n",
    "    base_sequence = str(base_sequence)\n",
    "    seq = base_sequence.upper()\n",
    "    # Count G and C and return percentage\n",
    "    g = float(seq.count('G'))\n",
    "    c = float(seq.count('C'))\n",
    "    l = float(len(seq))\n",
    "    return (g + c) / l * 100\n",
    "\n",
    "def gc_content_dict(fasta_dict):\n",
    "    gc_dict = {}\n",
    "    # for each sequence in fasta_dict find the gc content and create new dict\n",
    "    for key in fasta_dict.keys():\n",
    "        gc_dict[key] = gc_content(fasta_dict[key]) * 100\n",
    "    return gc_dict\n",
    "\n",
    "def key_with_max_val(d):\n",
    "    # create a list of the dict's keys and values; \n",
    "    v=list(d.values())\n",
    "    k=list(d.keys())\n",
    "    # return the key with the max value \n",
    "    return k[v.index(max(v))]\n",
    "\n",
    "def highest_gc_content(filename):\n",
    "    # Create an sequence dictionary from sequence data in filename\n",
    "    fasta_dict = make_indexed_sequences_dictionary(filename)\n",
    "    # Create a gc content dictionary\n",
    "    gc_dict = gc_content_dict(fasta_dict)\n",
    "    # find the sequence with the largest gc content\n",
    "    max_key = key_with_max_val(gc_dict)\n",
    "    # return key name and gc_content value\n",
    "    return max_key, gc_dict[max_key]"
   ]
  },
  {
   "cell_type": "code",
   "execution_count": 14,
   "metadata": {},
   "outputs": [
    {
     "data": {
      "text/plain": [
       "('Rosalind_0808', 6091.954022988506)"
      ]
     },
     "execution_count": 14,
     "metadata": {},
     "output_type": "execute_result"
    }
   ],
   "source": [
    "highest_gc_content('test_gc.fasta')"
   ]
  },
  {
   "cell_type": "markdown",
   "metadata": {},
   "source": [
    "# Translating RNA into Protein\n",
    "\n",
    "The 20 commonly occurring amino acids are abbreviated by using 20 letters from the English alphabet (all letters except for B, J, O, U, X, and Z). Protein strings are constructed from these 20 symbols. Henceforth, the term genetic string will incorporate protein strings along with DNA strings and RNA strings.\n",
    "\n",
    "The RNA codon table dictates the details regarding the encoding of specific codons into the amino acid alphabet.\n",
    "\n",
    "Given: An RNA string s corresponding to a strand of mRNA (of length at most 10 kbp).\n",
    "\n",
    "Return: The protein string encoded by s."
   ]
  },
  {
   "cell_type": "code",
   "execution_count": 15,
   "metadata": {},
   "outputs": [],
   "source": [
    "# Translating RNA into Protien\n",
    "RNA_codon_table = {\n",
    "    \"UUU\":\"F\", \"UUC\":\"F\", \"UUA\":\"L\", \"UUG\":\"L\",\n",
    "    \"UCU\":\"S\", \"UCC\":\"S\", \"UCA\":\"S\", \"UCG\":\"S\",\n",
    "    \"UAU\":\"Y\", \"UAC\":\"Y\", \"UAA\":\"Stop\", \"UAG\":\"Stop\",\n",
    "    \"UGU\":\"C\", \"UGC\":\"C\", \"UGA\":\"Stop\", \"UGG\":\"W\",\n",
    "    \"CUU\":\"L\", \"CUC\":\"L\", \"CUA\":\"L\", \"CUG\":\"L\",\n",
    "    \"CCU\":\"P\", \"CCC\":\"P\", \"CCA\":\"P\", \"CCG\":\"P\",\n",
    "    \"CAU\":\"H\", \"CAC\":\"H\", \"CAA\":\"Q\", \"CAG\":\"Q\",\n",
    "    \"CGU\":\"R\", \"CGC\":\"R\", \"CGA\":\"R\", \"CGG\":\"R\",\n",
    "    \"AUU\":\"I\", \"AUC\":\"I\", \"AUA\":\"I\", \"AUG\":\"M\",\n",
    "    \"ACU\":\"T\", \"ACC\":\"T\", \"ACA\":\"T\", \"ACG\":\"T\",\n",
    "    \"AAU\":\"N\", \"AAC\":\"N\", \"AAA\":\"K\", \"AAG\":\"K\",\n",
    "    \"AGU\":\"S\", \"AGC\":\"S\", \"AGA\":\"R\", \"AGG\":\"R\",\n",
    "    \"GUU\":\"V\", \"GUC\":\"V\", \"GUA\":\"V\", \"GUG\":\"V\",\n",
    "    \"GCU\":\"A\", \"GCC\":\"A\", \"GCA\":\"A\", \"GCG\":\"A\",\n",
    "    \"GAU\":\"D\", \"GAC\":\"D\", \"GAA\":\"E\", \"GAG\":\"E\",\n",
    "    \"GGU\":\"G\", \"GGC\":\"G\", \"GGA\":\"G\", \"GGG\":\"G\",\n",
    "}\n",
    "\n",
    "def translate_RNA_codon(codon):\n",
    "    return RNA_codon_table[codon]\n",
    "\n",
    "def aa_generator(rnaseq):\n",
    "    # Return a generator object that produces an amino acid by translating\n",
    "    # three characters of rnaseq at a time\n",
    "    return (translate_RNA_codon(rnaseq[n:n+3]) for n in range(0, len(rnaseq), 3))\n",
    "\n",
    "def translate(rnaseq):\n",
    "    rnaseq = rnaseq.upper()\n",
    "    # Translate rnaseq into amino acid symbols\n",
    "    gen = aa_generator(rnaseq)\n",
    "    seq = ''\n",
    "    # Sets the first amino acid as 'aa'\n",
    "    aa = next(gen, None)\n",
    "    # While aa is true\n",
    "    while aa:\n",
    "        # If aa is a stop codon retrun sequence else add aa to seq\n",
    "        if aa == 'Stop':\n",
    "            return seq\n",
    "        else:\n",
    "            seq += aa\n",
    "            aa = next(gen, None)\n",
    "    return seq"
   ]
  },
  {
   "cell_type": "code",
   "execution_count": 16,
   "metadata": {},
   "outputs": [
    {
     "data": {
      "text/plain": [
       "'MRGRHFYNARSSSTKSVGLVLPKVYPCLRGRVLDTRCDFYTRKQKFFDQSLRNVKCLILKYFAEFFAWRRTVSGLAWVYIRGRLAGTLRLGYSLLGTDCTQARRRQVNYPASVFCRRVNVSYGCPPDYLPTATDDMPADPVPTVHCTSLLTLPQKKANASYVPGGRPDEHLEAPEKIKVSCAAVIPTWSVNKTANTRPWSEQLALLPFISVKKGCLQCRRRDRRIRGTHPLNIVAVEVDPFLQRIKTLLNRLGTGLGFLTQSVYRPHHGDCFDPGYVYCVCWSESGLHFVPNRGTDQGCNPSEELGASAGMSPRRLMTPLLASRVLCGYYDFPAENGFPPSTDDWDLTWSLLFKYTHDGRSKAVVNLRLARLYGCMQRPQLTPHLVAILYPFQTARGLRRNVGGTVPQHKSILTGCPRKSSEYRAGREFDVTAFSLVSQGIAKFRPYNQPVYSLSAQSYPYASRWRQLGYRSRVLLAKGTPTFNTASTSDPSLSALHYLYVALQGHPMVPIADCLATKRRPRRPSHLYRYVLIVALRSIRAGDTTSMNCDKPRRTIWIVMFETQESGAGYNSDNICETEKPVYWHGHTLSRVAKKLSSAGRRCSADLIANLAFNTLLEGTPACPTCERYGICTSIIRGWSASIAIFSLYASALRNILSLASLSADRDNRRSDSPTDAFLATSTAVSSFGSIMRRCVFMTIWPSQPTIGSKSRCTCGHDSPTIGSWHTISLSAVFTPDSGRVEVLWVPTELAGMYDGRTFYLGWSECVRCVPSLQSTMGSTGGSRKVERSHLEGKAFGRGALHIPTPFVGCACLCAPGRVRPTQSIGAGELYDAVPSGSLDRRHWGYTLADTCCTQYLQDVTLPPVCYAHLSYAGCRPTTLIEETGSRNRFECVLFHADLVPSMGNYGDLGDSKRCFDSGYLHTSPGRARIPRVCPHRQQYDRSRGARDLPLLWYLVYFTAVLESGATAPRWGAEPSAALCPLGSVPRVARADPPTKGTYYSVTSDTWNDAWFKAEARLTLVAVASKKDVPTLQKPGQNKGHLKRIAEYNLRPGARGASTSLVTLSVASAGTLFTGHRVIFLTIELCNKAQVMPAIRHLPSEVPGLKTPATSCRSVHIGPCRKSLFGYEAVWKGAVAKSLWTQPTYNLDNHEHRICPSARRGRPKGTSQPSRRMLYVPACHPRPSHYHVRMPRTCIAAAQECVTRIYFQMEYVDEGGALECLVVFRRWRSYRAKSQEMKAMATCNLALKKLIVLATTIWGAYSMPLFEYEQAVGRYVSCIRGALIRSGPLCCLMYRTSGYRTIASGYVHQKALVSSLVHVFEISETNIVLVPKLGNRRPPVWVLELTWTFIAKPICFVIRARRTSDRKIELLVEPFPKTGEERFWLDKYSSEDILLYHTPPLASFPSWTAGRQLPLAEALTLDSSRLMVPLHPLMCFPATERDVKCEGNVYFQFCEMGCLARSTGWTFLGERSDSESTKSYSPVINVGGAPAFCPHPPGKRIGSPQSESYTFGPPLTYSSHRDMINGVLILRSVSRRDRRPEFHAVAIYIVIRGSSREDHWIHHVVAGLYYETRSLYTWYTSQSVHSLSDSESEGQLVRHNAAVSSNYFRSLLGLCKAISVRRTAVNLCYTESTSGTVAASDSAYSVAYCLRTGETFTILPKPRSTLDEPATTLAHSERAQFLGDGGVQREIECPGLILRTHQVAQGDATACSVTASSGLEYNRVAPLAVAALVAVHALRKVFPEWKLTPFSIRPRAKPIVTIIPVSTSSTCRTESLLVGTGWQDKVRSSLLGRHTDSVRGCQPQYVHNTDQFSPPHRETPVSISSLATTTPRRLDVDTLLTVIVRSPSPYRVTLCGLSPAQDDDITFLSTKGIRLWISARNAERLVVGWNASRQPADLLAVFCISGMPLSSCLFLQGSLPAGAGSERFYSTKAQLTNTPVDPVNCSPNGTIRLVAVLGSRCVGPVTDGASRQLRFYPTGGLLQPRTSYPAMRVPRIQQSVMPWGETFRNNTIRSANHVHQRVPSRTQVYRLGETRLGALCVRSRQLCTCGSNGDQQPRSWVPKQGFRTQVPMSDFTRIYFGLPESYMQKPRASSQCAYIVALCEGRKQIGTEYSARIVAKPSSNLVRYRYKREMETPERKYKEKFGLAELTVLLKTNTLASTKMKSPFWRPRSWDYLLNMPSTFNNSWQGFREVMAPVINPAQMHRASLQAPIRSFGSRLVQVPKCDSISQQSSPDLAWALRFKDYSLVSTKVNHKTLARNRLNQCFRRFPKHVSNGQMLLIASLKSPIPNLRNGLYRSNFNIARVDETFTWGSLIICAKVSSTSVVITKRDLSTPSTLTLAPLHLYRSGPTTVQRASHQLAPPINKMRSFEKSRSTWVKVHLDFGDCPSVLSVPSPASATYQYPRLVHKGCIPYSLGDKSDRRAHHSRRNTPWVCALRLIKFPAFERAADLGILGQGIRGYEYYYPGPIQRGKASLLLACHSKQLLQERAERNYRSTKTNGPTTSLSVRVQHSPRAYSPRGTKPRQGRPAEKIYTRVAAWPLCLGGCLDRPHPSSGVIFSESSADIPIIFTDRAYTSQPAASRWKTRDGGRPPRESPYSRAPIDAKTGYCQYTDQDALVSELVLVPDRVRTGGSVRGPSTSTCVRPMVRYRWDKVAGSPHIGCNPAKGTGLTKVTVAAYWARSQKGSNASRRKSHSSARAGNSRIPRVRRCVVDTRRPFNTTGYLRSQKFVLQCNGMSPKNRQSSVESGIGVAIAIKKLHAFPAAAVSSATKSQLGSTPISQIPMGDSSTSSPVIFEIRTEFVYQYSTPPCSGRN'"
      ]
     },
     "execution_count": 16,
     "metadata": {},
     "output_type": "execute_result"
    }
   ],
   "source": [
    "test_seq_2 = 'AUGCGUGGCCGCCACUUCUACAAUGCACGCAGUUCAAGCACCAAAUCUGUAGGCUUAGUACUUCCUAAAGUCUAUCCUUGUCUACGCGGUCGGGUUUUGGACACACGUUGUGAUUUCUACACUAGGAAACAAAAGUUCUUUGACCAAAGUCUGAGAAAUGUGAAGUGUCUAAUCCUUAAAUAUUUCGCUGAAUUUUUUGCGUGGAGACGAACCGUAUCCGGGCUGGCCUGGGUGUAUAUAAGGGGUCGCCUGGCCGGCACUCUUCGUUUGGGGUACAGUCUUCUAGGAACGGACUGCACGCAGGCUCGACGGCGGCAGGUAAAUUAUCCCGCGUCAGUGUUUUGUCGGCGCGUUAAUGUUUCUUAUGGUUGUCCCCCAGAUUACCUGCCAACUGCGACUGAUGAUAUGCCGGCCGACCCUGUACCGACGGUUCAUUGCACCUCUUUACUGACCCUCCCUCAAAAAAAGGCAAACGCAUCCUAUGUGCCCGGUGGUCGACCGGACGAACACCUAGAAGCACCUGAGAAAAUCAAGGUUUCGUGUGCAGCGGUGAUACCCACCUGGUCAGUAAACAAGACCGCCAACACUCGACCGUGGUCGGAACAACUGGCCUUAUUACCCUUCAUCUCCGUAAAGAAAGGAUGUCUUCAGUGUCGUAGGCGGGAUCGUAGGAUCAGAGGGACCCACCCUCUUAAUAUUGUCGCAGUAGAGGUUGAUCCGUUUCUACAGCGUAUCAAGACUUUAUUAAACCGGCUUGGCACAGGGUUAGGGUUUCUCACCCAGAGCGUCUAUCGACCACACCAUGGCGAUUGUUUCGAUCCCGGUUACGUUUAUUGUGUUUGUUGGAGCGAAUCAGGACUCCAUUUUGUCCCGAACCGCGGCACGGACCAGGGGUGUAAUCCUUCAGAGGAACUCGGUGCCUCCGCUGGAAUGUCGCCCCGGCGGUUAAUGACCCCGCUCCUAGCAUCUCGCGUCCUGUGUGGUUAUUACGAUUUCCCGGCCGAAAAUGGGUUUCCCCCUUCUACCGACGACUGGGACCUCACAUGGUCAUUGUUGUUCAAGUAUACUCAUGAUGGGAGAUCCAAGGCAGUAGUCAACCUGAGAUUGGCACGUCUUUACGGGUGUAUGCAACGACCCCAGUUAACUCCCCAUCUGGUAGCGAUACUAUAUCCUUUUCAAACUGCCAGGGGCCUUAGACGUAACGUUGGCGGUACGGUUCCACAACAUAAGUCUAUACUAACGGGUUGUCCCCGCAAGAGUUCCGAAUAUAGAGCAGGCAGAGAAUUUGACGUCACAGCUUUCAGCCUAGUAUCUCAAGGGAUAGCGAAAUUUCGGCCUUACAACCAACCAGUUUAUUCACUGAGUGCGCAGUCUUAUCCUUACGCGUCCCGAUGGAGGCAGCUUGGCUAUCGAUCUCGCGUAUUACUCGCGAAAGGUACCCCGACUUUUAACACUGCAAGCACAUCCGACCCUUCCUUGAGUGCUCUGCACUAUCUAUAUGUGGCCCUACAGGGGCAUCCGAUGGUUCCUAUUGCGGAUUGUCUGGCUACAAAGCGACGGCCUAGGCGUCCUUCCCAUCUAUAUCGCUAUGUUUUAAUAGUGGCGCUCAGGUCUAUACGGGCGGGCGAUACUACUUCAAUGAAUUGUGAUAAGCCACGACGAACAAUCUGGAUUGUUAUGUUCGAGACCCAGGAGAGCGGUGCAGGGUAUAACAGUGAUAAUAUCUGCGAAACGGAAAAGCCGGUAUACUGGCACGGCCACACCCUUAGCCGUGUGGCCAAGAAAUUAUCUAGUGCCGGUAGACGAUGCUCAGCGGAUCUGAUAGCUAACCUAGCGUUUAACACCUUGCUCGAGGGCACUCCUGCUUGUCCGACUUGCGAGAGGUACGGCAUAUGCACGAGUAUUAUACGUGGUUGGUCGGCUAGCAUCGCGAUCUUCUCUCUUUAUGCAAGCGCCUUGCGCAACAUAUUGUCAUUAGCGAGUCUAAGCGCGGACCGCGAUAAUCGGAGAUCGGACUCCCCGACGGAUGCCUUUUUAGCGACCUCCACCGCCGUGAGCAGCUUUGGGUCAAUCAUGAGGAGAUGCGUUUUUAUGACUAUAUGGCCCAGCCAGCCGACUAUAGGUUCGAAGAGCCGUUGUACGUGCGGCCACGACUCACCCACUAUAGGCUCGUGGCACACUAUAUCGCUUAGUGCAGUCUUUACGCCUGACUCGGGCCGUGUCGAAGUAUUGUGGGUCCCCACUGAGUUAGCCGGAAUGUAUGACGGGCGGACGUUCUAUCUCGGCUGGAGCGAGUGCGUUCGUUGCGUCCCUUCCCUGCAGAGUACUAUGGGCAGUACAGGCGGUUCGCGGAAAGUUGAGCGCUCUCAUCUAGAGGGCAAAGCUUUCGGCCGGGGCGCCCUACACAUUCCCACCCCAUUUGUAGGCUGUGCCUGUCUAUGCGCGCCCGGGCGGGUUCGGCCGACGCAGUCGAUCGGUGCUGGUGAAUUAUACGAUGCUGUCCCGUCGGGAUCGCUGGAUAGAAGACACUGGGGAUACACCCUUGCGGAUACAUGCUGCACUCAAUAUCUGCAAGACGUCACACUUCCACCGGUUUGUUAUGCUCAUUUAAGUUAUGCUGGGUGUCGGCCAACCACCCUCAUAGAGGAGACAGGAUCCAGGAAUCGCUUCGAAUGCGUCUUAUUCCAUGCGGACUUAGUACCAUCGAUGGGCAACUAUGGGGACCUAGGGGACUCGAAGCGAUGUUUUGACUCGGGGUAUUUGCAUACAUCGCCCGGCAGAGCGCGAAUCCCAAGGGUAUGUCCGCACCGGCAGCAGUACGAUCGUUCUCGGGGAGCGAGAGAUUUGCCUCUGCUCUGGUAUCUUGUCUACUUUACCGCAGUGCUAGAAUCGGGAGCAACCGCCCCGCGAUGGGGGGCAGAGCCUAGUGCUGCUCUAUGUCCCCUAGGAAGUGUCCCACGGGUAGCAAGAGCAGACCCGCCCACAAAAGGCACAUACUACUCCGUCACCUCUGAUACUUGGAACGACGCUUGGUUCAAGGCAGAAGCCCGACUGACGCUGGUAGCCGUGGCGUCCAAGAAGGACGUUCCGACCCUACAAAAGCCCGGUCAGAAUAAGGGUCAUCUUAAACGAAUCGCUGAAUACAACUUAAGGCCUGGGGCUAGGGGUGCAUCUACUUCGCUAGUGACGUUAUCUGUGGCCAGCGCUGGGACCUUGUUUACAGGUCAUCGGGUAAUUUUCCUAACAAUAGAGUUGUGUAACAAAGCACAGGUAAUGCCCGCUAUCCGUCACCUUCCAAGUGAGGUACCCGGUUUAAAAACCCCGGCCACAUCAUGUCGCUCGGUGCACAUCGGUCCUUGUCGAAAGAGUCUGUUUGGAUACGAGGCAGUAUGGAAAGGGGCGGUAGCGAAAUCUUUAUGGACACAGCCCACUUAUAAUUUGGAUAACCAUGAGCAUCGAAUCUGUCCUAGCGCGCGACGAGGCCGCCCCAAGGGCACAUCGCAACCAUCCCGCCGUAUGCUGUAUGUCCCAGCUUGCCACCCCCGUCCAUCACACUACCAUGUUCGUAUGCCACGCACGUGUAUUGCGGCAGCACAAGAAUGUGUGACGAGGAUUUACUUUCAAAUGGAAUAUGUUGACGAAGGGGGCGCCCUAGAGUGUUUAGUCGUCUUUCGACGCUGGCGAAGCUAUCGAGCUAAAUCCCAAGAAAUGAAAGCGAUGGCGACCUGCAAUCUUGCGCUCAAGAAGCUUAUUGUACUAGCGACUACGAUCUGGGGGGCCUACUCAAUGCCGUUAUUUGAAUACGAGCAAGCGGUCGGGCGUUAUGUCAGCUGUAUCCGGGGCGCACUAAUAAGGAGUGGGCCAUUGUGCUGUUUAAUGUAUCGUACUUCCGGGUAUCGGACCAUAGCGUCCGGAUACGUGCACCAGAAAGCCCUUGUAUCCAGCUUGGUCCACGUGUUUGAAAUCAGUGAGACGAAUAUAGUAUUGGUCCCAAAGCUUGGUAAUCGACGCCCUCCUGUUUGGGUACUAGAGUUAACGUGGACCUUCAUUGCCAAACCCAUAUGCUUCGUUAUUAGGGCGCGCAGAACAUCAGACCGAAAAAUAGAACUUUUGGUAGAGCCAUUUCCUAAAACCGGAGAAGAACGUUUUUGGUUGGAUAAAUACAGUUCAGAAGAUAUUCUCCUGUACCACACCCCCCCCUUGGCGUCUUUUCCGAGUUGGACCGCAGGUCGGCAAUUACCCCUUGCGGAGGCGUUGACUCUAGAUUCGUCAAGGUUGAUGGUACCCCUUCACCCGCUGAUGUGCUUUCCCGCGACAGAGAGAGAUGUUAAAUGUGAAGGGAAUGUCUACUUCCAAUUUUGUGAAAUGGGCUGUCUCGCUCGAUCCACUGGCUGGACUUUUUUGGGAGAACGAUCGGACAGCGAAAGCACCAAAUCCUACUCCCCGGUUAUAAACGUUGGAGGUGCUCCCGCAUUCUGCCCACACCCGCCAGGAAAGCGCAUUGGGAGUCCUCAGUCGGAGAGUUACACGUUUGGGCCGCCCCUAACGUACUCUUCGCAUCGAGAUAUGAUCAAUGGGGUCCUGAUACUAAGAUCCGUUUCUAGGAGGGAUCGUCGCCCAGAAUUCCACGCGGUUGCCAUAUAUAUCGUUAUUCGAGGCAGCUCUCGGGAGGACCAUUGGAUACAUCACGUUGUCGCUGGCCUGUACUAUGAGACACGGUCCUUGUACACUUGGUAUACCUCGCAAUCUGUGCAUAGUCUCAGUGAUUCAGAGAGUGAAGGCCAAUUGGUACGCCAUAACGCGGCUGUCUCUUCUAAUUAUUUCAGGAGCCUGUUAGGACUGUGCAAAGCCAUUAGCGUACGACGGACAGCAGUUAACCUAUGCUACACCGAAUCUACGUCGGGGACGGUUGCGGCAUCUGACUCUGCAUAUAGCGUGGCUUAUUGUCUACGAACAGGCGAGACAUUCACAAUUCUGCCGAAGCCGCGGAGUACCCUCGACGAGCCAGCCACGACCCUAGCCCAUUCCGAGCGAGCGCAAUUCCUUGGCGAUGGGGGCGUACAACGCGAAAUCGAAUGCCCCGGACUAAUACUCAGAACCCAUCAGGUAGCGCAAGGAGACGCGACAGCAUGCUCGGUGACUGCUUCAUCGGGGCUCGAAUACAACAGAGUCGCCCCCCUGGCAGUAGCCGCGUUAGUUGCGGUCCACGCGCUUAGAAAGGUCUUCCCAGAAUGGAAGCUGACCCCCUUUAGCAUCAGACCGCGUGCAAAGCCGAUAGUAACAAUUAUUCCGGUGUCGACCAGUUCUACGUGCAGGACUGAGUCAUUGCUAGUUGGUACCGGCUGGCAGGACAAGGUGCGUAGUUCGUUGUUGGGACGCCAUACCGAUUCAGUGCGGGGCUGUCAGCCACAAUAUGUGCAUAACACCGACCAGUUCUCUCCGCCGCAUCGCGAGACACCUGUCUCGAUAAGCAGUUUAGCGACCACUACGCCCCGUAGGCUUGACGUAGAUACCUUGUUGACAGUCAUUGUUAGGAGCCCCUCACCCUAUCGGGUAACUUUGUGUGGACUCUCACCUGCUCAAGACGAUGACAUCACGUUUCUCUCAACAAAGGGUAUCCGGUUAUGGAUAAGUGCUCGAAACGCCGAACGGUUGGUAGUGGGGUGGAAUGCUUCGCGGCAACCAGCCGACCUCCUUGCUGUAUUCUGUAUUUCGGGUAUGCCAUUGUCCUCUUGCCUGUUCCUGCAAGGCUCAUUACCAGCCGGGGCGGGUUCGGAGCGAUUUUACUCGACCAAAGCACAACUGACUAACACUCCUGUAGAUCCUGUCAAUUGUUCGCCUAAUGGGACGAUCAGGCUCGUCGCCGUUUUGGGGUCGAGAUGCGUAGGUCCUGUUACAGAUGGAGCUUCGCGUCAGCUUCGUUUCUACCCUACAGGGGGGCUGCUCCAGCCACGUACAUCCUAUCCUGCCAUGCGCGUUCCAAGGAUACAGCAGUCAGUGAUGCCUUGGGGUGAAACCUUUCGUAACAAUACAAUAAGGUCCGCAAAUCACGUCCACCAGCGUGUGCCCAGUCGAACCCAAGUCUAUCGGCUCGGGGAGACCAGGCUGGGUGCCCUAUGCGUUAGGUCCAGACAGCUGUGCACGUGCGGGUCUAAUGGGGAUCAGCAACCCAGGAGCUGGGUCCCCAAGCAGGGCUUUCGGACACAAGUACCUAUGUCUGAUUUCACCCGUAUAUAUUUUGGUCUCCCAGAAUCUUACAUGCAGAAACCCCGGGCUUCAUCUCAAUGUGCAUAUAUCGUCGCUUUAUGUGAAGGACGUAAACAGAUCGGCACGGAGUACUCUGCACGGAUAGUCGCGAAACCGUCGUCAAACCUGGUCCGAUAUAGGUACAAACGGGAAAUGGAGACGCCGGAAAGAAAAUACAAGGAGAAAUUCGGUCUUGCAGAACUAACGGUGUUAUUAAAGACGAAUACGCUUGCCUCGACCAAAAUGAAGAGCCCCUUCUGGAGGCCGAGAAGCUGGGACUAUCUGCUUAACAUGCCCUCUACGUUUAACAAUUCUUGGCAGGGGUUUCGGGAGGUUAUGGCACCAGUAAUCAAUCCCGCCCAGAUGCAUCGGGCCUCUCUUCAAGCUCCCAUUCGCUCCUUUGGGAGUCGCCUGGUGCAAGUACCUAAAUGUGACAGUAUCUCGCAGCAGUCUUCGCCUGAUCUUGCGUGGGCGCUCCGCUUCAAGGACUACUCGUUAGUUAGUACCAAGGUCAAUCACAAAACUUUGGCCCGUAACAGACUGAAUCAAUGUUUCCGUAGAUUUCCCAAACACGUUUCGAAUGGCCAAAUGCUACUCAUUGCGUCACUGAAGUCUCCCAUCCCCAACCUUCGUAAUGGACUAUAUCGAUCAAAUUUUAAUAUUGCUAGGGUAGAUGAAACUUUCACUUGGGGUUCAUUGAUUAUCUGUGCCAAAGUCAGUUCCACGAGUGUCGUUAUAACGAAACGUGAUCUCUCCACACCGAGUACGCUCACGCUUGCCCCAUUACAUCUGUAUAGGUCAGGACCUACCACUGUGCAGAGAGCGUCGCACCAGCUCGCCCCUCCAAUCAACAAGAUGAGAUCAUUCGAAAAAUCCAGGUCAACAUGGGUCAAGGUACACCUCGACUUUGGUGAUUGCCCCUCUGUCCUAUCUGUCCCAUCCCCAGCUUCUGCCACGUACCAGUACCCUCGAUUAGUCCAUAAGGGUUGCAUACCCUAUAGCUUGGGAGAUAAAUCGGACCGGCGCGCGCAUCACUCGCGUCGCAAUACUCCGUGGGUGUGUGCACUUAGGCUCAUUAAAUUUCCGGCGUUCGAGCGGGCUGCUGACUUGGGAAUACUAGGACAGGGUAUUCGGGGCUAUGAGUACUACUAUCCAGGACCCAUUCAGAGAGGUAAAGCGAGUCUGCUCCUAGCGUGUCAUUCCAAACAACUGCUACAGGAGCGGGCAGAACGUAACUACAGAUCAACAAAAACCAACGGCCCAACGACAUCCUUAUCGGUACGCGUGCAACACUCGCCACGAGCGUAUUCCCCGAGAGGGACGAAGCCAAGACAAGGGCGCCCUGCAGAAAAGAUUUAUACCAGAGUGGCAGCUUGGCCAUUGUGUUUAGGGGGAUGCUUGGACAGACCGCACCCUUCGAGUGGCGUAAUCUUCUCUGAAUCUUCUGCCGAUAUACCUAUCAUUUUUACUGACCGGGCCUACACAAGCCAGCCGGCCGCUUCUAGGUGGAAGACCCGCGAUGGGGGACGUCCGCCGCGUGAAUCGCCAUAUUCCAGAGCGCCGAUCGACGCAAAAACCGGCUACUGCCAGUACACCGACCAAGACGCGUUAGUAUCGGAGUUAGUCCUAGUGCCGGACCGAGUUCGAACAGGCGGGAGCGUGCGUGGUCCAUCAACUUCAACGUGCGUUCGGCCGAUGGUACGCUAUCGCUGGGAUAAAGUCGCCGGAAGCCCACAUAUUGGGUGUAACCCCGCCAAGGGUACUGGCCUUACCAAAGUAACUGUCGCGGCGUACUGGGCUCGGUCGCAAAAAGGCAGCAAUGCGAGUAGACGGAAGUCACACAGCUCAGCGCGCGCUGGUAAUUCUCGAAUCCCGCGCGUGCGAAGGUGUGUGGUCGACACACGUAGACCCUUCAACACAACGGGUUAUCUCCGAUCUCAAAAAUUCGUGUUACAAUGCAACGGUAUGAGUCCAAAAAACAGGCAGUCAUCCGUUGAAUCUGGGAUUGGGGUAGCUAUAGCGAUUAAGAAAUUGCAUGCCUUCCCCGCAGCCGCAGUUUCUUCCGCUACCAAGAGCCAGCUCGGAUCAACUCCAAUUUCGCAGAUACCAAUGGGAGAUUCCUCAACUUCAAGUCCGGUUAUUUUCGAAAUCAGGACAGAGUUCGUGUAUCAAUAUUCGACUCCGCCAUGUAGCGGCAGGAACUGA'\n",
    "translate(test_seq_2)"
   ]
  },
  {
   "cell_type": "markdown",
   "metadata": {},
   "source": [
    "# Finding a Motif in DNA\n",
    "\n",
    "Given two strings s and t, t is a substring of s if t is contained as a contiguous collection of symbols in s (as a result, t must be no longer than s).\n",
    "\n",
    "The position of a symbol in a string is the total number of symbols found to its left, including itself (e.g., the positions of all occurrences of 'U' in \"AUGCUUCAGAAAGGUCUUACG\" are 2, 5, 6, 15, 17, and 18). The symbol at position i of s is denoted by s[i].\n",
    "\n",
    "A substring of s can be represented as s[j:k], where j and k represent the starting and ending positions of the substring in s; for example, if s = \"AUGCUUCAGAAAGGUCUUACG\", then s[2:5] = \"UGCU\".\n",
    "\n",
    "The location of a substring s[j:k] is its beginning position j; note that t will have multiple locations in s if it occurs more than once as a substring of s (see the Sample below).\n",
    "\n",
    "Given: Two DNA strings s and t (each of length at most 1 kbp).\n",
    "\n",
    "Return: All locations of t as a substring of s."
   ]
  },
  {
   "cell_type": "code",
   "execution_count": 17,
   "metadata": {},
   "outputs": [],
   "source": [
    "import re\n",
    "\n",
    "def find_motif(motif, seq):\n",
    "    # create lookahead string to find overlapping motifs\n",
    "    q = '(?=' + motif + ')'\n",
    "    # create iterator to find all the motifs in the seq\n",
    "    iterator = re.finditer(q, seq)\n",
    "    # find all start locations of motifs in the seq\n",
    "    indices = [m.start(0) for m in iterator]\n",
    "    # make start locations of indices for base 1\n",
    "    indices_base_1 = [x+1 for x in indices]\n",
    "    \n",
    "    return indices_base_1"
   ]
  },
  {
   "cell_type": "code",
   "execution_count": 18,
   "metadata": {},
   "outputs": [
    {
     "data": {
      "text/plain": [
       "[2, 4, 10]"
      ]
     },
     "execution_count": 18,
     "metadata": {},
     "output_type": "execute_result"
    }
   ],
   "source": [
    "motif = 'ATAT'\n",
    "seq = 'GATATATGCATATACTT'\n",
    "\n",
    "find_motif(motif, seq)"
   ]
  },
  {
   "cell_type": "markdown",
   "metadata": {},
   "source": [
    "# Counting Point Mutations\n",
    "\n",
    "Given two strings s and t of equal length, the Hamming distance between s and t, denoted dH(s,t), is the number of corresponding symbols that differ in s and t. \n",
    "\n",
    "Given: Two DNA strings s and t of equal length (not exceeding 1 kbp).\n",
    "\n",
    "Return: The Hamming distance dH(s,t)."
   ]
  },
  {
   "cell_type": "code",
   "execution_count": 19,
   "metadata": {},
   "outputs": [],
   "source": [
    "def hamming_distance(seq1, seq2):\n",
    "    # Check to see if sequences are of equal length\n",
    "    if len(seq1) != len(seq2):\n",
    "        raise ValueError(\"Undefined for sequences of unequal length\")\n",
    "    # returns sum of the differences in sequences when seq1 and seq2 are zip()\n",
    "    return sum(aa1 != aa2 for aa1, aa2 in zip(seq1, seq2))"
   ]
  },
  {
   "cell_type": "code",
   "execution_count": 20,
   "metadata": {},
   "outputs": [
    {
     "data": {
      "text/plain": [
       "7"
      ]
     },
     "execution_count": 20,
     "metadata": {},
     "output_type": "execute_result"
    }
   ],
   "source": [
    "seq1 = 'GAGCCTACTAACGGGAT'\n",
    "seq2 = 'CATCGTAATGACGGCCT'\n",
    "\n",
    "hamming_distance(seq1, seq2)"
   ]
  },
  {
   "cell_type": "markdown",
   "metadata": {},
   "source": [
    "# Calculating Expected Offspring\n",
    "\n",
    "For a random variable X taking integer values between 1 and n, the expected value of X is E(X)=∑nk=1 k×Pr(X=k). The expected value offers us a way of taking the long-term average of a random variable over a large number of trials.\n",
    "\n",
    "As a motivating example, let X be the number on a six-sided die. Over a large number of rolls, we should expect to obtain an average of 3.5 on the die (even though it's not possible to roll a 3.5). The formula for expected value confirms that E(X)=∑6k=1 k×Pr(X=k)=3.5.\n",
    "\n",
    "More generally, a random variable for which every one of a number of equally spaced outcomes has the same probability is called a uniform random variable (in the die example, this \"equal spacing\" is equal to 1). We can generalize our die example to find that if X is a uniform random variable with minimum possible value a and maximum possible value b, then E(X)=a+b2. You may also wish to verify that for the dice example, if Y is the random variable associated with the outcome of a second die roll, then E(X+Y)=7.\n",
    "\n",
    "Given: Six nonnegative integers, each of which does not exceed 20,000. The integers correspond to the number of couples in a population possessing each genotype pairing for a given factor. In order, the six given integers represent the number of couples having the following genotypes:\n",
    "\n",
    "AA-AA\n",
    "\n",
    "AA-Aa\n",
    "\n",
    "AA-aa\n",
    "\n",
    "Aa-Aa\n",
    "\n",
    "Aa-aa\n",
    "\n",
    "aa-aa\n",
    "\n",
    "Return: The expected number of offspring displaying the dominant phenotype in the next generation, under the assumption that every couple has exactly two offspring."
   ]
  },
  {
   "cell_type": "code",
   "execution_count": 21,
   "metadata": {},
   "outputs": [],
   "source": [
    "def make_geno_dict(num_couples):\n",
    "    # declare new dict geno and list of genotype pairs\n",
    "    geno_dict = {}\n",
    "    geno = [\"AA-AA\", \"AA-Aa\", \"AA-aa\", \"Aa-Aa\", \"Aa-aa\", \"aa-aa\"]\n",
    "    \n",
    "    # for each genotype pair add it and the number of couples to the geno dict\n",
    "    for idx, g in enumerate(geno):\n",
    "        geno_dict[g] = num_couples[idx]\n",
    "        \n",
    "    return geno_dict\n",
    "\n",
    "def cal_exp_offspring(num_couples):\n",
    "    # make dict from num_couples\n",
    "    geno = make_geno_dict(num_couples)\n",
    "    \n",
    "    # Probabilty of pairs producing a dominate phenotype\n",
    "    multiplier = {\"AA-AA\": 1.0, \n",
    "                  \"AA-Aa\": 1.0, \n",
    "                  \"AA-aa\": 1.0, \n",
    "                  \"Aa-Aa\": 0.75, \n",
    "                  \"Aa-aa\": 0.50, \n",
    "                  \"aa-aa\": 0.0}\n",
    "    # Each couple has exactly 2 offspring times the number of genotype pairing\n",
    "    # times the probability of getting a domominat phenotype in the next\n",
    "    # generation plus the previous phenotype pairs' probability\n",
    "    exp = 0\n",
    "    for x in geno.keys():\n",
    "        exp = exp + 2 * geno[x] * multiplier[x]\n",
    "    return exp"
   ]
  },
  {
   "cell_type": "code",
   "execution_count": 22,
   "metadata": {
    "scrolled": true
   },
   "outputs": [
    {
     "data": {
      "text/plain": [
       "149949.5"
      ]
     },
     "execution_count": 22,
     "metadata": {},
     "output_type": "execute_result"
    }
   ],
   "source": [
    "def read_iev_file(filename):\n",
    "    with open(filename)as file:\n",
    "        return [float(i) for i in file.read().split(' ')]\n",
    "    \n",
    "num_couples = read_iev_file('rosalind_iev.txt')\n",
    "# num_couples = [1, 0, 0, 1, 0, 1]\n",
    "cal_exp_offspring(num_couples)"
   ]
  },
  {
   "cell_type": "markdown",
   "metadata": {},
   "source": [
    "# Mortal Fibonacci Rabbits\n",
    "\n",
    "Recall the definition of the Fibonacci numbers from “Rabbits and Recurrence Relations”, which followed the recurrence relation Fn=Fn−1+Fn−2 and assumed that each pair of rabbits reaches maturity in one month and produces a single pair of offspring (one male, one female) each subsequent month.\n",
    "\n",
    "Our aim is to somehow modify this recurrence relation to achieve a dynamic programming solution in the case that all rabbits die out after a fixed number of months. See Figure 4 for a depiction of a rabbit tree in which rabbits live for three months (meaning that they reproduce only twice before dying).\n",
    "\n",
    "Given: Positive integers n≤100 and m≤20.\n",
    "\n",
    "Return: The total number of pairs of rabbits that will remain after the n-th month if all rabbits live for m months."
   ]
  },
  {
   "cell_type": "code",
   "execution_count": 23,
   "metadata": {},
   "outputs": [],
   "source": [
    "def mortal_fibonacci(n, m):\n",
    "    # Make an array of alive rabbits at length months lived (m) and set the\n",
    "    # the first alive rabbit to 1 to start population\n",
    "    ages = [0]*m\n",
    "    ages[0] = 1\n",
    "    # for each n-th month in base 0\n",
    "    for i in range(n-1):\n",
    "        # one rabbit pair being born for each mature rabbit pair\n",
    "        born = sum(ages[1:])\n",
    "        # rabbits that will be alive next month\n",
    "        alive = ages[:-1]\n",
    "        # dying rabbits\n",
    "        dying = ages[-1]\n",
    "        # array of alive rabbits\n",
    "        ages = [born] + alive\n",
    "    # return sum of all alive rabbits\n",
    "    return sum(ages)"
   ]
  },
  {
   "cell_type": "code",
   "execution_count": 24,
   "metadata": {
    "scrolled": false
   },
   "outputs": [
    {
     "data": {
      "text/plain": [
       "60"
      ]
     },
     "execution_count": 24,
     "metadata": {},
     "output_type": "execute_result"
    }
   ],
   "source": [
    "mortal_fibonacci(12, 4)"
   ]
  },
  {
   "cell_type": "markdown",
   "metadata": {},
   "source": [
    "# Inferring mRNA from Protein\n",
    "\n",
    "For positive integers a and n, a modulo n (written a mod n in shorthand) is the remainder when a is divided by n. For example, 29 mod 11=7 because 29=11×2+7.\n",
    "\n",
    "Modular arithmetic is the study of addition, subtraction, multiplication, and division with respect to the modulo operation. We say that a and b are congruent modulo n if a mod n = b mod n; in this case, we use the notation a ≡ b mod n.\n",
    "\n",
    "Two useful facts in modular arithmetic are that if a ≡ b mod n and c ≡ d mod n, then a + c ≡ b + d mod n and a × c ≡ b × d mod n. To check your understanding of these rules, you may wish to verify these relationships for a=29, b=73, c=10, d=32, and n=11.\n",
    "\n",
    "As you will see in this exercise, some Rosalind problems will ask for a (very large) integer solution modulo a smaller number to avoid the computational pitfalls that arise with storing such large numbers.\n",
    "\n",
    "Given: A protein string of length at most 1000 aa.\n",
    "\n",
    "Return: The total number of different RNA strings from which the protein could have been translated, modulo 1,000,000. (Don't neglect the importance of the stop codon in protein translation.)"
   ]
  },
  {
   "cell_type": "code",
   "execution_count": 25,
   "metadata": {},
   "outputs": [],
   "source": [
    "RNA_codon_table = {\n",
    "    \"UUU\":\"F\", \"UUC\":\"F\", \"UUA\":\"L\", \"UUG\":\"L\",\n",
    "    \"UCU\":\"S\", \"UCC\":\"S\", \"UCA\":\"S\", \"UCG\":\"S\",\n",
    "    \"UAU\":\"Y\", \"UAC\":\"Y\", \"UAA\":\"STOP\", \"UAG\":\"STOP\",\n",
    "    \"UGU\":\"C\", \"UGC\":\"C\", \"UGA\":\"STOP\", \"UGG\":\"W\",\n",
    "    \"CUU\":\"L\", \"CUC\":\"L\", \"CUA\":\"L\", \"CUG\":\"L\",\n",
    "    \"CCU\":\"P\", \"CCC\":\"P\", \"CCA\":\"P\", \"CCG\":\"P\",\n",
    "    \"CAU\":\"H\", \"CAC\":\"H\", \"CAA\":\"Q\", \"CAG\":\"Q\",\n",
    "    \"CGU\":\"R\", \"CGC\":\"R\", \"CGA\":\"R\", \"CGG\":\"R\",\n",
    "    \"AUU\":\"I\", \"AUC\":\"I\", \"AUA\":\"I\", \"AUG\":\"M\",\n",
    "    \"ACU\":\"T\", \"ACC\":\"T\", \"ACA\":\"T\", \"ACG\":\"T\",\n",
    "    \"AAU\":\"N\", \"AAC\":\"N\", \"AAA\":\"K\", \"AAG\":\"K\",\n",
    "    \"AGU\":\"S\", \"AGC\":\"S\", \"AGA\":\"R\", \"AGG\":\"R\",\n",
    "    \"GUU\":\"V\", \"GUC\":\"V\", \"GUA\":\"V\", \"GUG\":\"V\",\n",
    "    \"GCU\":\"A\", \"GCC\":\"A\", \"GCA\":\"A\", \"GCG\":\"A\",\n",
    "    \"GAU\":\"D\", \"GAC\":\"D\", \"GAA\":\"E\", \"GAG\":\"E\",\n",
    "    \"GGU\":\"G\", \"GGC\":\"G\", \"GGA\":\"G\", \"GGG\":\"G\",\n",
    "}"
   ]
  },
  {
   "cell_type": "code",
   "execution_count": 26,
   "metadata": {},
   "outputs": [],
   "source": [
    "def reverse_codon_table(table):\n",
    "    r_key = ''\n",
    "    r_value = ''\n",
    "    reverse = {}\n",
    "    \n",
    "    for k in table.keys():\n",
    "        r_key = table[k]\n",
    "        r_value = k\n",
    "        if r_key in reverse:\n",
    "            reverse[r_key].append(r_value)\n",
    "        else:\n",
    "            reverse[r_key] = [r_value]\n",
    "            \n",
    "    return reverse\n",
    "\n",
    "def codon_freq_table(table):\n",
    "    # reverse_table = reverse_codon_table(table)\n",
    "    freq = {}\n",
    "    for k in table.keys():\n",
    "        freq[k] = len(table[k])\n",
    "        \n",
    "    return freq"
   ]
  },
  {
   "cell_type": "code",
   "execution_count": 27,
   "metadata": {},
   "outputs": [
    {
     "name": "stdout",
     "output_type": "stream",
     "text": [
      "{'A': 4, 'C': 2, 'E': 2, 'D': 2, 'G': 4, 'F': 2, 'I': 3, 'H': 2, 'K': 2, 'STOP': 3, 'M': 1, 'L': 6, 'N': 2, 'Q': 2, 'P': 4, 'S': 6, 'R': 6, 'T': 4, 'W': 1, 'V': 4, 'Y': 2}\n"
     ]
    }
   ],
   "source": [
    "reverse_codon = reverse_codon_table(RNA_codon_table)\n",
    "freq = codon_freq_table(reverse_codon)\n",
    "print freq"
   ]
  },
  {
   "cell_type": "code",
   "execution_count": 28,
   "metadata": {},
   "outputs": [],
   "source": [
    "# https://stackoverflow.com/questions/46135385/inferring-mrna-from-protein-rosalind\n",
    "from functools import reduce\n",
    "from operator import mul\n",
    "\n",
    "def num_rna_strings(dna, modulo=None):\n",
    "    if modulo:\n",
    "        reduce_fn = lambda a, b: (a * b) % modulo\n",
    "    else:\n",
    "        reduce_fn = mul\n",
    "    freqs = (freq[base] for base in dna)\n",
    "\n",
    "    return reduce(reduce_fn, freqs, freq[\"STOP\"])"
   ]
  },
  {
   "cell_type": "code",
   "execution_count": 29,
   "metadata": {
    "scrolled": true
   },
   "outputs": [
    {
     "data": {
      "text/plain": [
       "69952"
      ]
     },
     "execution_count": 29,
     "metadata": {},
     "output_type": "execute_result"
    }
   ],
   "source": [
    "protein = 'MIFEYKCQPFSMNDDSTFQPFDPDGNGPVVMKTQCMYPAYKWNVQSKSIVKRHNHTYHISYAKLDHVVCDWPVDFVDPVGITNHQVKKHQFTIETDRRTTCEMRQSMVLFYLWGHPDVSFKPGWQEPVPTGAYLGQSHCGPKSGGTKDYVAHMKFTSDLCMKWTTHWQHECQNHMHHGGAWYFLGAHSHMYRRKSFRCNGTACHWNDHTIGQHLAGWMFIFSGQHWGWDRADYCQWMTMFNYNPSSDQWRTGHREVGGANKGDWDWFYWIYSKIDWLSYWQGYYPVGICNIMHGLPGFWLTWGTEWNQELKRTKGYEDVVCAQFADNNIFGDEGVSHYQDSQKEVCGFMYMMFCNLVYDVLFNDQLDPFNRIIFDTTRQWQMFQWNHFMILSQDHYHCVLCFCQARERRCYKEEDQIQETHRSNTLHTRALEMLPCCMRYCRDGMPASLVQFKAQIYPQIGPCEWEEPPWHFLNWYGAFFNPCSHLYMNLIHYCRQMVLRILRGEDPIIMFNEDFEHIASKCCNHFDPFRWAMRITHNRTFTTFHKGFMFYMMIYCPIQGGPVCHDSLQEKTGCAGINEEGIFKDMQRQYQQGNDSLTDIHWQMTPDMDATFKDPYWPNWVDREFCTKAEDPIRMHTCPFEAFEYVVHVSTHGMPHCEMCLPLPHTMWHGGAENNSHKGPIRMHRVYFMAEWNIDRWIFHDEYYTWCHAMAKCYREPSCHLFITFNYNIYSYIEQDDKFRKNMTKTQKHIGPRRRMTQMLPNNHYDFHGAMCETPPSRMAHYGSHLPNPNSNDFCDTANSYDPNREFQSCDCMNNKGQFPACCAVNPIVDHHFMWAFQHNKEDRYNSKGISLCLHGTYGALLHIWVEVIMKYSEQCQVPIILRQSLDKFRKKRSVMVICSIDFTMMGPHCGWDDGWKFRSSSVPRNWFMDCERMITRKQPQMVDDASCYTHGRPPKAFYFFEAKEHGHTYAFYFCIYHWVKPMETSYEFNVMNHQTQAT'\n",
    "num_rna_strings(protein, 1000000)"
   ]
  },
  {
   "cell_type": "markdown",
   "metadata": {},
   "source": [
    "# Independent Alleles\n",
    "\n",
    "Two events A and B are independent if Pr(A and B) is equal to Pr(A)×Pr(B). In other words, the events do not influence each other, so that we may simply calculate each of the individual probabilities separately and then multiply.\n",
    "\n",
    "More generally, random variables X and Y are independent if whenever A and B are respective events for X and Y, A and B are independent (i.e., Pr(A and B)=Pr(A)×Pr(B)).\n",
    "\n",
    "As an example of how helpful independence can be for calculating probabilities, let X and Y represent the numbers showing on two six-sided dice. Intuitively, the number of pips showing on one die should not affect the number showing on the other die. If we want to find the probability that X+Y is odd, then we don't need to draw a tree diagram and consider all possibilities. We simply first note that for X+Y to be odd, either X is even and Y is odd or X is odd and Y is even. In terms of probability, Pr(X+Y is odd)=Pr(X is even and Y is odd)+Pr(X is odd and Y is even). Using independence, this becomes [Pr(X is even)×Pr(Y is odd)]+[Pr(X is odd)×Pr(Y is even)], or (1/2)^2+(1/2)^2=12. You can verify this result in Figure 2, which shows all 36 outcomes for rolling two dice.\n",
    "\n",
    "Given: Two positive integers k (k≤7) and N (N≤2k). In this problem, we begin with Tom, who in the 0th generation has genotype Aa Bb. Tom has two children in the 1st generation, each of whom has two children, and so on. Each organism always mates with an organism having genotype Aa Bb.\n",
    "\n",
    "Return: The probability that at least N Aa Bb organisms will belong to the k-th generation of Tom's family tree (don't count the Aa Bb mates at each level). Assume that Mendel's second law holds for the factors."
   ]
  },
  {
   "cell_type": "code",
   "execution_count": 30,
   "metadata": {},
   "outputs": [],
   "source": [
    "import math\n",
    "\n",
    "def nCr(n,r):\n",
    "    f = math.factorial\n",
    "    return f(n) / f(r) / f(n-r)\n",
    "\n",
    "def independent_alleles(k, n):\n",
    "    N = 2**k\n",
    "    prop = 0\n",
    "    for i in range(n, N+1):\n",
    "        f = nCr(N, i)\n",
    "        prop = f*(0.25**i)*(0.75**(N-i)) + prop\n",
    "    return prop "
   ]
  },
  {
   "cell_type": "code",
   "execution_count": 31,
   "metadata": {
    "scrolled": true
   },
   "outputs": [
    {
     "data": {
      "text/plain": [
       "0.4333521110224611"
      ]
     },
     "execution_count": 31,
     "metadata": {},
     "output_type": "execute_result"
    }
   ],
   "source": [
    "independent_alleles(6, 17)"
   ]
  },
  {
   "cell_type": "markdown",
   "metadata": {},
   "source": [
    "# Calculating Protein Mass\n",
    "\n",
    "In a weighted alphabet, every symbol is assigned a positive real number called a weight. A string formed from a weighted alphabet is called a weighted string, and its weight is equal to the sum of the weights of its symbols.\n",
    "\n",
    "The standard weight assigned to each member of the 20-symbol amino acid alphabet is the monoisotopic mass of the corresponding amino acid.\n",
    "\n",
    "Given: A protein string P of length at most 1000 aa.\n",
    "\n",
    "Return: The total weight of P. Consult the monoisotopic mass table."
   ]
  },
  {
   "cell_type": "code",
   "execution_count": 32,
   "metadata": {},
   "outputs": [],
   "source": [
    "monoisotopic_mass_table = {'A': 71.03711, \n",
    "                           'C': 103.00919, \n",
    "                           'D': 115.02694, \n",
    "                           'E': 129.04259, \n",
    "                           'F': 147.06841, \n",
    "                           'G': 57.02146, \n",
    "                           'H': 137.05891, \n",
    "                           'I': 113.08406, \n",
    "                           'K': 128.09496, \n",
    "                           'L': 113.08406, \n",
    "                           'M': 131.04049, \n",
    "                           'N': 114.04293, \n",
    "                           'P': 97.05276, \n",
    "                           'Q': 128.05858, \n",
    "                           'R': 156.10111, \n",
    "                           'S': 87.03203, \n",
    "                           'T': 101.04768, \n",
    "                           'V': 99.06841, \n",
    "                           'W': 186.07931, \n",
    "                           'Y': 163.06333 }\n",
    "\n",
    "def aa_wieght(aa):\n",
    "    aa.upper()\n",
    "    w = 0\n",
    "    for a in aa:\n",
    "        if a in monoisotopic_mass_table.keys():\n",
    "            w = w + monoisotopic_mass_table[a]\n",
    "    \n",
    "    return w"
   ]
  },
  {
   "cell_type": "code",
   "execution_count": 33,
   "metadata": {},
   "outputs": [
    {
     "data": {
      "text/plain": [
       "120244.54075000055"
      ]
     },
     "execution_count": 33,
     "metadata": {},
     "output_type": "execute_result"
    }
   ],
   "source": [
    "aa = 'SKADYEK'\n",
    "aa_2 = 'LRRHNRWYWRWREKPDRWQENCGDEDFEWDINWAGQHATSRWMGDFSVAGGLEMTWVRMSLANRNEWVVIHDVCLTHAHNFDNPWVRDWCFVMHKNMIWRYLRYYTLQLCCDRATWSCASNEACRPYAHVVILVPTWMIGQWIHESTNAFLKCMRCTWDTKWAIITTTMRARNEFFYNVSQSQHFCNPWDYCPCTECQQRKVDIQYPQLYMNDNSHKMAQEESECSLQTEYWCFYFGWCKHHFYRCHNLVFLCTCCGAVIWHCYMTRANLATFWYAKNYTIYDTSTFLYLTTPSHGPKNLWTLMKENFCWPLFVSMYARMCRTMPAAAECCWVDEKYFDMPFIDGYEQNCGVNDYHNKLVWYDWWNYGNMPMYPQDEKEVVPCGIKGYNCCNDAPLVWQGVAEERLDGDVMVNSIAVQPNHNCPFYNWWGFFWSHSRITWETYLGPKNNTVPCSFWVDFFYHFGSSLSDQKHFLPDACHRMVHLIRHFDDFRIDRQMQNKMYCHTEKEHFFKEFNCGKIPLRWKPYSSCMHLFRFESIMAKCKHELRDGRYVEAISKMHKQRWWSEGVTPRYIPNMTLINQCQTSRVRFMCDTVCENAQWPYYNCNFWWVFGLMDSKHRALRCCGDLMHCCASWPIRCELLRNFNRLESMTIMHQGILFQRWVVYNLGRLCFNLREYKVGMNWDMTERINPFMCFKCDYDLRYRLDKRTQISFWDWYRTCRYRIAEDHDYQTILPWMVCEGIEGWIVEWTWRSSIASLAQDKAIMNRYMRSPFFTYFSTSWFESIEVVDLTHACEVAFLMTMATRKMYQNQRVIGAPTRADCILWNNVTFWHWCCMPYSTDMKFMFSVKNTGGTWLCYCMYWCSMKDYSVCAFMIINFWYAVGCENMVVFPPRMDMTDRIYHLWRNQQETGWEIQCAHVKPGEHWDCYTVVVANCIRVTGSSIEKFTQGQVGADKKTLPYEMMVAVNHLPLLDTEFNKPQCWMHPDPTCEHFDEPY'\n",
    "aa_wieght(aa_2)"
   ]
  },
  {
   "cell_type": "markdown",
   "metadata": {},
   "source": [
    "# Overlap Graphs\n",
    "\n",
    "A graph whose nodes have all been labeled can be represented by an adjacency list, in which each row of the list contains the two node labels corresponding to a unique edge.\n",
    "\n",
    "A directed graph (or digraph) is a graph containing directed edges, each of which has an orientation. That is, a directed edge is represented by an arrow instead of a line segment; the starting and ending nodes of an edge form its tail and head, respectively. The directed edge with tail v and head w is represented by (v,w) (but not by (w,v)). A directed loop is a directed edge of the form (v,v).\n",
    "\n",
    "For a collection of strings and a positive integer k, the overlap graph for the strings is a directed graph Ok in which each string is represented by a node, and string s is connected to string t with a directed edge when there is a length k suffix of s that matches a length k prefix of t, as long as s≠t; we demand s≠t to prevent directed loops in the overlap graph (although directed cycles may be present).\n",
    "\n",
    "Given: A collection of DNA strings in FASTA format having total length at most 10 kbp.\n",
    "\n",
    "Return: The adjacency list corresponding to O3. You may return edges in any order."
   ]
  },
  {
   "cell_type": "code",
   "execution_count": 34,
   "metadata": {},
   "outputs": [],
   "source": [
    "# Split the file contents at '>' to get a list of strings representing entries\n",
    "def read_FASTA_strings(filename):\n",
    "    with open(filename) as file:\n",
    "        return file.read().split('>')[1:]\n",
    "\n",
    "# Partition the strings to seperate the first line from the rest\n",
    "def read_FASTA_entries(filename):\n",
    "    return [seq.partition('\\n') for seq in read_FASTA_strings(filename)]\n",
    "\n",
    "# Remove the newlines from the sequence data\n",
    "def read_FASTA_sequences(filename):\n",
    "    return [(info[0:], seq.replace('\\n', '')) \n",
    "            for info, ignore, seq in #ignor is ignores (!)\n",
    "            read_FASTA_entries(filename)]\n",
    "\n",
    "# Create an sequence dictionary from sequence data\n",
    "def make_indexed_sequences_dictionary(filename):\n",
    "    return {info: seq for info, seq in read_FASTA_sequences(filename)}"
   ]
  },
  {
   "cell_type": "code",
   "execution_count": 35,
   "metadata": {
    "scrolled": true
   },
   "outputs": [],
   "source": [
    "# create prefix and suffix dictionary\n",
    "def dna_pre_suf(k, key, value):\n",
    "    r = {}\n",
    "    r['name'] = key\n",
    "    r['dna'] = value\n",
    "    r['kprefix'] = value[0:k]\n",
    "    r['ksuffix'] = value[-k:]\n",
    "    r['overlap'] = []\n",
    "    return r\n",
    "\n",
    "# create dictionary for all prefix and suffix dictionaries\n",
    "def make_og_dict(dna_dict, k):\n",
    "    og = {}\n",
    "    for key in dna_dict.keys():\n",
    "        og[key] = dna_pre_suf(k, key, dna_dict[key])\n",
    "    return og\n",
    "\n",
    "# compares the suffix of and prefix of two dictionaires\n",
    "def compare_suffix_prefix(one, two):\n",
    "    # create strings for each thing being comparies\n",
    "    one_name, two_name = one['name'], two['name']\n",
    "    one_dna, two_dna = one['dna'], two['dna']\n",
    "    one_ksuffix, two_kprefix = one['ksuffix'], two['kprefix']\n",
    "    \n",
    "    # If name or dna sequence is the same return nothing. If one suffix is same \n",
    "    # as two prefix return two name.\n",
    "    if one_name == two_name:\n",
    "        return\n",
    "    elif one_dna == two_dna:\n",
    "        return\n",
    "    elif one_ksuffix == two_kprefix:\n",
    "        return two_name\n",
    "    else:\n",
    "        return\n",
    "\n",
    "def make_overlap_graph_dict(filename, k):\n",
    "    # create dna_dict from fasta file\n",
    "    dna_dict = make_indexed_sequences_dictionary(filename)\n",
    "    \n",
    "    # create dictionary for all prefix and suffix dictionaries and list of \n",
    "    # dictionary keys\n",
    "    og = make_og_dict(dna_dict, k)\n",
    "    og_list = list(og)\n",
    "    \n",
    "    # for each dna key in og dictioanry will be suffix will be compared to each\n",
    "    # other dna key's prefix.  If they are a match the name of the prefix dna\n",
    "    # will be added to the suffix dna overlap key.\n",
    "    for n in range(len(og_list)):\n",
    "        one = og_list[n]\n",
    "        for l in og_list:\n",
    "            suf_pre = compare_suffix_prefix(og[one], og[l])\n",
    "            if suf_pre:\n",
    "                pointer_dict = og[one]\n",
    "                pointer_dict['overlap'].append(suf_pre)\n",
    "\n",
    "    return og\n",
    "\n",
    "def print_overlap(d):\n",
    "    if d['overlap']:\n",
    "        for i in range(len(d['overlap'])):\n",
    "            print d['name'], d['overlap'][i]"
   ]
  },
  {
   "cell_type": "code",
   "execution_count": 36,
   "metadata": {},
   "outputs": [
    {
     "name": "stdout",
     "output_type": "stream",
     "text": [
      "Rosalind_9359 Rosalind_6320\n",
      "Rosalind_9359 Rosalind_2228\n",
      "Rosalind_9359 Rosalind_5429\n",
      "Rosalind_5735 Rosalind_8345\n",
      "Rosalind_5735 Rosalind_5570\n",
      "Rosalind_5735 Rosalind_2958\n",
      "Rosalind_0034 Rosalind_0731\n",
      "Rosalind_0420 Rosalind_8345\n",
      "Rosalind_0420 Rosalind_5570\n",
      "Rosalind_0420 Rosalind_2958\n",
      "Rosalind_7425 Rosalind_0175\n",
      "Rosalind_0429 Rosalind_4845\n",
      "Rosalind_8345 Rosalind_3200\n",
      "Rosalind_8345 Rosalind_2589\n",
      "Rosalind_9169 Rosalind_4477\n",
      "Rosalind_9169 Rosalind_2713\n",
      "Rosalind_0751 Rosalind_1267\n",
      "Rosalind_0263 Rosalind_1244\n",
      "Rosalind_9916 Rosalind_0420\n",
      "Rosalind_5736 Rosalind_5735\n",
      "Rosalind_5736 Rosalind_9431\n",
      "Rosalind_7804 Rosalind_7425\n",
      "Rosalind_1506 Rosalind_9169\n",
      "Rosalind_1506 Rosalind_4477\n",
      "Rosalind_1506 Rosalind_2713\n",
      "Rosalind_9051 Rosalind_9650\n",
      "Rosalind_3779 Rosalind_8345\n",
      "Rosalind_3779 Rosalind_5570\n",
      "Rosalind_3779 Rosalind_2958\n",
      "Rosalind_3012 Rosalind_9051\n",
      "Rosalind_3012 Rosalind_7670\n",
      "Rosalind_3200 Rosalind_8737\n",
      "Rosalind_5152 Rosalind_7804\n",
      "Rosalind_4835 Rosalind_1267\n",
      "Rosalind_0567 Rosalind_5152\n",
      "Rosalind_0567 Rosalind_4835\n",
      "Rosalind_0567 Rosalind_9403\n",
      "Rosalind_0567 Rosalind_1608\n",
      "Rosalind_3198 Rosalind_0420\n",
      "Rosalind_5811 Rosalind_3200\n",
      "Rosalind_5811 Rosalind_2589\n",
      "Rosalind_2228 Rosalind_1936\n",
      "Rosalind_8513 Rosalind_2374\n",
      "Rosalind_8929 Rosalind_1936\n",
      "Rosalind_2222 Rosalind_1671\n",
      "Rosalind_4970 Rosalind_9359\n",
      "Rosalind_4970 Rosalind_3841\n",
      "Rosalind_4970 Rosalind_5181\n",
      "Rosalind_3791 Rosalind_1936\n",
      "Rosalind_1487 Rosalind_7425\n",
      "Rosalind_3340 Rosalind_9650\n",
      "Rosalind_5570 Rosalind_9916\n",
      "Rosalind_5570 Rosalind_6997\n",
      "Rosalind_5570 Rosalind_0596\n",
      "Rosalind_9131 Rosalind_3722\n",
      "Rosalind_9131 Rosalind_4172\n",
      "Rosalind_2958 Rosalind_2321\n",
      "Rosalind_2958 Rosalind_1912\n",
      "Rosalind_2958 Rosalind_0047\n",
      "Rosalind_0175 Rosalind_2374\n",
      "Rosalind_6997 Rosalind_5736\n",
      "Rosalind_6997 Rosalind_5811\n",
      "Rosalind_4861 Rosalind_1244\n",
      "Rosalind_1490 Rosalind_0731\n",
      "Rosalind_0464 Rosalind_8513\n",
      "Rosalind_0464 Rosalind_3563\n",
      "Rosalind_1044 Rosalind_6320\n",
      "Rosalind_1044 Rosalind_2228\n",
      "Rosalind_1044 Rosalind_5429\n",
      "Rosalind_1881 Rosalind_0420\n",
      "Rosalind_1718 Rosalind_8513\n",
      "Rosalind_1718 Rosalind_3563\n",
      "Rosalind_0731 Rosalind_9359\n",
      "Rosalind_0731 Rosalind_3841\n",
      "Rosalind_0731 Rosalind_5181\n",
      "Rosalind_9431 Rosalind_0838\n",
      "Rosalind_0451 Rosalind_3378\n",
      "Rosalind_0451 Rosalind_4202\n",
      "Rosalind_1267 Rosalind_4845\n",
      "Rosalind_3563 Rosalind_0420\n",
      "Rosalind_5206 Rosalind_5736\n",
      "Rosalind_5206 Rosalind_5811\n",
      "Rosalind_2374 Rosalind_9051\n",
      "Rosalind_2374 Rosalind_7670\n",
      "Rosalind_9013 Rosalind_9359\n",
      "Rosalind_9013 Rosalind_3841\n",
      "Rosalind_9013 Rosalind_5181\n",
      "Rosalind_1912 Rosalind_0731\n",
      "Rosalind_3841 Rosalind_7088\n",
      "Rosalind_3841 Rosalind_9705\n",
      "Rosalind_4064 Rosalind_0034\n",
      "Rosalind_5429 Rosalind_2321\n",
      "Rosalind_5429 Rosalind_1912\n",
      "Rosalind_5429 Rosalind_0047\n",
      "Rosalind_5758 Rosalind_9916\n",
      "Rosalind_5758 Rosalind_6997\n",
      "Rosalind_5758 Rosalind_0596\n",
      "Rosalind_3608 Rosalind_1267\n",
      "Rosalind_0619 Rosalind_6271\n",
      "Rosalind_7088 Rosalind_0731\n",
      "Rosalind_9650 Rosalind_9916\n",
      "Rosalind_9650 Rosalind_6997\n",
      "Rosalind_9650 Rosalind_0596\n",
      "Rosalind_0596 Rosalind_0429\n",
      "Rosalind_0596 Rosalind_5263\n",
      "Rosalind_0596 Rosalind_0619\n",
      "Rosalind_3392 Rosalind_4861\n",
      "Rosalind_3392 Rosalind_1490\n",
      "Rosalind_0047 Rosalind_3779\n",
      "Rosalind_7027 Rosalind_0420\n",
      "Rosalind_4202 Rosalind_9650\n",
      "Rosalind_4172 Rosalind_9916\n",
      "Rosalind_4172 Rosalind_6997\n",
      "Rosalind_4172 Rosalind_0596\n",
      "Rosalind_2589 Rosalind_9309\n",
      "Rosalind_2589 Rosalind_3791\n",
      "Rosalind_2589 Rosalind_0480\n",
      "Rosalind_2589 Rosalind_3392\n",
      "Rosalind_1936 Rosalind_1244\n",
      "Rosalind_9209 Rosalind_0420\n",
      "Rosalind_1608 Rosalind_7088\n",
      "Rosalind_1608 Rosalind_9705\n",
      "Rosalind_9705 Rosalind_9916\n",
      "Rosalind_9705 Rosalind_6997\n",
      "Rosalind_9705 Rosalind_0596\n",
      "Rosalind_4925 Rosalind_8513\n",
      "Rosalind_4925 Rosalind_3563\n"
     ]
    }
   ],
   "source": [
    "og = make_overlap_graph_dict('rosalind_grph.txt', 3)\n",
    "\n",
    "for i in og.keys():\n",
    "    print_overlap(og[i])"
   ]
  },
  {
   "cell_type": "markdown",
   "metadata": {},
   "source": [
    "# Finding a Protein Motif\n",
    "\n",
    "To allow for the presence of its varying forms, a protein motif is represented by a shorthand as follows: [XY] means \"either X or Y\" and {X} means \"any amino acid except X.\" For example, the N-glycosylation motif is written as N{P}[ST]{P}.\n",
    "\n",
    "You can see the complete description and features of a particular protein by its access ID \"uniprot_id\" in the UniProt database, by inserting the ID number into\n",
    "\n",
    "http://www.uniprot.org/uniprot/uniprot_id\n",
    "Alternatively, you can obtain a protein sequence in FASTA format by following\n",
    "\n",
    "http://www.uniprot.org/uniprot/uniprot_id.fasta\n",
    "For example, the data for protein B5ZC00 can be found at http://www.uniprot.org/uniprot/B5ZC00.\n",
    "\n",
    "Given: At most 15 UniProt Protein Database access IDs.\n",
    "\n",
    "Return: For each protein possessing the N-glycosylation motif, output its given access ID followed by a list of locations in the protein string where the motif can be found."
   ]
  },
  {
   "cell_type": "code",
   "execution_count": 37,
   "metadata": {},
   "outputs": [],
   "source": [
    "# Split the file contents at '>' to get a list of strings representing entries\n",
    "def read_FASTA_strings(filename):\n",
    "    with open(filename) as file:\n",
    "        return file.read().split('>')[1:]\n",
    "\n",
    "# Partition the strings to seperate the first line from the rest\n",
    "def read_FASTA_entries(filename):\n",
    "    return [seq.partition('\\n') for seq in read_FASTA_strings(filename)]\n",
    "\n",
    "# Remove the newlines from the sequence data\n",
    "def read_FASTA_sequences(filename):\n",
    "    return [(info[0:], seq.replace('\\n', '')) \n",
    "            for info, ignore, seq in #ignor is ignores (!)\n",
    "            read_FASTA_entries(filename)]\n",
    "\n",
    "# Create an sequence dictionary from sequence data\n",
    "def make_indexed_sequences_dictionary(filename):\n",
    "    return {info: seq for info, seq in read_FASTA_sequences(filename)}"
   ]
  },
  {
   "cell_type": "code",
   "execution_count": 38,
   "metadata": {},
   "outputs": [],
   "source": [
    "import re\n",
    "\n",
    "def find_motif(motif, seq):\n",
    "    # create lookahead string to find overlapping motifs\n",
    "    q = '(?=' + motif + ')'\n",
    "    # create iterator to find all the motifs in the seq\n",
    "    iterator = re.finditer(q, seq)\n",
    "    # find all start locations of motifs in the seq\n",
    "    indices = [m.start(0) for m in iterator]\n",
    "    # make start locations of indices for base 1\n",
    "    indices_base_1 = [x+1 for x in indices]\n",
    "    \n",
    "    return indices_base_1\n",
    "\n",
    "def find_protein_motifs(filename, motif):\n",
    "    motif_dict = make_indexed_sequences_dictionary(filename)\n",
    "    loc_motif_dict = {}\n",
    "    \n",
    "    for k in motif_dict.keys():\n",
    "        loc_motif_dict[k] = find_motif(motif, motif_dict[k])\n",
    "    \n",
    "    return loc_motif_dict"
   ]
  },
  {
   "cell_type": "code",
   "execution_count": 39,
   "metadata": {
    "scrolled": true
   },
   "outputs": [
    {
     "data": {
      "text/plain": [
       "{'A5A3H2': [],\n",
       " 'B5FPF2': [18],\n",
       " 'P00304_ARA3_AMBEL': [41],\n",
       " 'P01008_ANT3_HUMAN': [],\n",
       " 'P02725_GLP_PIG': [16, 19, 39],\n",
       " 'P02760_HC_HUMAN': [36, 115, 250],\n",
       " 'P03395_ENV_MLVFR': [12, 168, 302, 334, 341, 374, 410],\n",
       " 'P0AEI6': [],\n",
       " 'P12923': [128, 167, 187, 224],\n",
       " 'P98119_URT1_DESRO': [153, 398],\n",
       " 'Q4FZD7': [528],\n",
       " 'Q66GC7': [307],\n",
       " 'Q8ZRE7': [],\n",
       " 'Q9D9T0': [154]}"
      ]
     },
     "execution_count": 39,
     "metadata": {},
     "output_type": "execute_result"
    }
   ],
   "source": [
    "find_protein_motifs('rosalind_mprt.txt', '[N][^P][S|T][^P]')"
   ]
  },
  {
   "cell_type": "markdown",
   "metadata": {},
   "source": [
    "# Consensus and Profile\n",
    "\n",
    "A matrix is a rectangular table of values divided into rows and columns. An m×n matrix has m rows and n columns. Given a matrix A, we write Ai,j to indicate the value found at the intersection of row i and column j.\n",
    "\n",
    "Say that we have a collection of DNA strings, all having the same length n. Their profile matrix is a 4×n matrix P in which P1,j represents the number of times that 'A' occurs in the jth position of one of the strings, P2,j represents the number of times that C occurs in the jth position, and so on (see below).\n",
    "\n",
    "A consensus string c is a string of length n formed from our collection by taking the most common symbol at each position; the jth symbol of c therefore corresponds to the symbol having the maximum value in the j-th column of the profile matrix. Of course, there may be more than one most common symbol, leading to multiple possible consensus strings.\n",
    "\n",
    "DNA Strings:\n",
    "1. A T C C A G C T\n",
    "2. G G G C A A C T\n",
    "3. A T G G A T C T\n",
    "4. A A G C A A C C\n",
    "5. T T G G A A C T\n",
    "6. A T G C C A T T\n",
    "7. A T G G C A C T\n",
    "\n",
    "Profile:\n",
    "1. A 5 1 0 0 5 5 0 0\n",
    "2. C 0 0 1 4 2 0 6 1\n",
    "3. G 1 1 6 3 0 1 0 0\n",
    "4. T 1 5 0 0 0 1 1 6\n",
    "\n",
    "Consensus:\n",
    "1. A T G C A A C T\n",
    "\n",
    "Given: A collection of at most 10 DNA strings of equal length (at most 1 kbp) in \n",
    "FASTA format.\n",
    "\n",
    "Return: A consensus string and profile matrix for the collection. (If several possible consensus strings exist, then you may return any one of them.)"
   ]
  },
  {
   "cell_type": "code",
   "execution_count": 40,
   "metadata": {},
   "outputs": [],
   "source": [
    "# Split the file contents at '>' to get a list of strings representing entries\n",
    "def read_FASTA_strings(filename):\n",
    "    with open(filename) as file:\n",
    "        return file.read().split('>')[1:]\n",
    "\n",
    "# Partition the strings to seperate the first line from the rest\n",
    "def read_FASTA_entries(filename):\n",
    "    return [seq.partition('\\n') for seq in read_FASTA_strings(filename)]\n",
    "\n",
    "# Remove the newlines from the sequence data\n",
    "def read_FASTA_sequences(filename):\n",
    "    return [(info[0:], seq.replace('\\n', '')) \n",
    "            for info, ignore, seq in #ignor is ignores (!)\n",
    "            read_FASTA_entries(filename)]\n",
    "\n",
    "# Create an sequence dictionary from sequence data\n",
    "def make_indexed_sequences_dictionary(filename):\n",
    "    return {info: seq for info, seq in read_FASTA_sequences(filename)}"
   ]
  },
  {
   "cell_type": "code",
   "execution_count": 41,
   "metadata": {},
   "outputs": [],
   "source": [
    "import pandas as pd\n",
    "\n",
    "def string_to_list(string):\n",
    "    lis = []\n",
    "    for i in range(len(string)):\n",
    "        lis.append(string[i])\n",
    "    return lis\n",
    "\n",
    "def dict_values_to_list(d):\n",
    "    new_d = {}\n",
    "    for i in d.keys():\n",
    "        string = d[i]\n",
    "        l = string_to_list(string)\n",
    "        new_d[i] = l\n",
    "    return new_d\n",
    "\n",
    "def value_counts(series):\n",
    "    return series.value_counts()\n",
    "    \n",
    "def series_to_int(series):\n",
    "    return series.astype(int)\n",
    "    \n",
    "def profile_maker(df):\n",
    "    profile_dict = {'A': 0, 'C': 0, 'G': 0, 'T': 0}\n",
    "    profile_df = pd.DataFrame.from_dict(profile_dict,orient='index').sort_index()\n",
    "    profile_df = df.apply(value_counts, axis=0).fillna(0)\n",
    "    for i in range(len(profile_df.columns.values)):\n",
    "        profile_df[i] = profile_df[i].astype(int)\n",
    "    return profile_df\n",
    "\n",
    "def max_value_counts(series):\n",
    "    return series.idxmax()\n",
    "\n",
    "def common_ancestor(df):\n",
    "    profile_df = profile_maker(df)\n",
    "    base_max_values = profile_df.apply(max_value_counts, axis=0)\n",
    "    seq_list = base_max_values.tolist()\n",
    "    seq = ''.join(seq_list)\n",
    "    return seq\n",
    "    \n",
    "def consensus_profile(filename):\n",
    "    fasta_dict = make_indexed_sequences_dictionary(filename)\n",
    "    fasta_dict = dict_values_to_list(fasta_dict)\n",
    "    fasta_df = pd.DataFrame.from_dict(fasta_dict,orient='index').sort_index()\n",
    "    seq = common_ancestor(fasta_df)\n",
    "    return seq"
   ]
  },
  {
   "cell_type": "code",
   "execution_count": 42,
   "metadata": {
    "scrolled": false
   },
   "outputs": [
    {
     "data": {
      "text/plain": [
       "'ATGCAACT'"
      ]
     },
     "execution_count": 42,
     "metadata": {},
     "output_type": "execute_result"
    }
   ],
   "source": [
    "consensus_profile('Consensus_and_Profile_exp.fasta')"
   ]
  },
  {
   "cell_type": "markdown",
   "metadata": {},
   "source": [
    "# Open Reading Frames\n",
    "\n",
    "Either strand of a DNA double helix can serve as the coding strand for RNA transcription. Hence, a given DNA string implies six total reading frames, or ways in which the same region of DNA can be translated into amino acids: three reading frames result from reading the string itself, whereas three more result from reading its reverse complement.\n",
    "\n",
    "An open reading frame (ORF) is one which starts from the start codon and ends by stop codon, without any other stop codons in between. Thus, a candidate protein string is derived by translating an open reading frame into amino acids until a stop codon is reached.\n",
    "\n",
    "Given: A DNA string s of length at most 1 kbp in FASTA format.\n",
    "\n",
    "Return: Every distinct candidate protein string that can be translated from ORFs of s. Strings can be returned in any order."
   ]
  },
  {
   "cell_type": "code",
   "execution_count": 43,
   "metadata": {},
   "outputs": [],
   "source": [
    "import string\n",
    "\n",
    "def complement_DNA(s):\n",
    "    s.upper()\n",
    "    trans_DNA = string.maketrans('ATCG', 'TAGC')\n",
    "    sc = s.translate(trans_DNA)\n",
    "    return sc\n",
    "\n",
    "def reverse_string(s): \n",
    "    s = s[::-1] \n",
    "    return s \n",
    "\n",
    "def transcribe_DNA_to_RNA(t):\n",
    "    t.upper()\n",
    "    t = t.replace('T', 'U')\n",
    "    return t\n",
    "\n",
    "# Translating RNA into Protien\n",
    "RNA_codon_table = {\n",
    "    \"UUU\":\"F\", \"UUC\":\"F\", \"UUA\":\"L\", \"UUG\":\"L\",\n",
    "    \"UCU\":\"S\", \"UCC\":\"S\", \"UCA\":\"S\", \"UCG\":\"S\",\n",
    "    \"UAU\":\"Y\", \"UAC\":\"Y\", \"UAA\":\"Stop\", \"UAG\":\"Stop\",\n",
    "    \"UGU\":\"C\", \"UGC\":\"C\", \"UGA\":\"Stop\", \"UGG\":\"W\",\n",
    "    \"CUU\":\"L\", \"CUC\":\"L\", \"CUA\":\"L\", \"CUG\":\"L\",\n",
    "    \"CCU\":\"P\", \"CCC\":\"P\", \"CCA\":\"P\", \"CCG\":\"P\",\n",
    "    \"CAU\":\"H\", \"CAC\":\"H\", \"CAA\":\"Q\", \"CAG\":\"Q\",\n",
    "    \"CGU\":\"R\", \"CGC\":\"R\", \"CGA\":\"R\", \"CGG\":\"R\",\n",
    "    \"AUU\":\"I\", \"AUC\":\"I\", \"AUA\":\"I\", \"AUG\":\"M\",\n",
    "    \"ACU\":\"T\", \"ACC\":\"T\", \"ACA\":\"T\", \"ACG\":\"T\",\n",
    "    \"AAU\":\"N\", \"AAC\":\"N\", \"AAA\":\"K\", \"AAG\":\"K\",\n",
    "    \"AGU\":\"S\", \"AGC\":\"S\", \"AGA\":\"R\", \"AGG\":\"R\",\n",
    "    \"GUU\":\"V\", \"GUC\":\"V\", \"GUA\":\"V\", \"GUG\":\"V\",\n",
    "    \"GCU\":\"A\", \"GCC\":\"A\", \"GCA\":\"A\", \"GCG\":\"A\",\n",
    "    \"GAU\":\"D\", \"GAC\":\"D\", \"GAA\":\"E\", \"GAG\":\"E\",\n",
    "    \"GGU\":\"G\", \"GGC\":\"G\", \"GGA\":\"G\", \"GGG\":\"G\",\n",
    "}\n",
    "\n",
    "def translate_RNA_codon(codon):\n",
    "    return RNA_codon_table[codon]\n",
    "\n",
    "def aa_generator(rnaseq):\n",
    "    # Return a generator object that produces an amino acid by translating\n",
    "    # three characters of rnaseq at a time\n",
    "    return (translate_RNA_codon(rnaseq[n:n+3]) for n in range(0, len(rnaseq), 3))\n",
    "\n",
    "def translate(rnaseq):\n",
    "    rnaseq = rnaseq.upper()\n",
    "    # Translate rnaseq into amino acid symbols\n",
    "    gen = aa_generator(rnaseq)\n",
    "    seq = ''\n",
    "    # Sets the first amino acid as 'aa'\n",
    "    aa = next(gen, None)\n",
    "    # While aa is true\n",
    "    while aa:\n",
    "        # If aa is a stop codon retrun sequence else add aa to seq\n",
    "        if aa == 'Stop':\n",
    "            return seq\n",
    "        else:\n",
    "            seq += aa\n",
    "            aa = next(gen, None)\n",
    "    return seq\n",
    "\n",
    "def translate_from_start(rnaseq):\n",
    "    seq = translate(rnaseq)\n",
    "    start_index = seq.find('M')\n",
    "    if (start_index >= 0) and (seq[start_index] == 'M'):\n",
    "        return seq[start_index:]\n",
    "    \n",
    "def translate_3_reading_frames(rna):\n",
    "    protein_list = []\n",
    "    for i in range(3):\n",
    "        aa = translate_from_start(rna[i:])\n",
    "        if aa:\n",
    "            protein_list.append(aa)\n",
    "    return protein_list"
   ]
  },
  {
   "cell_type": "code",
   "execution_count": 44,
   "metadata": {},
   "outputs": [
    {
     "data": {
      "text/plain": [
       "['MCGCHD', 'MYAAAWPS', 'MRLPGHRRHDTRCSVHCSPNFLGL']"
      ]
     },
     "execution_count": 44,
     "metadata": {},
     "output_type": "execute_result"
    }
   ],
   "source": [
    "dna = 'AGCCATGTAGCTAACTCAGGTTACATGGGGATGACCCCGCGACTTGGATTAGAGTCTCTTTTGGAATAAGCCTGAATGATCCGAGTAGCATCTCAG'\n",
    "dna_2 = 'TGTCTGGCCTTCATTGGGTACGTGTATTCGGGCACGCGTGCCCGGGAACAACCTCTCCCGATGTGCGGTTGCCACGATTAAACAGGCCAATATGTATGCGGCTGCCTGGCCATCGTAGACATGACACCCGCTGCTCCGTCCACTGTTCACCGAACTTTTTAGGATTGTAATGCGGAGTAAAGTTCAATACCAACCGGCGTGTTACGCGCTGGTACGCTACTCGTTGAGGGGATCTCGGGCGCCCGAGTCGGCGGTCTCCACGCATCCTGCAAATTCTGGGTGCCCCCCACCACTATGTCGTTTGGGGCCAGAGGAGATCGCTTCCCCAGTATCACGTCCGCCGTACCGTCGTCGCCGGGTGCGGCTAATTCTGTCCATCAGACCGAGCAGTGGCACGACAGTTGGAGTATCCTGACCGGTGACCAGCTGCAGTCTTTCGTGAGAATGGGGGTGGATATCATTGAGTAGCTACTCAATGATATCCACCCCCATATGGGAACTCTACCCTGCCATTGTCGAGCAAACCCCATGTGAATTAATACGACTACTCGCGTGTAGGTTTTGGTTCAGTTACAGGCGTCGGGGGGCCAAAGTCAGTCCGTGCCCTCGATACCGTGCTGGCCTATCGAATGAGTCTGTGGATCGACGAAATAACCACCCAGGTGAGCATATCGCTGCAAAGTGTTGTGGTGGCCTCTGTATCGAGCTTGGTAGCCTTGTCTCGATAAGGGTTCCATGCATCGCGAAGCTTTCGCAGTTCCTAACCTCTTCTATATTCTGTGAGTAGGCAGTCTGCGCTTTGTCTCACAGGAGATTGTCCGAAGCGATCTCTAGGCCTCGAGATAAAAGAGCCAGGACGTTTTTTAACATCAGGCAACATAGATGGCCACGTAGGGGAAAACGGAGGAGGGCCCGCGTTGGGCGCCTATCTTACC'\n",
    "def open_reading_frames(dna):\n",
    "    cdna = complement_DNA(dna)\n",
    "    rna = transcribe_DNA_to_RNA(dna)\n",
    "    crna = transcribe_DNA_to_RNA(cdna)\n",
    "    reverse_crna = reverse_string(crna)\n",
    "    # return reverse_crna\n",
    "    aa_list = translate_3_reading_frames(rna)\n",
    "    raa_list = translate_3_reading_frames(reverse_crna)\n",
    "    return aa_list + raa_list\n",
    "\n",
    "c = open_reading_frames(dna_2)\n",
    "c"
   ]
  },
  {
   "cell_type": "markdown",
   "metadata": {},
   "source": [
    "# RNA Splicing\n",
    "\n",
    "After identifying the exons and introns of an RNA string, we only need to delete the introns and concatenate the exons to form a new string ready for translation.\n",
    "\n",
    "Given: A DNA string s (of length at most 1 kbp) and a collection of substrings of s acting as introns. All strings are given in FASTA format.\n",
    "\n",
    "Return: A protein string resulting from transcribing and translating the exons of s. (Note: Only one solution will exist for the dataset provided.)"
   ]
  },
  {
   "cell_type": "code",
   "execution_count": 45,
   "metadata": {},
   "outputs": [],
   "source": [
    "# Split the file contents at '>' to get a list of strings representing entries\n",
    "def read_FASTA_strings(filename):\n",
    "    with open(filename) as file:\n",
    "        return file.read().split('>')[1:]\n",
    "\n",
    "# Partition the strings to seperate the first line from the rest\n",
    "def read_FASTA_entries(filename):\n",
    "    return [seq.partition('\\n') for seq in read_FASTA_strings(filename)]\n",
    "\n",
    "# Remove the newlines from the sequence data\n",
    "def read_FASTA_sequences(filename):\n",
    "    return [(info[0:], seq.replace('\\n', '')) \n",
    "            for info, ignore, seq in #ignor is ignores (!)\n",
    "            read_FASTA_entries(filename)]\n",
    "\n",
    "# Create an sequence dictionary from sequence data\n",
    "def make_indexed_sequences_dictionary(filename):\n",
    "    return {info: seq for info, seq in read_FASTA_sequences(filename)}"
   ]
  },
  {
   "cell_type": "code",
   "execution_count": 46,
   "metadata": {},
   "outputs": [],
   "source": [
    "def transcribe_DNA_to_RNA(t):\n",
    "    t.upper()\n",
    "    t = t.replace('T', 'U')\n",
    "    return t\n",
    "\n",
    "# Translating RNA into Protien\n",
    "RNA_codon_table = {\n",
    "    \"UUU\":\"F\", \"UUC\":\"F\", \"UUA\":\"L\", \"UUG\":\"L\",\n",
    "    \"UCU\":\"S\", \"UCC\":\"S\", \"UCA\":\"S\", \"UCG\":\"S\",\n",
    "    \"UAU\":\"Y\", \"UAC\":\"Y\", \"UAA\":\"Stop\", \"UAG\":\"Stop\",\n",
    "    \"UGU\":\"C\", \"UGC\":\"C\", \"UGA\":\"Stop\", \"UGG\":\"W\",\n",
    "    \"CUU\":\"L\", \"CUC\":\"L\", \"CUA\":\"L\", \"CUG\":\"L\",\n",
    "    \"CCU\":\"P\", \"CCC\":\"P\", \"CCA\":\"P\", \"CCG\":\"P\",\n",
    "    \"CAU\":\"H\", \"CAC\":\"H\", \"CAA\":\"Q\", \"CAG\":\"Q\",\n",
    "    \"CGU\":\"R\", \"CGC\":\"R\", \"CGA\":\"R\", \"CGG\":\"R\",\n",
    "    \"AUU\":\"I\", \"AUC\":\"I\", \"AUA\":\"I\", \"AUG\":\"M\",\n",
    "    \"ACU\":\"T\", \"ACC\":\"T\", \"ACA\":\"T\", \"ACG\":\"T\",\n",
    "    \"AAU\":\"N\", \"AAC\":\"N\", \"AAA\":\"K\", \"AAG\":\"K\",\n",
    "    \"AGU\":\"S\", \"AGC\":\"S\", \"AGA\":\"R\", \"AGG\":\"R\",\n",
    "    \"GUU\":\"V\", \"GUC\":\"V\", \"GUA\":\"V\", \"GUG\":\"V\",\n",
    "    \"GCU\":\"A\", \"GCC\":\"A\", \"GCA\":\"A\", \"GCG\":\"A\",\n",
    "    \"GAU\":\"D\", \"GAC\":\"D\", \"GAA\":\"E\", \"GAG\":\"E\",\n",
    "    \"GGU\":\"G\", \"GGC\":\"G\", \"GGA\":\"G\", \"GGG\":\"G\",\n",
    "}\n",
    "\n",
    "def translate_RNA_codon(codon):\n",
    "    return RNA_codon_table[codon]\n",
    "\n",
    "def aa_generator(rnaseq):\n",
    "    # Return a generator object that produces an amino acid by translating\n",
    "    # three characters of rnaseq at a time\n",
    "    return (translate_RNA_codon(rnaseq[n:n+3]) for n in range(0, len(rnaseq), 3))\n",
    "\n",
    "def translate(rnaseq):\n",
    "    rnaseq = rnaseq.upper()\n",
    "    # Translate rnaseq into amino acid symbols\n",
    "    gen = aa_generator(rnaseq)\n",
    "    seq = ''\n",
    "    # Sets the first amino acid as 'aa'\n",
    "    aa = next(gen, None)\n",
    "    # While aa is true\n",
    "    while aa:\n",
    "        # If aa is a stop codon retrun sequence else add aa to seq\n",
    "        if aa == 'Stop':\n",
    "            return seq\n",
    "        else:\n",
    "            seq += aa\n",
    "            aa = next(gen, None)\n",
    "    return seq"
   ]
  },
  {
   "cell_type": "code",
   "execution_count": 47,
   "metadata": {},
   "outputs": [],
   "source": [
    "# Find the key with the longest seq\n",
    "def find_max_len_seq_key(d):\n",
    "    max_len = 0\n",
    "    max_key = ''\n",
    "    for key in d.keys():\n",
    "        seq_len = len(d[key])\n",
    "        if seq_len > max_len:\n",
    "            max_len = seq_len\n",
    "            max_key = key\n",
    "    return max_key\n",
    "\n",
    "# Find the key with the longest seq\n",
    "def remove_introns(seq, intron):\n",
    "    return seq.replace(intron, '')\n",
    "\n",
    "def rna_splicing(filename):\n",
    "    # Make dna seq dict from fasta file\n",
    "    d = make_indexed_sequences_dictionary(filename)\n",
    "    # Find the key with the longest seq\n",
    "    max_key = find_max_len_seq_key(d)\n",
    "    \n",
    "    # copy seq and delete key\n",
    "    seq = d[max_key]\n",
    "    d.pop(max_key, None)\n",
    "    \n",
    "    # for each intron remove it from seq\n",
    "    for v in d.values():\n",
    "        seq = remove_introns(seq, v)\n",
    "    \n",
    "    # transcribe dna to rna and translate it to a protein\n",
    "    seq = transcribe_DNA_to_RNA(seq)\n",
    "    return translate(seq)"
   ]
  },
  {
   "cell_type": "code",
   "execution_count": 48,
   "metadata": {},
   "outputs": [
    {
     "data": {
      "text/plain": [
       "'MVYIADKQHVASREAYGHMFKVCA'"
      ]
     },
     "execution_count": 48,
     "metadata": {},
     "output_type": "execute_result"
    }
   ],
   "source": [
    "rna_splicing('rosalind_splc_sample.fasta')"
   ]
  },
  {
   "cell_type": "markdown",
   "metadata": {},
   "source": [
    "# Finding a Shared Motif\n",
    "\n",
    "A common substring of a collection of strings is a substring of every member of the collection. We say that a common substring is a longest common substring if there does not exist a longer common substring. For example, \"CG\" is a common substring of \"ACGTACGT\" and \"AACCGTATA\", but it is not as long as possible; in this case, \"CGTA\" is a longest common substring of \"ACGTACGT\" and \"AACCGTATA\".\n",
    "\n",
    "Note that the longest common substring is not necessarily unique; for a simple example, \"AA\" and \"CC\" are both longest common substrings of \"AACC\" and \"CCAA\".\n",
    "\n",
    "Given: A collection of k (k≤100) DNA strings of length at most 1 kbp each in FASTA format.\n",
    "\n",
    "Return: A longest common substring of the collection. (If multiple solutions exist, you may return any single solution.)"
   ]
  },
  {
   "cell_type": "code",
   "execution_count": 49,
   "metadata": {},
   "outputs": [],
   "source": [
    "# Split the file contents at '>' to get a list of strings representing entries\n",
    "def read_FASTA_strings(filename):\n",
    "    with open(filename) as file:\n",
    "        return file.read().split('>')[1:]\n",
    "\n",
    "# Partition the strings to seperate the first line from the rest\n",
    "def read_FASTA_entries(filename):\n",
    "    return [seq.partition('\\n') for seq in read_FASTA_strings(filename)]\n",
    "\n",
    "# Remove the newlines from the sequence data\n",
    "def read_FASTA_sequences(filename):\n",
    "    return [(info[0:], seq.replace('\\n', '')) \n",
    "            for info, ignore, seq in #ignor is ignores (!)\n",
    "            read_FASTA_entries(filename)]\n",
    "\n",
    "# Create an sequence dictionary from sequence data\n",
    "def make_indexed_sequences_dictionary(filename):\n",
    "    return {info: seq for info, seq in read_FASTA_sequences(filename)}"
   ]
  },
  {
   "cell_type": "code",
   "execution_count": 50,
   "metadata": {},
   "outputs": [],
   "source": [
    "# Website to help explain lcs algorithm\n",
    "# https://www.ics.uci.edu/~eppstein/161/960229.html\n",
    "def print_m(m):\n",
    "    print '/n'\n",
    "    for i in m:\n",
    "        print i\n",
    "\n",
    "def longest_common_substring(s1, s2):\n",
    "    m = [[-1] * (1 + len(s2)) for i in xrange(1 + len(s1))]\n",
    "    longest, x_longest = 0, 0\n",
    "    for x in xrange(1, 1 + len(s1)):\n",
    "        for y in xrange(1, 1 + len(s2)):\n",
    "            if s1[x - 1] == s2[y - 1]:\n",
    "                m[x][y] = m[x - 1][y - 1] + 1\n",
    "                if m[x][y] > longest:\n",
    "                    longest = m[x][y]\n",
    "                    x_longest = x\n",
    "            else:\n",
    "                m[x][y] = 0\n",
    "    return s1[x_longest - longest: x_longest]"
   ]
  },
  {
   "cell_type": "code",
   "execution_count": 51,
   "metadata": {
    "scrolled": false
   },
   "outputs": [
    {
     "data": {
      "text/plain": [
       "'AC'"
      ]
     },
     "execution_count": 51,
     "metadata": {},
     "output_type": "execute_result"
    }
   ],
   "source": [
    "d = make_indexed_sequences_dictionary('rosalind_lcsm_example.fasta')\n",
    "lcs_keys = list(d.keys())\n",
    "lcs = d[lcs_keys[0]]\n",
    "for i in range(1,len(lcs_keys)):\n",
    "    lcs = longest_common_substring(lcs, d[lcs_keys[i]])\n",
    "lcs"
   ]
  },
  {
   "cell_type": "markdown",
   "metadata": {},
   "source": [
    "# Enumerating Gene Orders\n",
    "\n",
    "A permutation of length n is an ordering of the positive integers {1,2,…,n}. For example, π=(5,3,2,1,4) is a permutation of length 5.\n",
    "\n",
    "Given: A positive integer n≤7.\n",
    "\n",
    "Return: The total number of permutations of length n, followed by a list of all such permutations (in any order)."
   ]
  },
  {
   "cell_type": "code",
   "execution_count": 52,
   "metadata": {},
   "outputs": [
    {
     "data": {
      "text/plain": [
       "120"
      ]
     },
     "execution_count": 52,
     "metadata": {},
     "output_type": "execute_result"
    }
   ],
   "source": [
    "from itertools import permutations\n",
    "\n",
    "def permutation_n(n):\n",
    "    l = []\n",
    "    for i in range(1,n+1):\n",
    "        l.append(i)\n",
    "    perm = permutations(l)\n",
    "    \n",
    "    return list(perm)\n",
    "\n",
    "def print_perm(l):\n",
    "    count = 0\n",
    "    for i in l: \n",
    "        count = count + 1\n",
    "        for k in i:\n",
    "            print k,\n",
    "        print ''\n",
    "    return count"
   ]
  },
  {
   "cell_type": "code",
   "execution_count": null,
   "metadata": {},
   "outputs": [],
   "source": [
    "perm = permutation_n(5)\n",
    "len(perm)"
   ]
  },
  {
   "cell_type": "markdown",
   "metadata": {},
   "source": [
    "# Locating Restriction Sites\n",
    "\n",
    "\n",
    "Figure 2. Palindromic recognition site\n",
    "A DNA string is a reverse palindrome if it is equal to its reverse complement. For instance, GCATGC is a reverse palindrome because its reverse complement is GCATGC. See Figure 2.\n",
    "\n",
    "Given: A DNA string of length at most 1 kbp in FASTA format.\n",
    "\n",
    "Return: The position and length of every reverse palindrome in the string having length between 4 and 12. You may return these pairs in any order."
   ]
  },
  {
   "cell_type": "code",
   "execution_count": 53,
   "metadata": {},
   "outputs": [],
   "source": [
    "# Split the file contents at '>' to get a list of strings representing entries\n",
    "def read_FASTA_strings(filename):\n",
    "    with open(filename) as file:\n",
    "        return file.read().split('>')[1:]\n",
    "\n",
    "# Partition the strings to seperate the first line from the rest\n",
    "def read_FASTA_entries(filename):\n",
    "    return [seq.partition('\\n') for seq in read_FASTA_strings(filename)]\n",
    "\n",
    "# Remove the newlines from the sequence data\n",
    "def read_FASTA_sequences(filename):\n",
    "    return [(info[0:], seq.replace('\\n', '')) \n",
    "            for info, ignore, seq in #ignor is ignores (!)\n",
    "            read_FASTA_entries(filename)]\n",
    "\n",
    "# Create an sequence dictionary from sequence data\n",
    "def make_indexed_sequences_dictionary(filename):\n",
    "    return {info: seq for info, seq in read_FASTA_sequences(filename)}"
   ]
  },
  {
   "cell_type": "code",
   "execution_count": 54,
   "metadata": {},
   "outputs": [],
   "source": [
    "import string\n",
    "\n",
    "def complement_dna(s):\n",
    "    s.upper()\n",
    "    trans_dna = string.maketrans('ATCG', 'TAGC')\n",
    "    sc = s.translate(trans_dna)\n",
    "    return sc\n",
    "\n",
    "def palindrome(dna):\n",
    "    cdna = complement_DNA(dna)\n",
    "    store = []\n",
    "    len_range = [12, 11, 10, 9, 8, 7, 6, 5, 4]\n",
    "    for n in len_range: \n",
    "        for i in range(len(dna)):\n",
    "            if i > len(dna) - n:\n",
    "                break\n",
    "            else:\n",
    "                q = cdna[i:i+n]\n",
    "                if dna[i:i+n] == q[::-1]:\n",
    "                    pos = (i+1, n)\n",
    "                    store.append(pos)\n",
    "    return store"
   ]
  },
  {
   "cell_type": "code",
   "execution_count": 55,
   "metadata": {
    "scrolled": true
   },
   "outputs": [
    {
     "ename": "IOError",
     "evalue": "[Errno 2] No such file or directory: 'rosalind_revp.txt'",
     "output_type": "error",
     "traceback": [
      "\u001b[1;31m---------------------------------------------------------------------------\u001b[0m",
      "\u001b[1;31mIOError\u001b[0m                                   Traceback (most recent call last)",
      "\u001b[1;32m<ipython-input-55-4397e11f8d68>\u001b[0m in \u001b[0;36m<module>\u001b[1;34m()\u001b[0m\n\u001b[0;32m      1\u001b[0m \u001b[0mdna\u001b[0m \u001b[1;33m=\u001b[0m \u001b[1;34m'TCAATGCATGCGGGTCTATATGCAT'\u001b[0m\u001b[1;33m\u001b[0m\u001b[0m\n\u001b[1;32m----> 2\u001b[1;33m \u001b[0mdna2\u001b[0m \u001b[1;33m=\u001b[0m \u001b[0mmake_indexed_sequences_dictionary\u001b[0m\u001b[1;33m(\u001b[0m\u001b[1;34m'rosalind_revp.txt'\u001b[0m\u001b[1;33m)\u001b[0m\u001b[1;33m\u001b[0m\u001b[0m\n\u001b[0m\u001b[0;32m      3\u001b[0m \u001b[0mdna2_seq\u001b[0m \u001b[1;33m=\u001b[0m \u001b[1;34m''\u001b[0m\u001b[1;33m\u001b[0m\u001b[0m\n\u001b[0;32m      4\u001b[0m \u001b[1;32mfor\u001b[0m \u001b[0mkey\u001b[0m \u001b[1;32min\u001b[0m \u001b[0mdna2\u001b[0m\u001b[1;33m.\u001b[0m\u001b[0mkeys\u001b[0m\u001b[1;33m(\u001b[0m\u001b[1;33m)\u001b[0m\u001b[1;33m:\u001b[0m\u001b[1;33m\u001b[0m\u001b[0m\n\u001b[0;32m      5\u001b[0m     \u001b[0mdna2_seq\u001b[0m \u001b[1;33m=\u001b[0m \u001b[0mdna2\u001b[0m\u001b[1;33m[\u001b[0m\u001b[0mkey\u001b[0m\u001b[1;33m]\u001b[0m\u001b[1;33m\u001b[0m\u001b[0m\n",
      "\u001b[1;32m<ipython-input-53-7abb14275bb6>\u001b[0m in \u001b[0;36mmake_indexed_sequences_dictionary\u001b[1;34m(filename)\u001b[0m\n\u001b[0;32m     16\u001b[0m \u001b[1;31m# Create an sequence dictionary from sequence data\u001b[0m\u001b[1;33m\u001b[0m\u001b[1;33m\u001b[0m\u001b[0m\n\u001b[0;32m     17\u001b[0m \u001b[1;32mdef\u001b[0m \u001b[0mmake_indexed_sequences_dictionary\u001b[0m\u001b[1;33m(\u001b[0m\u001b[0mfilename\u001b[0m\u001b[1;33m)\u001b[0m\u001b[1;33m:\u001b[0m\u001b[1;33m\u001b[0m\u001b[0m\n\u001b[1;32m---> 18\u001b[1;33m     \u001b[1;32mreturn\u001b[0m \u001b[1;33m{\u001b[0m\u001b[0minfo\u001b[0m\u001b[1;33m:\u001b[0m \u001b[0mseq\u001b[0m \u001b[1;32mfor\u001b[0m \u001b[0minfo\u001b[0m\u001b[1;33m,\u001b[0m \u001b[0mseq\u001b[0m \u001b[1;32min\u001b[0m \u001b[0mread_FASTA_sequences\u001b[0m\u001b[1;33m(\u001b[0m\u001b[0mfilename\u001b[0m\u001b[1;33m)\u001b[0m\u001b[1;33m}\u001b[0m\u001b[1;33m\u001b[0m\u001b[0m\n\u001b[0m",
      "\u001b[1;32m<ipython-input-53-7abb14275bb6>\u001b[0m in \u001b[0;36mread_FASTA_sequences\u001b[1;34m(filename)\u001b[0m\n\u001b[0;32m     12\u001b[0m     return [(info[0:], seq.replace('\\n', '')) \n\u001b[0;32m     13\u001b[0m             \u001b[1;32mfor\u001b[0m \u001b[0minfo\u001b[0m\u001b[1;33m,\u001b[0m \u001b[0mignore\u001b[0m\u001b[1;33m,\u001b[0m \u001b[0mseq\u001b[0m \u001b[1;32min\u001b[0m \u001b[1;31m#ignor is ignores (!)\u001b[0m\u001b[1;33m\u001b[0m\u001b[0m\n\u001b[1;32m---> 14\u001b[1;33m             read_FASTA_entries(filename)]\n\u001b[0m\u001b[0;32m     15\u001b[0m \u001b[1;33m\u001b[0m\u001b[0m\n\u001b[0;32m     16\u001b[0m \u001b[1;31m# Create an sequence dictionary from sequence data\u001b[0m\u001b[1;33m\u001b[0m\u001b[1;33m\u001b[0m\u001b[0m\n",
      "\u001b[1;32m<ipython-input-53-7abb14275bb6>\u001b[0m in \u001b[0;36mread_FASTA_entries\u001b[1;34m(filename)\u001b[0m\n\u001b[0;32m      6\u001b[0m \u001b[1;31m# Partition the strings to seperate the first line from the rest\u001b[0m\u001b[1;33m\u001b[0m\u001b[1;33m\u001b[0m\u001b[0m\n\u001b[0;32m      7\u001b[0m \u001b[1;32mdef\u001b[0m \u001b[0mread_FASTA_entries\u001b[0m\u001b[1;33m(\u001b[0m\u001b[0mfilename\u001b[0m\u001b[1;33m)\u001b[0m\u001b[1;33m:\u001b[0m\u001b[1;33m\u001b[0m\u001b[0m\n\u001b[1;32m----> 8\u001b[1;33m     \u001b[1;32mreturn\u001b[0m \u001b[1;33m[\u001b[0m\u001b[0mseq\u001b[0m\u001b[1;33m.\u001b[0m\u001b[0mpartition\u001b[0m\u001b[1;33m(\u001b[0m\u001b[1;34m'\\n'\u001b[0m\u001b[1;33m)\u001b[0m \u001b[1;32mfor\u001b[0m \u001b[0mseq\u001b[0m \u001b[1;32min\u001b[0m \u001b[0mread_FASTA_strings\u001b[0m\u001b[1;33m(\u001b[0m\u001b[0mfilename\u001b[0m\u001b[1;33m)\u001b[0m\u001b[1;33m]\u001b[0m\u001b[1;33m\u001b[0m\u001b[0m\n\u001b[0m\u001b[0;32m      9\u001b[0m \u001b[1;33m\u001b[0m\u001b[0m\n\u001b[0;32m     10\u001b[0m \u001b[1;31m# Remove the newlines from the sequence data\u001b[0m\u001b[1;33m\u001b[0m\u001b[1;33m\u001b[0m\u001b[0m\n",
      "\u001b[1;32m<ipython-input-53-7abb14275bb6>\u001b[0m in \u001b[0;36mread_FASTA_strings\u001b[1;34m(filename)\u001b[0m\n\u001b[0;32m      1\u001b[0m \u001b[1;31m# Split the file contents at '>' to get a list of strings representing entries\u001b[0m\u001b[1;33m\u001b[0m\u001b[1;33m\u001b[0m\u001b[0m\n\u001b[0;32m      2\u001b[0m \u001b[1;32mdef\u001b[0m \u001b[0mread_FASTA_strings\u001b[0m\u001b[1;33m(\u001b[0m\u001b[0mfilename\u001b[0m\u001b[1;33m)\u001b[0m\u001b[1;33m:\u001b[0m\u001b[1;33m\u001b[0m\u001b[0m\n\u001b[1;32m----> 3\u001b[1;33m     \u001b[1;32mwith\u001b[0m \u001b[0mopen\u001b[0m\u001b[1;33m(\u001b[0m\u001b[0mfilename\u001b[0m\u001b[1;33m)\u001b[0m \u001b[1;32mas\u001b[0m \u001b[0mfile\u001b[0m\u001b[1;33m:\u001b[0m\u001b[1;33m\u001b[0m\u001b[0m\n\u001b[0m\u001b[0;32m      4\u001b[0m         \u001b[1;32mreturn\u001b[0m \u001b[0mfile\u001b[0m\u001b[1;33m.\u001b[0m\u001b[0mread\u001b[0m\u001b[1;33m(\u001b[0m\u001b[1;33m)\u001b[0m\u001b[1;33m.\u001b[0m\u001b[0msplit\u001b[0m\u001b[1;33m(\u001b[0m\u001b[1;34m'>'\u001b[0m\u001b[1;33m)\u001b[0m\u001b[1;33m[\u001b[0m\u001b[1;36m1\u001b[0m\u001b[1;33m:\u001b[0m\u001b[1;33m]\u001b[0m\u001b[1;33m\u001b[0m\u001b[0m\n\u001b[0;32m      5\u001b[0m \u001b[1;33m\u001b[0m\u001b[0m\n",
      "\u001b[1;31mIOError\u001b[0m: [Errno 2] No such file or directory: 'rosalind_revp.txt'"
     ]
    }
   ],
   "source": [
    "dna = 'TCAATGCATGCGGGTCTATATGCAT'\n",
    "dna2 = make_indexed_sequences_dictionary('rosalind_revp.txt')\n",
    "dna2_seq = ''\n",
    "for key in dna2.keys():\n",
    "    dna2_seq = dna2[key]\n",
    "    break\n",
    "\n",
    "s = palindrome(dna2_seq)\n",
    "for k in s:\n",
    "    for q in k:\n",
    "        print q,\n",
    "    print ''"
   ]
  },
  {
   "cell_type": "markdown",
   "metadata": {},
   "source": [
    "# Perfect Matchings and RNA Secondary Structures\n",
    "\n",
    "A matching in a graph G is a collection of edges of G for which no node belongs to more than one edge in the collection. See Figure 2 for examples of matchings. If G contains an even number of nodes (say 2n), then a matching on G is perfect if it contains n edges, which is clearly the maximum possible. An example of a graph containing a perfect matching is shown in Figure 3.\n",
    "\n",
    "First, let Kn denote the complete graph on 2n labeled nodes, in which every node is connected to every other node with an edge, and let pn denote the total number of perfect matchings in Kn. For a given node x, there are 2n−1 ways to join x to the other nodes in the graph, after which point we must form a perfect matching on the remaining 2n−2 nodes. This reasoning provides us with the recurrence relation pn=(2n−1)⋅pn−1; using the fact that p1 is 1, this recurrence relation implies the closed equation pn=(2n−1)(2n−3)(2n−5)⋯(3)(1).\n",
    "\n",
    "Given an RNA string s=s1…sn, a bonding graph for s is formed as follows. First, assign each symbol of s to a node, and arrange these nodes in order around a circle, connecting them with edges called adjacency edges. Second, form all possible edges (A, U) and (C, G), called basepair edges; we will represent basepair edges with dashed edges, as illustrated by the bonding graph in Figure 4.\n",
    "\n",
    "Note that a matching contained in the basepair edges will represent one possibility for base pairing interactions in s, as shown in Figure 5. For such a matching to exist, s must have the same number of occurrences of 'A' as 'U' and the same number of occurrences of 'C' as 'G'.\n",
    "\n",
    "Given: An RNA string s of length at most 80 bp having the same number of occurrences of 'A' as 'U' and the same number of occurrences of 'C' as 'G'.\n",
    "\n",
    "Return: The total possible number of perfect matchings of basepair edges in the bonding graph of s."
   ]
  },
  {
   "cell_type": "code",
   "execution_count": 3,
   "metadata": {},
   "outputs": [],
   "source": [
    "import math\n",
    "\n",
    "def counting_RNA_Nucleotides(s):\n",
    "    s = s.upper()\n",
    "    A = s.count('A')\n",
    "    C = s.count('C')\n",
    "    G = s.count('G')\n",
    "    U = s.count('U')\n",
    "    \n",
    "    return A, C, G, U\n",
    "\n",
    "def perfect_matching(s):\n",
    "    A, C, G, U = counting_RNA_Nucleotides(s)\n",
    "    \n",
    "    if (A != U):\n",
    "        return 'Not same number of A and U occurrences'\n",
    "    elif G != C:\n",
    "        return 'Not same number of G and C occurrences'\n",
    "    else:\n",
    "        a_fact = math.factorial(A)\n",
    "        g_fact = math.factorial(G)\n",
    "\n",
    "        return a_fact * g_fact"
   ]
  },
  {
   "cell_type": "code",
   "execution_count": 4,
   "metadata": {},
   "outputs": [
    {
     "data": {
      "text/plain": [
       "1068965048238635030906142720000000L"
      ]
     },
     "execution_count": 4,
     "metadata": {},
     "output_type": "execute_result"
    }
   ],
   "source": [
    "s = 'UAUUCUAACGGCGCAUGACAUUGCAACGAGCCCAUAGGUUCCGUGCGACAUUGUGCGUCGCAUCGACCAGGGGC'\n",
    "\n",
    "perfect_matching(s)"
   ]
  },
  {
   "cell_type": "markdown",
   "metadata": {},
   "source": [
    "# Partial Permutations\n",
    "\n",
    "A partial permutation is an ordering of only k objects taken from a collection containing n objects (i.e., k≤n). For example, one partial permutation of three of the first eight positive integers is given by (5,7,2).\n",
    "\n",
    "The statistic P(n,k) counts the total number of partial permutations of k objects that can be formed from a collection of n objects. Note that P(n,n) is just the number of permutations of n objects, which we found to be equal to n!=n(n−1)(n−2)⋯(3)(2) in “Enumerating Gene Orders”.\n",
    "\n",
    "Given: Positive integers n and k such that 100≥n>0 and 10≥k>0.\n",
    "\n",
    "Return: The total number of partial permutations P(n,k), modulo 1,000,000."
   ]
  },
  {
   "cell_type": "code",
   "execution_count": 63,
   "metadata": {},
   "outputs": [],
   "source": [
    "import math\n",
    "\n",
    "def partial_permutation(n, k, modulo=None):\n",
    "    # For k items out of n, the number of k-permutations is equal to n!/(n−k)!\n",
    "    n_fact = math.factorial(n)\n",
    "    n_k_fact = math.factorial(n-k)\n",
    "\n",
    "    return n_fact / n_k_fact % modulo"
   ]
  },
  {
   "cell_type": "code",
   "execution_count": 65,
   "metadata": {},
   "outputs": [
    {
     "data": {
      "text/plain": [
       "150400L"
      ]
     },
     "execution_count": 65,
     "metadata": {},
     "output_type": "execute_result"
    }
   ],
   "source": [
    "partial_permutation(91, 10, 1000000)"
   ]
  },
  {
   "cell_type": "markdown",
   "metadata": {},
   "source": [
    "# Completing a Tree\n",
    "\n",
    "An undirected graph is connected if there is a path connecting any two nodes. A tree is a connected (undirected) graph containing no cycles; this definition forces the tree to have a branching structure organized around a central core of nodes, just like its living counterpart.\n",
    "\n",
    "We have already grown familiar with trees in “Mendel's First Law”, where we introduced the probability tree diagram to visualize the outcomes of a random variable.\n",
    "\n",
    "In the creation of a phylogeny, taxa are encoded by the tree's leaves, or nodes having degree 1. A node of a tree having degree larger than 1 is called an internal node.\n",
    "\n",
    "Given: A positive integer n (n≤1000) and an adjacency list corresponding to a graph on n nodes that contains no cycles.\n",
    "\n",
    "Return: The minimum number of edges that can be added to the graph to produce a tree."
   ]
  },
  {
   "cell_type": "code",
   "execution_count": 10,
   "metadata": {},
   "outputs": [],
   "source": [
    "def connect_tree(n, adj_list):\n",
    "    # Find the connected components of the graph.\n",
    "    cc = n - len(adj_list)\n",
    "    # Return the count of the components minus 1.\n",
    "    return cc - 1\n",
    "\n",
    "def read_tree_rosalind(filename):\n",
    "    d = open(filename).readlines()\n",
    "    n = int(d[0])\n",
    "    edges = []\n",
    "    for i in range(1, len(d)):\n",
    "        edges.append(map(int, d[i].split()))\n",
    "    return n, edges"
   ]
  },
  {
   "cell_type": "code",
   "execution_count": 12,
   "metadata": {
    "scrolled": true
   },
   "outputs": [
    {
     "data": {
      "text/plain": [
       "3"
      ]
     },
     "execution_count": 12,
     "metadata": {},
     "output_type": "execute_result"
    }
   ],
   "source": [
    "n = 10\n",
    "adj_list = [[1, 2], [2, 8], [4, 10], [5, 9], [6, 10], [7, 9]]\n",
    "n_1, edges = read_tree_rosalind('rosalind_tree.txt')\n",
    "connect_tree(n, adj_list)"
   ]
  },
  {
   "cell_type": "markdown",
   "metadata": {},
   "source": [
    "min_edges(10, f)"
   ]
  },
  {
   "cell_type": "markdown",
   "metadata": {},
   "source": [
    "# Introduction to Random Strings\n",
    "\n",
    "An array is a structure containing an ordered collection of objects (numbers, strings, other arrays, etc.). We let A[k] denote the k-th value in array A. You may like to think of an array as simply a matrix having only one row.\n",
    "\n",
    "A random string is constructed so that the probability of choosing each subsequent symbol is based on a fixed underlying symbol frequency.\n",
    "\n",
    "GC-content offers us natural symbol frequencies for constructing random DNA strings. If the GC-content is x, then we set the symbol frequencies of C and G equal to x/2 and the symbol frequencies of A and T equal to 1−x/2. For example, if the GC-content is 40%, then as we construct the string, the next symbol is 'G'/'C' with probability 0.2, and the next symbol is 'A'/'T' with probability 0.3.\n",
    "\n",
    "In practice, many probabilities wind up being very small. In order to work with small probabilities, we may plug them into a function that \"blows them up\" for the sake of comparison. Specifically, the common logarithm of x (defined for x>0 and denoted log10(x)) is the exponent to which we must raise 10 to obtain x.\n",
    "\n",
    "See Figure 1 for a graph of the common logarithm function y=log10(x). In this graph, we can see that the logarithm of x-values between 0 and 1 always winds up mapping to y-values between −∞ and 0: x-values near 0 have logarithms close to −∞, and x-values close to 1 have logarithms close to 0. Thus, we will select the common logarithm as our function to \"blow up\" small probability values for comparison.\n",
    "\n",
    "Given: A DNA string s of length at most 100 bp and an array A containing at most 20 numbers between 0 and 1.\n",
    "\n",
    "Return: An array B having the same length as A in which B[k] represents the common logarithm of the probability that a random string constructed with the GC-content found in A[k] will match s exactly."
   ]
  },
  {
   "cell_type": "code",
   "execution_count": 10,
   "metadata": {},
   "outputs": [],
   "source": [
    "import math\n",
    "\n",
    "def counting_DNA_Nucleotides(s):\n",
    "    s = s.upper()\n",
    "    A = s.count('A')\n",
    "    C = s.count('C')\n",
    "    G = s.count('G')\n",
    "    T = s.count('T')\n",
    "    \n",
    "    return A, C, G, T\n",
    "\n",
    "def AT_GC_counts(seq):\n",
    "    A, C, G, T= counting_DNA_Nucleotides(seq)\n",
    "    AT = A + T\n",
    "    GC = G + C\n",
    "    return AT, GC\n",
    "\n",
    "def log_10_probabilites(value, AT, GC):\n",
    "    return round(math.log10((((1 - value) / 2)**AT) * (value / 2)**GC), 3)\n",
    "\n",
    "def probabilities(gc_content, seq):\n",
    "    AT, GC = AT_GC_counts(seq)\n",
    "    probabilities = []\n",
    "    for i in gc_content:\n",
    "        prob = log_10_probabilites(i, AT, GC)\n",
    "        probabilities.append(prob)\n",
    "    return probabilities"
   ]
  },
  {
   "cell_type": "code",
   "execution_count": 13,
   "metadata": {
    "scrolled": true
   },
   "outputs": [
    {
     "name": "stdout",
     "output_type": "stream",
     "text": [
      "-5.737\n",
      "-5.217\n",
      "-5.263\n",
      "-5.36\n",
      "-5.958\n",
      "-6.628\n",
      "-7.009\n"
     ]
    }
   ],
   "source": []
  },
  {
   "cell_type": "markdown",
   "metadata": {},
   "source": [
    "# Genome Assembly as Shortest Superstring\n",
    "\n",
    "For a collection of strings, a larger string containing every one of the smaller strings as a substring is called a superstring.\n",
    "\n",
    "By the assumption of parsimony, a shortest possible superstring over a collection of reads serves as a candidate chromosome.\n",
    "\n",
    "Given: At most 50 DNA strings of approximately equal length, not exceeding 1 kbp, in FASTA format (which represent reads deriving from the same strand of a single linear chromosome).\n",
    "\n",
    "The dataset is guaranteed to satisfy the following condition: there exists a unique way to reconstruct the entire chromosome from these reads by gluing together pairs of reads that overlap by more than half their length.\n",
    "\n",
    "Return: A shortest superstring containing all the given strings (thus corresponding to a reconstructed chromosome)."
   ]
  },
  {
   "cell_type": "code",
   "execution_count": null,
   "metadata": {},
   "outputs": [],
   "source": []
  },
  {
   "cell_type": "markdown",
   "metadata": {},
   "source": [
    "# Finding a Spliced Motif\n",
    "\n",
    "A subsequence of a string is a collection of symbols contained in order (though not necessarily contiguously) in the string (e.g., ACG is a subsequence of TATGCTAAGATC). The indices of a subsequence are the positions in the string at which the symbols of the subsequence appear; thus, the indices of ACG in TATGCTAAGATC can be represented by (2, 5, 9).\n",
    "\n",
    "As a substring can have multiple locations, a subsequence can have multiple collections of indices, and the same index can be reused in more than one appearance of the subsequence; for example, ACG is a subsequence of AACCGGTT in 8 different ways.\n",
    "\n",
    "Given: Two DNA strings s and t (each of length at most 1 kbp) in FASTA format.\n",
    "\n",
    "Return: One collection of indices of s in which the symbols of t appear as a subsequence of s. If multiple solutions exist, you may return any one."
   ]
  },
  {
   "cell_type": "code",
   "execution_count": 33,
   "metadata": {},
   "outputs": [],
   "source": [
    "s = 'ACGTACGTGACG'\n",
    "t = 'GTA'\n",
    "\n",
    "# find the index arrays of sequence\n",
    "def find_indices(s):\n",
    "    index = {}\n",
    "    for i, char in enumerate(s):\n",
    "        if char not in index:\n",
    "            index[char] = [i]\n",
    "        else:\n",
    "            index[char].append(i)\n",
    "    return index\n",
    "\n",
    "# We could instead use binary search since the index arrays are sorted. For \n",
    "# every character in s, we find the smallest index in a particular index array \n",
    "# that is after a particular given index):\n",
    "def smallest_index(i, index_array):\n",
    "    for p in index_array:\n",
    "        if i < p:\n",
    "            return p\n",
    "        else:\n",
    "            return False\n",
    "\n",
    "\n",
    "    \n",
    "\n"
   ]
  },
  {
   "cell_type": "code",
   "execution_count": 40,
   "metadata": {},
   "outputs": [
    {
     "name": "stdout",
     "output_type": "stream",
     "text": [
      "{'A': [0, 4, 9], 'C': [1, 5, 10], 'T': [3, 7], 'G': [2, 6, 8, 11]}\n",
      "[3, 7]\n",
      "[0, 4, 9]\n"
     ]
    }
   ],
   "source": [
    "s = 'ACGTACGTGACG'\n",
    "t = 'GTA'\n",
    "index = find_indices(s)\n",
    "print index\n",
    "d = {}\n",
    "for i in index[t[0]]:\n",
    "    d[i] = []\n",
    "for k in d.keys():\n",
    "    \n",
    "t1 = t[1:]\n",
    "for i, char in enumerate(t1):\n",
    "    char_arr = index[char]\n",
    "    for q in char_arr:\n",
    "        "
   ]
  }
 ],
 "metadata": {
  "kernelspec": {
   "display_name": "Python 2",
   "language": "python",
   "name": "python2"
  },
  "language_info": {
   "codemirror_mode": {
    "name": "ipython",
    "version": 2
   },
   "file_extension": ".py",
   "mimetype": "text/x-python",
   "name": "python",
   "nbconvert_exporter": "python",
   "pygments_lexer": "ipython2",
   "version": "2.7.15"
  }
 },
 "nbformat": 4,
 "nbformat_minor": 2
}
