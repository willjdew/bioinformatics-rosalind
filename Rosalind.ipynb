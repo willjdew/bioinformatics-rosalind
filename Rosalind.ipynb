{
 "cells": [
  {
   "cell_type": "markdown",
   "metadata": {},
   "source": [
    "# Counting DNA Nucleotides\n",
    "\n",
    "A string is simply an ordered collection of symbols selected from some alphabet and formed into a word; the length of a string is the number of symbols that it contains.\n",
    "\n",
    "An example of a length 21 DNA string (whose alphabet contains the symbols 'A', 'C', 'G', and 'T') is \"ATGCTTCAGAAAGGTCTTACG.\"\n",
    "\n",
    "Given: A DNA string s of length at most 1000 nt.\n",
    "\n",
    "Return: Four integers (separated by spaces) counting the respective number of times that the symbols 'A', 'C', 'G', and 'T' occur in s."
   ]
  },
  {
   "cell_type": "code",
   "execution_count": 1,
   "metadata": {},
   "outputs": [],
   "source": [
    "def counting_DNA_Nucleotides(s):\n",
    "    s = s.upper()\n",
    "    A = s.count('A')\n",
    "    C = s.count('C')\n",
    "    G = s.count('G')\n",
    "    T = s.count('T')\n",
    "    \n",
    "    return A, C, G, T"
   ]
  },
  {
   "cell_type": "code",
   "execution_count": 2,
   "metadata": {},
   "outputs": [
    {
     "data": {
      "text/plain": [
       "(6, 4, 5, 6)"
      ]
     },
     "execution_count": 2,
     "metadata": {},
     "output_type": "execute_result"
    }
   ],
   "source": [
    "s = \"ATGCTTCAGAAAGGTCTTACG\"\n",
    "counting_DNA_Nucleotides(s)"
   ]
  },
  {
   "cell_type": "markdown",
   "metadata": {},
   "source": [
    "# Transcribing DNA into RNA\n",
    "\n",
    "An RNA string is a string formed from the alphabet containing 'A', 'C', 'G', and 'U'.\n",
    "\n",
    "Given a DNA string t corresponding to a coding strand, its transcribed RNA string u is formed by replacing all occurrences of 'T' in t with 'U' in u.\n",
    "\n",
    "Given: A DNA string t having length at most 1000 nt.\n",
    "\n",
    "Return: The transcribed RNA string of t."
   ]
  },
  {
   "cell_type": "code",
   "execution_count": 3,
   "metadata": {},
   "outputs": [],
   "source": [
    "def transcribe_DNA_to_RNA(t):\n",
    "    t.upper()\n",
    "    t = t.replace('T', 'U')\n",
    "    return t"
   ]
  },
  {
   "cell_type": "code",
   "execution_count": 4,
   "metadata": {},
   "outputs": [
    {
     "data": {
      "text/plain": [
       "'GAUGGAACUUGACUACGUAAAUU'"
      ]
     },
     "execution_count": 4,
     "metadata": {},
     "output_type": "execute_result"
    }
   ],
   "source": [
    "t = 'GATGGAACTTGACTACGTAAATT'\n",
    "transcribe_DNA_to_RNA(t)"
   ]
  },
  {
   "cell_type": "markdown",
   "metadata": {},
   "source": [
    "# Complementing a Strand of DNA\n",
    "\n",
    "In DNA strings, symbols 'A' and 'T' are complements of each other, as are 'C' and 'G'.\n",
    "\n",
    "The reverse complement of a DNA string s is the string sc formed by reversing the symbols of s, then taking the complement of each symbol (e.g., the reverse complement of \"GTCA\" is \"TGAC\").\n",
    "\n",
    "Given: A DNA string s of length at most 1000 bp.\n",
    "\n",
    "Return: The reverse complement sc of s."
   ]
  },
  {
   "cell_type": "code",
   "execution_count": 5,
   "metadata": {},
   "outputs": [],
   "source": [
    "import string\n",
    "\n",
    "def complement_DNA(s):\n",
    "    s.upper()\n",
    "    trans_DNA = string.maketrans('ATCG', 'TAGC')\n",
    "    sc = s.translate(trans_DNA)\n",
    "    return sc"
   ]
  },
  {
   "cell_type": "code",
   "execution_count": 6,
   "metadata": {},
   "outputs": [
    {
     "data": {
      "text/plain": [
       "'TTTTGGGCCA'"
      ]
     },
     "execution_count": 6,
     "metadata": {},
     "output_type": "execute_result"
    }
   ],
   "source": [
    "s = 'AAAACCCGGT'\n",
    "complement_DNA(s)"
   ]
  },
  {
   "cell_type": "markdown",
   "metadata": {},
   "source": [
    "# Mendel's First Law\n",
    "\n",
    "Probability is the mathematical study of randomly occurring phenomena. We will model such a phenomenon with a random variable, which is simply a variable that can take a number of different distinct outcomes depending on the result of an underlying random process.\n",
    "\n",
    "For example, say that we have a bag containing 3 red balls and 2 blue balls. If we let X represent the random variable corresponding to the color of a drawn ball, then the probability of each of the two outcomes is given by Pr(X=red)=35 and Pr(X=blue)=25.\n",
    "\n",
    "Random variables can be combined to yield new random variables. Returning to the ball example, let Y model the color of a second ball drawn from the bag (without replacing the first ball). The probability of Y being red depends on whether the first ball was red or blue. To represent all outcomes of X and Y, we therefore use a probability tree diagram. This branching diagram represents all possible individual probabilities for X and Y, with outcomes at the endpoints (\"leaves\") of the tree. The probability of any outcome is given by the product of probabilities along the path from the beginning of the tree.\n",
    "\n",
    "An event is simply a collection of outcomes. Because outcomes are distinct, the probability of an event can be written as the sum of the probabilities of its constituent outcomes. For our colored ball example, let A be the event \"Y is blue.\" Pr(A) is equal to the sum of the probabilities of two different outcomes: Pr(X=blue and Y=blue)+Pr(X=red and Y=blue), or 3/10+1/10=2/5.\n",
    "\n",
    "Given: Three positive integers k, m, and n, representing a population containing k+m+n organisms: k individuals are homozygous dominant for a factor, m are heterozygous, and n are homozygous recessive.\n",
    "\n",
    "Return: The probability that two randomly selected mating organisms will produce an individual possessing a dominant allele (and thus displaying the dominant phenotype). Assume that any two organisms can mate."
   ]
  },
  {
   "cell_type": "code",
   "execution_count": 7,
   "metadata": {},
   "outputs": [],
   "source": [
    "import scipy.special\n",
    "\n",
    "def dominate_allele(k, m, n):\n",
    "    # Calculate total number of organisms in the population:\n",
    "    total_pop = k + m + n\n",
    "    # Calculate the number of combos that could be made (valid or not):\n",
    "    total_comb = scipy.special.comb(total_pop, 2)\n",
    "    # Calculate the number of combos that have a dominant allele therefore are valid:\n",
    "    valid_comb = scipy.special.comb(k, 2) + k*m + k*n + 0.75*scipy.special.comb(m, 2) + 0.5*m*n + 0.0\n",
    "    # Calculate the probability of valid combos\n",
    "    prob = valid_comb / total_comb\n",
    "    return prob   "
   ]
  },
  {
   "cell_type": "code",
   "execution_count": 8,
   "metadata": {
    "scrolled": true
   },
   "outputs": [
    {
     "data": {
      "text/plain": [
       "0.7833333333333333"
      ]
     },
     "execution_count": 8,
     "metadata": {},
     "output_type": "execute_result"
    }
   ],
   "source": [
    "dominate_allele(2,2,2)"
   ]
  },
  {
   "cell_type": "markdown",
   "metadata": {},
   "source": [
    "# Rabbits and Recurrence Relations\n",
    "\n",
    "A sequence is an ordered collection of objects (usually numbers), which are allowed to repeat. Sequences can be finite or infinite. Two examples are the finite sequence (π,−2–√,0,π) and the infinite sequence of odd numbers (1,3,5,7,9,…). We use the notation an to represent the n-th term of a sequence.\n",
    "\n",
    "A recurrence relation is a way of defining the terms of a sequence with respect to the values of previous terms. In the case of Fibonacci's rabbits from the introduction, any given month will contain the rabbits that were alive the previous month, plus any new offspring. A key observation is that the number of offspring in any month is equal to the number of rabbits that were alive two months prior. As a result, if Fn represents the number of rabbit pairs alive after the n-th month, then we obtain the Fibonacci sequence having terms Fn that are defined by the recurrence relation F(n)=F(n−1)+F(n−2) (with F1=F2=1 to initiate the sequence). Although the sequence bears Fibonacci's name, it was known to Indian mathematicians over two millennia ago.\n",
    "\n",
    "When finding the n-th term of a sequence defined by a recurrence relation, we can simply use the recurrence relation to generate terms for progressively larger values of n. This problem introduces us to the computational technique of dynamic programming, which successively builds up solutions by using the answers to smaller cases.\n",
    "\n",
    "Given: Positive integers n≤40 and k≤5.\n",
    "\n",
    "Return: The total number of rabbit pairs that will be present after n months, if we begin with 1 pair and in each generation, every pair of reproduction-age rabbits produces a litter of k rabbit pairs (instead of only 1 pair).\n",
    "\n",
    "https://stackoverflow.com/questions/25111106/recursive-fibonacci-algorithm-with-variant"
   ]
  },
  {
   "cell_type": "code",
   "execution_count": 9,
   "metadata": {},
   "outputs": [],
   "source": [
    "def fibonacci(n, k):\n",
    "    # This coe is 1-based so months may not be 0 or less\n",
    "    if n <= 0:\n",
    "        return \"n must be greater than 0\"\n",
    "    # In months 1 and 2 there is only 1 pair of rabbits\n",
    "    if n == 1 or n == 2:\n",
    "        return 1\n",
    "    # Calculate the total populatin using fibonacci squence \n",
    "    # F(n)=F(n−1)+F(n−2) (with F1=F2=1 to initiate the sequence)\n",
    "    else:\n",
    "        total_pop = fibonacci(n-1, k) + k * fibonacci(n-2, k)\n",
    "    return total_pop"
   ]
  },
  {
   "cell_type": "code",
   "execution_count": 10,
   "metadata": {},
   "outputs": [
    {
     "data": {
      "text/plain": [
       "19"
      ]
     },
     "execution_count": 10,
     "metadata": {},
     "output_type": "execute_result"
    }
   ],
   "source": [
    "fibonacci(5,3)"
   ]
  },
  {
   "cell_type": "markdown",
   "metadata": {},
   "source": [
    "# Computing GC Content\n",
    "\n",
    "The GC-content of a DNA string is given by the percentage of symbols in the string that are 'C' or 'G'. For example, the GC-content of \"AGCTATAG\" is 37.5%. Note that the reverse complement of any DNA string has the same GC-content.\n",
    "\n",
    "DNA strings must be labeled when they are consolidated into a database. A commonly used method of string labeling is called FASTA format. In this format, the string is introduced by a line that begins with '>', followed by some labeling information. Subsequent lines contain the string itself; the first line to begin with '>' indicates the label of the next string.\n",
    "\n",
    "In Rosalind's implementation, a string in FASTA format will be labeled by the ID \"Rosalind_xxxx\", where \"xxxx\" denotes a four-digit code between 0000 and 9999.\n",
    "\n",
    "Given: At most 10 DNA strings in FASTA format (of length at most 1 kbp each).\n",
    "\n",
    "Return: The ID of the string having the highest GC-content, followed by the GC-content of that string. Rosalind allows for a default error of 0.001 in all decimal answers unless otherwise stated; please see the note on absolute error below."
   ]
  },
  {
   "cell_type": "code",
   "execution_count": 2,
   "metadata": {},
   "outputs": [],
   "source": [
    "# Split the file contents at '>' to get a list of strings representing entries\n",
    "def read_FASTA_strings(filename):\n",
    "    with open(filename) as file:\n",
    "        return file.read().split('>')[1:]\n",
    "\n",
    "# Partition the strings to seperate the first line from the rest\n",
    "def read_FASTA_entries(filename):\n",
    "    return [seq.partition('\\n') for seq in read_FASTA_strings(filename)]\n",
    "\n",
    "# Remove the newlines from the sequence data\n",
    "def read_FASTA_sequences(filename):\n",
    "    return [(info[0:], seq.replace('\\n', '')) \n",
    "            for info, ignore, seq in #ignor is ignores (!)\n",
    "            read_FASTA_entries(filename)]\n",
    "\n",
    "# Create an sequence dictionary from sequence data\n",
    "def make_indexed_sequences_dictionary(filename):\n",
    "    return {info: seq for info, seq in read_FASTA_sequences(filename)}"
   ]
  },
  {
   "cell_type": "code",
   "execution_count": 11,
   "metadata": {},
   "outputs": [],
   "source": [
    "def gc_content(base_sequence):\n",
    "    # make base_sequence a string and Upper case for uniform processing.\n",
    "    base_sequence = str(base_sequence)\n",
    "    seq = base_sequence.upper()\n",
    "    # Count G and C and return percentage\n",
    "    g = float(seq.count('G'))\n",
    "    c = float(seq.count('C'))\n",
    "    l = float(len(seq))\n",
    "    return (g + c) / l * 100\n",
    "\n",
    "def gc_content_dict(fasta_dict):\n",
    "    gc_dict = {}\n",
    "    # for each sequence in fasta_dict find the gc content and create new dict\n",
    "    for key in fasta_dict.keys():\n",
    "        gc_dict[key] = gc_content(fasta_dict[key]) * 100\n",
    "    return gc_dict\n",
    "\n",
    "def key_with_max_val(d):\n",
    "    # create a list of the dict's keys and values; \n",
    "    v=list(d.values())\n",
    "    k=list(d.keys())\n",
    "    # return the key with the max value \n",
    "    return k[v.index(max(v))]\n",
    "\n",
    "def highest_gc_content(filename):\n",
    "    # Create an sequence dictionary from sequence data in filename\n",
    "    fasta_dict = make_indexed_sequences_dictionary(filename)\n",
    "    # Create a gc content dictionary\n",
    "    gc_dict = gc_content_dict(fasta_dict)\n",
    "    # find the sequence with the largest gc content\n",
    "    max_key = key_with_max_val(gc_dict)\n",
    "    # return key name and gc_content value\n",
    "    return max_key, gc_dict[max_key]"
   ]
  },
  {
   "cell_type": "code",
   "execution_count": 12,
   "metadata": {},
   "outputs": [
    {
     "data": {
      "text/plain": [
       "('Rosalind_0808', 60.91954022988506)"
      ]
     },
     "execution_count": 12,
     "metadata": {},
     "output_type": "execute_result"
    }
   ],
   "source": [
    "highest_gc_content('test_gc.fasta')"
   ]
  },
  {
   "cell_type": "markdown",
   "metadata": {},
   "source": [
    "# Translating RNA into Protein\n",
    "\n",
    "The 20 commonly occurring amino acids are abbreviated by using 20 letters from the English alphabet (all letters except for B, J, O, U, X, and Z). Protein strings are constructed from these 20 symbols. Henceforth, the term genetic string will incorporate protein strings along with DNA strings and RNA strings.\n",
    "\n",
    "The RNA codon table dictates the details regarding the encoding of specific codons into the amino acid alphabet.\n",
    "\n",
    "Given: An RNA string s corresponding to a strand of mRNA (of length at most 10 kbp).\n",
    "\n",
    "Return: The protein string encoded by s."
   ]
  },
  {
   "cell_type": "code",
   "execution_count": 21,
   "metadata": {},
   "outputs": [],
   "source": [
    "# Translating RNA into Protien\n",
    "RNA_codon_table = {\n",
    "    \"UUU\":\"F\", \"UUC\":\"F\", \"UUA\":\"L\", \"UUG\":\"L\",\n",
    "    \"UCU\":\"S\", \"UCC\":\"S\", \"UCA\":\"S\", \"UCG\":\"S\",\n",
    "    \"UAU\":\"Y\", \"UAC\":\"Y\", \"UAA\":\"Stop\", \"UAG\":\"Stop\",\n",
    "    \"UGU\":\"C\", \"UGC\":\"C\", \"UGA\":\"Stop\", \"UGG\":\"W\",\n",
    "    \"CUU\":\"L\", \"CUC\":\"L\", \"CUA\":\"L\", \"CUG\":\"L\",\n",
    "    \"CCU\":\"P\", \"CCC\":\"P\", \"CCA\":\"P\", \"CCG\":\"P\",\n",
    "    \"CAU\":\"H\", \"CAC\":\"H\", \"CAA\":\"Q\", \"CAG\":\"Q\",\n",
    "    \"CGU\":\"R\", \"CGC\":\"R\", \"CGA\":\"R\", \"CGG\":\"R\",\n",
    "    \"AUU\":\"I\", \"AUC\":\"I\", \"AUA\":\"I\", \"AUG\":\"M\",\n",
    "    \"ACU\":\"T\", \"ACC\":\"T\", \"ACA\":\"T\", \"ACG\":\"T\",\n",
    "    \"AAU\":\"N\", \"AAC\":\"N\", \"AAA\":\"K\", \"AAG\":\"K\",\n",
    "    \"AGU\":\"S\", \"AGC\":\"S\", \"AGA\":\"R\", \"AGG\":\"R\",\n",
    "    \"GUU\":\"V\", \"GUC\":\"V\", \"GUA\":\"V\", \"GUG\":\"V\",\n",
    "    \"GCU\":\"A\", \"GCC\":\"A\", \"GCA\":\"A\", \"GCG\":\"A\",\n",
    "    \"GAU\":\"D\", \"GAC\":\"D\", \"GAA\":\"E\", \"GAG\":\"E\",\n",
    "    \"GGU\":\"G\", \"GGC\":\"G\", \"GGA\":\"G\", \"GGG\":\"G\",\n",
    "}\n",
    "\n",
    "def translate_RNA_codon(codon):\n",
    "    return RNA_codon_table[codon]\n",
    "\n",
    "def aa_generator(rnaseq):\n",
    "    # Return a generator object that produces an amino acid by translating\n",
    "    # three characters of rnaseq at a time\n",
    "    return (translate_RNA_codon(rnaseq[n:n+3]) for n in range(0, len(rnaseq), 3))\n",
    "\n",
    "def translate(rnaseq):\n",
    "    rnaseq = rnaseq.upper()\n",
    "    # Translate rnaseq into amino acid symbols\n",
    "    gen = aa_generator(rnaseq)\n",
    "    seq = ''\n",
    "    # Sets the first amino acid as 'aa'\n",
    "    aa = next(gen, None)\n",
    "    # While aa is true\n",
    "    while aa:\n",
    "        # If aa is a stop codon retrun sequence else add aa to seq\n",
    "        if aa == 'Stop':\n",
    "            return seq\n",
    "        else:\n",
    "            seq += aa\n",
    "            aa = next(gen, None)\n",
    "    return seq"
   ]
  },
  {
   "cell_type": "code",
   "execution_count": 23,
   "metadata": {},
   "outputs": [],
   "source": [
    "test_seq_2 = 'AUGCGUGGCCGCCACUUCUACAAUGCACGCAGUUCAAGCACCAAAUCUGUAGGCUUAGUACUUCCUAAAGUCUAUCCUUGUCUACGCGGUCGGGUUUUGGACACACGUUGUGAUUUCUACACUAGGAAACAAAAGUUCUUUGACCAAAGUCUGAGAAAUGUGAAGUGUCUAAUCCUUAAAUAUUUCGCUGAAUUUUUUGCGUGGAGACGAACCGUAUCCGGGCUGGCCUGGGUGUAUAUAAGGGGUCGCCUGGCCGGCACUCUUCGUUUGGGGUACAGUCUUCUAGGAACGGACUGCACGCAGGCUCGACGGCGGCAGGUAAAUUAUCCCGCGUCAGUGUUUUGUCGGCGCGUUAAUGUUUCUUAUGGUUGUCCCCCAGAUUACCUGCCAACUGCGACUGAUGAUAUGCCGGCCGACCCUGUACCGACGGUUCAUUGCACCUCUUUACUGACCCUCCCUCAAAAAAAGGCAAACGCAUCCUAUGUGCCCGGUGGUCGACCGGACGAACACCUAGAAGCACCUGAGAAAAUCAAGGUUUCGUGUGCAGCGGUGAUACCCACCUGGUCAGUAAACAAGACCGCCAACACUCGACCGUGGUCGGAACAACUGGCCUUAUUACCCUUCAUCUCCGUAAAGAAAGGAUGUCUUCAGUGUCGUAGGCGGGAUCGUAGGAUCAGAGGGACCCACCCUCUUAAUAUUGUCGCAGUAGAGGUUGAUCCGUUUCUACAGCGUAUCAAGACUUUAUUAAACCGGCUUGGCACAGGGUUAGGGUUUCUCACCCAGAGCGUCUAUCGACCACACCAUGGCGAUUGUUUCGAUCCCGGUUACGUUUAUUGUGUUUGUUGGAGCGAAUCAGGACUCCAUUUUGUCCCGAACCGCGGCACGGACCAGGGGUGUAAUCCUUCAGAGGAACUCGGUGCCUCCGCUGGAAUGUCGCCCCGGCGGUUAAUGACCCCGCUCCUAGCAUCUCGCGUCCUGUGUGGUUAUUACGAUUUCCCGGCCGAAAAUGGGUUUCCCCCUUCUACCGACGACUGGGACCUCACAUGGUCAUUGUUGUUCAAGUAUACUCAUGAUGGGAGAUCCAAGGCAGUAGUCAACCUGAGAUUGGCACGUCUUUACGGGUGUAUGCAACGACCCCAGUUAACUCCCCAUCUGGUAGCGAUACUAUAUCCUUUUCAAACUGCCAGGGGCCUUAGACGUAACGUUGGCGGUACGGUUCCACAACAUAAGUCUAUACUAACGGGUUGUCCCCGCAAGAGUUCCGAAUAUAGAGCAGGCAGAGAAUUUGACGUCACAGCUUUCAGCCUAGUAUCUCAAGGGAUAGCGAAAUUUCGGCCUUACAACCAACCAGUUUAUUCACUGAGUGCGCAGUCUUAUCCUUACGCGUCCCGAUGGAGGCAGCUUGGCUAUCGAUCUCGCGUAUUACUCGCGAAAGGUACCCCGACUUUUAACACUGCAAGCACAUCCGACCCUUCCUUGAGUGCUCUGCACUAUCUAUAUGUGGCCCUACAGGGGCAUCCGAUGGUUCCUAUUGCGGAUUGUCUGGCUACAAAGCGACGGCCUAGGCGUCCUUCCCAUCUAUAUCGCUAUGUUUUAAUAGUGGCGCUCAGGUCUAUACGGGCGGGCGAUACUACUUCAAUGAAUUGUGAUAAGCCACGACGAACAAUCUGGAUUGUUAUGUUCGAGACCCAGGAGAGCGGUGCAGGGUAUAACAGUGAUAAUAUCUGCGAAACGGAAAAGCCGGUAUACUGGCACGGCCACACCCUUAGCCGUGUGGCCAAGAAAUUAUCUAGUGCCGGUAGACGAUGCUCAGCGGAUCUGAUAGCUAACCUAGCGUUUAACACCUUGCUCGAGGGCACUCCUGCUUGUCCGACUUGCGAGAGGUACGGCAUAUGCACGAGUAUUAUACGUGGUUGGUCGGCUAGCAUCGCGAUCUUCUCUCUUUAUGCAAGCGCCUUGCGCAACAUAUUGUCAUUAGCGAGUCUAAGCGCGGACCGCGAUAAUCGGAGAUCGGACUCCCCGACGGAUGCCUUUUUAGCGACCUCCACCGCCGUGAGCAGCUUUGGGUCAAUCAUGAGGAGAUGCGUUUUUAUGACUAUAUGGCCCAGCCAGCCGACUAUAGGUUCGAAGAGCCGUUGUACGUGCGGCCACGACUCACCCACUAUAGGCUCGUGGCACACUAUAUCGCUUAGUGCAGUCUUUACGCCUGACUCGGGCCGUGUCGAAGUAUUGUGGGUCCCCACUGAGUUAGCCGGAAUGUAUGACGGGCGGACGUUCUAUCUCGGCUGGAGCGAGUGCGUUCGUUGCGUCCCUUCCCUGCAGAGUACUAUGGGCAGUACAGGCGGUUCGCGGAAAGUUGAGCGCUCUCAUCUAGAGGGCAAAGCUUUCGGCCGGGGCGCCCUACACAUUCCCACCCCAUUUGUAGGCUGUGCCUGUCUAUGCGCGCCCGGGCGGGUUCGGCCGACGCAGUCGAUCGGUGCUGGUGAAUUAUACGAUGCUGUCCCGUCGGGAUCGCUGGAUAGAAGACACUGGGGAUACACCCUUGCGGAUACAUGCUGCACUCAAUAUCUGCAAGACGUCACACUUCCACCGGUUUGUUAUGCUCAUUUAAGUUAUGCUGGGUGUCGGCCAACCACCCUCAUAGAGGAGACAGGAUCCAGGAAUCGCUUCGAAUGCGUCUUAUUCCAUGCGGACUUAGUACCAUCGAUGGGCAACUAUGGGGACCUAGGGGACUCGAAGCGAUGUUUUGACUCGGGGUAUUUGCAUACAUCGCCCGGCAGAGCGCGAAUCCCAAGGGUAUGUCCGCACCGGCAGCAGUACGAUCGUUCUCGGGGAGCGAGAGAUUUGCCUCUGCUCUGGUAUCUUGUCUACUUUACCGCAGUGCUAGAAUCGGGAGCAACCGCCCCGCGAUGGGGGGCAGAGCCUAGUGCUGCUCUAUGUCCCCUAGGAAGUGUCCCACGGGUAGCAAGAGCAGACCCGCCCACAAAAGGCACAUACUACUCCGUCACCUCUGAUACUUGGAACGACGCUUGGUUCAAGGCAGAAGCCCGACUGACGCUGGUAGCCGUGGCGUCCAAGAAGGACGUUCCGACCCUACAAAAGCCCGGUCAGAAUAAGGGUCAUCUUAAACGAAUCGCUGAAUACAACUUAAGGCCUGGGGCUAGGGGUGCAUCUACUUCGCUAGUGACGUUAUCUGUGGCCAGCGCUGGGACCUUGUUUACAGGUCAUCGGGUAAUUUUCCUAACAAUAGAGUUGUGUAACAAAGCACAGGUAAUGCCCGCUAUCCGUCACCUUCCAAGUGAGGUACCCGGUUUAAAAACCCCGGCCACAUCAUGUCGCUCGGUGCACAUCGGUCCUUGUCGAAAGAGUCUGUUUGGAUACGAGGCAGUAUGGAAAGGGGCGGUAGCGAAAUCUUUAUGGACACAGCCCACUUAUAAUUUGGAUAACCAUGAGCAUCGAAUCUGUCCUAGCGCGCGACGAGGCCGCCCCAAGGGCACAUCGCAACCAUCCCGCCGUAUGCUGUAUGUCCCAGCUUGCCACCCCCGUCCAUCACACUACCAUGUUCGUAUGCCACGCACGUGUAUUGCGGCAGCACAAGAAUGUGUGACGAGGAUUUACUUUCAAAUGGAAUAUGUUGACGAAGGGGGCGCCCUAGAGUGUUUAGUCGUCUUUCGACGCUGGCGAAGCUAUCGAGCUAAAUCCCAAGAAAUGAAAGCGAUGGCGACCUGCAAUCUUGCGCUCAAGAAGCUUAUUGUACUAGCGACUACGAUCUGGGGGGCCUACUCAAUGCCGUUAUUUGAAUACGAGCAAGCGGUCGGGCGUUAUGUCAGCUGUAUCCGGGGCGCACUAAUAAGGAGUGGGCCAUUGUGCUGUUUAAUGUAUCGUACUUCCGGGUAUCGGACCAUAGCGUCCGGAUACGUGCACCAGAAAGCCCUUGUAUCCAGCUUGGUCCACGUGUUUGAAAUCAGUGAGACGAAUAUAGUAUUGGUCCCAAAGCUUGGUAAUCGACGCCCUCCUGUUUGGGUACUAGAGUUAACGUGGACCUUCAUUGCCAAACCCAUAUGCUUCGUUAUUAGGGCGCGCAGAACAUCAGACCGAAAAAUAGAACUUUUGGUAGAGCCAUUUCCUAAAACCGGAGAAGAACGUUUUUGGUUGGAUAAAUACAGUUCAGAAGAUAUUCUCCUGUACCACACCCCCCCCUUGGCGUCUUUUCCGAGUUGGACCGCAGGUCGGCAAUUACCCCUUGCGGAGGCGUUGACUCUAGAUUCGUCAAGGUUGAUGGUACCCCUUCACCCGCUGAUGUGCUUUCCCGCGACAGAGAGAGAUGUUAAAUGUGAAGGGAAUGUCUACUUCCAAUUUUGUGAAAUGGGCUGUCUCGCUCGAUCCACUGGCUGGACUUUUUUGGGAGAACGAUCGGACAGCGAAAGCACCAAAUCCUACUCCCCGGUUAUAAACGUUGGAGGUGCUCCCGCAUUCUGCCCACACCCGCCAGGAAAGCGCAUUGGGAGUCCUCAGUCGGAGAGUUACACGUUUGGGCCGCCCCUAACGUACUCUUCGCAUCGAGAUAUGAUCAAUGGGGUCCUGAUACUAAGAUCCGUUUCUAGGAGGGAUCGUCGCCCAGAAUUCCACGCGGUUGCCAUAUAUAUCGUUAUUCGAGGCAGCUCUCGGGAGGACCAUUGGAUACAUCACGUUGUCGCUGGCCUGUACUAUGAGACACGGUCCUUGUACACUUGGUAUACCUCGCAAUCUGUGCAUAGUCUCAGUGAUUCAGAGAGUGAAGGCCAAUUGGUACGCCAUAACGCGGCUGUCUCUUCUAAUUAUUUCAGGAGCCUGUUAGGACUGUGCAAAGCCAUUAGCGUACGACGGACAGCAGUUAACCUAUGCUACACCGAAUCUACGUCGGGGACGGUUGCGGCAUCUGACUCUGCAUAUAGCGUGGCUUAUUGUCUACGAACAGGCGAGACAUUCACAAUUCUGCCGAAGCCGCGGAGUACCCUCGACGAGCCAGCCACGACCCUAGCCCAUUCCGAGCGAGCGCAAUUCCUUGGCGAUGGGGGCGUACAACGCGAAAUCGAAUGCCCCGGACUAAUACUCAGAACCCAUCAGGUAGCGCAAGGAGACGCGACAGCAUGCUCGGUGACUGCUUCAUCGGGGCUCGAAUACAACAGAGUCGCCCCCCUGGCAGUAGCCGCGUUAGUUGCGGUCCACGCGCUUAGAAAGGUCUUCCCAGAAUGGAAGCUGACCCCCUUUAGCAUCAGACCGCGUGCAAAGCCGAUAGUAACAAUUAUUCCGGUGUCGACCAGUUCUACGUGCAGGACUGAGUCAUUGCUAGUUGGUACCGGCUGGCAGGACAAGGUGCGUAGUUCGUUGUUGGGACGCCAUACCGAUUCAGUGCGGGGCUGUCAGCCACAAUAUGUGCAUAACACCGACCAGUUCUCUCCGCCGCAUCGCGAGACACCUGUCUCGAUAAGCAGUUUAGCGACCACUACGCCCCGUAGGCUUGACGUAGAUACCUUGUUGACAGUCAUUGUUAGGAGCCCCUCACCCUAUCGGGUAACUUUGUGUGGACUCUCACCUGCUCAAGACGAUGACAUCACGUUUCUCUCAACAAAGGGUAUCCGGUUAUGGAUAAGUGCUCGAAACGCCGAACGGUUGGUAGUGGGGUGGAAUGCUUCGCGGCAACCAGCCGACCUCCUUGCUGUAUUCUGUAUUUCGGGUAUGCCAUUGUCCUCUUGCCUGUUCCUGCAAGGCUCAUUACCAGCCGGGGCGGGUUCGGAGCGAUUUUACUCGACCAAAGCACAACUGACUAACACUCCUGUAGAUCCUGUCAAUUGUUCGCCUAAUGGGACGAUCAGGCUCGUCGCCGUUUUGGGGUCGAGAUGCGUAGGUCCUGUUACAGAUGGAGCUUCGCGUCAGCUUCGUUUCUACCCUACAGGGGGGCUGCUCCAGCCACGUACAUCCUAUCCUGCCAUGCGCGUUCCAAGGAUACAGCAGUCAGUGAUGCCUUGGGGUGAAACCUUUCGUAACAAUACAAUAAGGUCCGCAAAUCACGUCCACCAGCGUGUGCCCAGUCGAACCCAAGUCUAUCGGCUCGGGGAGACCAGGCUGGGUGCCCUAUGCGUUAGGUCCAGACAGCUGUGCACGUGCGGGUCUAAUGGGGAUCAGCAACCCAGGAGCUGGGUCCCCAAGCAGGGCUUUCGGACACAAGUACCUAUGUCUGAUUUCACCCGUAUAUAUUUUGGUCUCCCAGAAUCUUACAUGCAGAAACCCCGGGCUUCAUCUCAAUGUGCAUAUAUCGUCGCUUUAUGUGAAGGACGUAAACAGAUCGGCACGGAGUACUCUGCACGGAUAGUCGCGAAACCGUCGUCAAACCUGGUCCGAUAUAGGUACAAACGGGAAAUGGAGACGCCGGAAAGAAAAUACAAGGAGAAAUUCGGUCUUGCAGAACUAACGGUGUUAUUAAAGACGAAUACGCUUGCCUCGACCAAAAUGAAGAGCCCCUUCUGGAGGCCGAGAAGCUGGGACUAUCUGCUUAACAUGCCCUCUACGUUUAACAAUUCUUGGCAGGGGUUUCGGGAGGUUAUGGCACCAGUAAUCAAUCCCGCCCAGAUGCAUCGGGCCUCUCUUCAAGCUCCCAUUCGCUCCUUUGGGAGUCGCCUGGUGCAAGUACCUAAAUGUGACAGUAUCUCGCAGCAGUCUUCGCCUGAUCUUGCGUGGGCGCUCCGCUUCAAGGACUACUCGUUAGUUAGUACCAAGGUCAAUCACAAAACUUUGGCCCGUAACAGACUGAAUCAAUGUUUCCGUAGAUUUCCCAAACACGUUUCGAAUGGCCAAAUGCUACUCAUUGCGUCACUGAAGUCUCCCAUCCCCAACCUUCGUAAUGGACUAUAUCGAUCAAAUUUUAAUAUUGCUAGGGUAGAUGAAACUUUCACUUGGGGUUCAUUGAUUAUCUGUGCCAAAGUCAGUUCCACGAGUGUCGUUAUAACGAAACGUGAUCUCUCCACACCGAGUACGCUCACGCUUGCCCCAUUACAUCUGUAUAGGUCAGGACCUACCACUGUGCAGAGAGCGUCGCACCAGCUCGCCCCUCCAAUCAACAAGAUGAGAUCAUUCGAAAAAUCCAGGUCAACAUGGGUCAAGGUACACCUCGACUUUGGUGAUUGCCCCUCUGUCCUAUCUGUCCCAUCCCCAGCUUCUGCCACGUACCAGUACCCUCGAUUAGUCCAUAAGGGUUGCAUACCCUAUAGCUUGGGAGAUAAAUCGGACCGGCGCGCGCAUCACUCGCGUCGCAAUACUCCGUGGGUGUGUGCACUUAGGCUCAUUAAAUUUCCGGCGUUCGAGCGGGCUGCUGACUUGGGAAUACUAGGACAGGGUAUUCGGGGCUAUGAGUACUACUAUCCAGGACCCAUUCAGAGAGGUAAAGCGAGUCUGCUCCUAGCGUGUCAUUCCAAACAACUGCUACAGGAGCGGGCAGAACGUAACUACAGAUCAACAAAAACCAACGGCCCAACGACAUCCUUAUCGGUACGCGUGCAACACUCGCCACGAGCGUAUUCCCCGAGAGGGACGAAGCCAAGACAAGGGCGCCCUGCAGAAAAGAUUUAUACCAGAGUGGCAGCUUGGCCAUUGUGUUUAGGGGGAUGCUUGGACAGACCGCACCCUUCGAGUGGCGUAAUCUUCUCUGAAUCUUCUGCCGAUAUACCUAUCAUUUUUACUGACCGGGCCUACACAAGCCAGCCGGCCGCUUCUAGGUGGAAGACCCGCGAUGGGGGACGUCCGCCGCGUGAAUCGCCAUAUUCCAGAGCGCCGAUCGACGCAAAAACCGGCUACUGCCAGUACACCGACCAAGACGCGUUAGUAUCGGAGUUAGUCCUAGUGCCGGACCGAGUUCGAACAGGCGGGAGCGUGCGUGGUCCAUCAACUUCAACGUGCGUUCGGCCGAUGGUACGCUAUCGCUGGGAUAAAGUCGCCGGAAGCCCACAUAUUGGGUGUAACCCCGCCAAGGGUACUGGCCUUACCAAAGUAACUGUCGCGGCGUACUGGGCUCGGUCGCAAAAAGGCAGCAAUGCGAGUAGACGGAAGUCACACAGCUCAGCGCGCGCUGGUAAUUCUCGAAUCCCGCGCGUGCGAAGGUGUGUGGUCGACACACGUAGACCCUUCAACACAACGGGUUAUCUCCGAUCUCAAAAAUUCGUGUUACAAUGCAACGGUAUGAGUCCAAAAAACAGGCAGUCAUCCGUUGAAUCUGGGAUUGGGGUAGCUAUAGCGAUUAAGAAAUUGCAUGCCUUCCCCGCAGCCGCAGUUUCUUCCGCUACCAAGAGCCAGCUCGGAUCAACUCCAAUUUCGCAGAUACCAAUGGGAGAUUCCUCAACUUCAAGUCCGGUUAUUUUCGAAAUCAGGACAGAGUUCGUGUAUCAAUAUUCGACUCCGCCAUGUAGCGGCAGGAACUGA'\n",
    "translate(test_seq_2)"
   ]
  },
  {
   "cell_type": "markdown",
   "metadata": {},
   "source": [
    "# Finding a Motif in DNA\n",
    "\n",
    "Given two strings s and t, t is a substring of s if t is contained as a contiguous collection of symbols in s (as a result, t must be no longer than s).\n",
    "\n",
    "The position of a symbol in a string is the total number of symbols found to its left, including itself (e.g., the positions of all occurrences of 'U' in \"AUGCUUCAGAAAGGUCUUACG\" are 2, 5, 6, 15, 17, and 18). The symbol at position i of s is denoted by s[i].\n",
    "\n",
    "A substring of s can be represented as s[j:k], where j and k represent the starting and ending positions of the substring in s; for example, if s = \"AUGCUUCAGAAAGGUCUUACG\", then s[2:5] = \"UGCU\".\n",
    "\n",
    "The location of a substring s[j:k] is its beginning position j; note that t will have multiple locations in s if it occurs more than once as a substring of s (see the Sample below).\n",
    "\n",
    "Given: Two DNA strings s and t (each of length at most 1 kbp).\n",
    "\n",
    "Return: All locations of t as a substring of s."
   ]
  },
  {
   "cell_type": "code",
   "execution_count": 46,
   "metadata": {},
   "outputs": [],
   "source": [
    "import re\n",
    "\n",
    "def find_motif(motif, seq):\n",
    "    # create lookahead string to find overlapping motifs\n",
    "    q = '(?=' + motif + ')'\n",
    "    # create iterator to find all the motifs in the seq\n",
    "    iterator = re.finditer(q, seq)\n",
    "    # find all start locations of motifs in the seq\n",
    "    indices = [m.start(0) for m in iterator]\n",
    "    # make start locations of indices for base 1\n",
    "    indices_base_1 = [x+1 for x in indices]\n",
    "    \n",
    "    return indices_base_1"
   ]
  },
  {
   "cell_type": "code",
   "execution_count": 47,
   "metadata": {},
   "outputs": [
    {
     "data": {
      "text/plain": [
       "[2, 4, 10]"
      ]
     },
     "execution_count": 47,
     "metadata": {},
     "output_type": "execute_result"
    }
   ],
   "source": [
    "motif = 'ATAT'\n",
    "seq = 'GATATATGCATATACTT'\n",
    "\n",
    "find_motif(motif, seq)"
   ]
  },
  {
   "cell_type": "markdown",
   "metadata": {},
   "source": [
    "# Counting Point Mutations\n",
    "\n",
    "Given two strings s and t of equal length, the Hamming distance between s and t, denoted dH(s,t), is the number of corresponding symbols that differ in s and t. \n",
    "\n",
    "Given: Two DNA strings s and t of equal length (not exceeding 1 kbp).\n",
    "\n",
    "Return: The Hamming distance dH(s,t)."
   ]
  },
  {
   "cell_type": "code",
   "execution_count": 48,
   "metadata": {},
   "outputs": [],
   "source": [
    "def hamming_distance(seq1, seq2):\n",
    "    # Check to see if sequences are of equal length\n",
    "    if len(seq1) != len(seq2):\n",
    "        raise ValueError(\"Undefined for sequences of unequal length\")\n",
    "    # returns sum of the differences in sequences when seq1 and seq2 are zip()\n",
    "    return sum(aa1 != aa2 for aa1, aa2 in zip(seq1, seq2))"
   ]
  },
  {
   "cell_type": "code",
   "execution_count": 49,
   "metadata": {},
   "outputs": [
    {
     "data": {
      "text/plain": [
       "7"
      ]
     },
     "execution_count": 49,
     "metadata": {},
     "output_type": "execute_result"
    }
   ],
   "source": [
    "seq1 = 'GAGCCTACTAACGGGAT'\n",
    "seq2 = 'CATCGTAATGACGGCCT'\n",
    "\n",
    "hamming_distance(seq1, seq2)"
   ]
  },
  {
   "cell_type": "markdown",
   "metadata": {},
   "source": [
    "# Calculating Expected Offspring\n",
    "\n",
    "For a random variable X taking integer values between 1 and n, the expected value of X is E(X)=∑nk=1 k×Pr(X=k). The expected value offers us a way of taking the long-term average of a random variable over a large number of trials.\n",
    "\n",
    "As a motivating example, let X be the number on a six-sided die. Over a large number of rolls, we should expect to obtain an average of 3.5 on the die (even though it's not possible to roll a 3.5). The formula for expected value confirms that E(X)=∑6k=1 k×Pr(X=k)=3.5.\n",
    "\n",
    "More generally, a random variable for which every one of a number of equally spaced outcomes has the same probability is called a uniform random variable (in the die example, this \"equal spacing\" is equal to 1). We can generalize our die example to find that if X is a uniform random variable with minimum possible value a and maximum possible value b, then E(X)=a+b2. You may also wish to verify that for the dice example, if Y is the random variable associated with the outcome of a second die roll, then E(X+Y)=7.\n",
    "\n",
    "Given: Six nonnegative integers, each of which does not exceed 20,000. The integers correspond to the number of couples in a population possessing each genotype pairing for a given factor. In order, the six given integers represent the number of couples having the following genotypes:\n",
    "\n",
    "AA-AA\n",
    "\n",
    "AA-Aa\n",
    "\n",
    "AA-aa\n",
    "\n",
    "Aa-Aa\n",
    "\n",
    "Aa-aa\n",
    "\n",
    "aa-aa\n",
    "\n",
    "Return: The expected number of offspring displaying the dominant phenotype in the next generation, under the assumption that every couple has exactly two offspring."
   ]
  },
  {
   "cell_type": "code",
   "execution_count": 69,
   "metadata": {},
   "outputs": [],
   "source": [
    "def make_geno_dict(num_couples):\n",
    "    # declare new dict geno and list of genotype pairs\n",
    "    geno_dict = {}\n",
    "    geno = [\"AA-AA\", \"AA-Aa\", \"AA-aa\", \"Aa-Aa\", \"Aa-aa\", \"aa-aa\"]\n",
    "    \n",
    "    # for each genotype pair add it and the number of couples to the geno dict\n",
    "    for idx, g in enumerate(geno):\n",
    "        geno_dict[g] = num_couples[idx]\n",
    "        \n",
    "    return geno_dict\n",
    "\n",
    "def cal_exp_offspring(num_couples):\n",
    "    # make dict from num_couples\n",
    "    geno = make_geno_dict(num_couples)\n",
    "    \n",
    "    # Probabilty of pairs producing a dominate phenotype\n",
    "    multiplier = {\"AA-AA\": 1.0, \n",
    "                  \"AA-Aa\": 1.0, \n",
    "                  \"AA-aa\": 1.0, \n",
    "                  \"Aa-Aa\": 0.75, \n",
    "                  \"Aa-aa\": 0.50, \n",
    "                  \"aa-aa\": 0.0}\n",
    "    # Each couple has exactly 2 offspring times the number of genotype pairing\n",
    "    # times the probability of getting a domominat phenotype in the next\n",
    "    # generation plus the previous phenotype pairs' probability\n",
    "    exp = 0\n",
    "    for x in geno.keys():\n",
    "        exp = exp + 2 * geno[x] * multiplier[x]\n",
    "    return exp"
   ]
  },
  {
   "cell_type": "code",
   "execution_count": 71,
   "metadata": {
    "scrolled": true
   },
   "outputs": [
    {
     "data": {
      "text/plain": [
       "149949.5"
      ]
     },
     "execution_count": 71,
     "metadata": {},
     "output_type": "execute_result"
    }
   ],
   "source": [
    "def read_iev_file(filename):\n",
    "    with open(filename)as file:\n",
    "        return [float(i) for i in file.read().split(' ')]\n",
    "    \n",
    "num_couples = read_iev_file('rosalind_iev.txt')\n",
    "# num_couples = [1, 0, 0, 1, 0, 1]\n",
    "cal_exp_offspring(num_couples)"
   ]
  },
  {
   "cell_type": "markdown",
   "metadata": {},
   "source": [
    "# Mortal Fibonacci Rabbits\n",
    "\n",
    "Recall the definition of the Fibonacci numbers from “Rabbits and Recurrence Relations”, which followed the recurrence relation Fn=Fn−1+Fn−2 and assumed that each pair of rabbits reaches maturity in one month and produces a single pair of offspring (one male, one female) each subsequent month.\n",
    "\n",
    "Our aim is to somehow modify this recurrence relation to achieve a dynamic programming solution in the case that all rabbits die out after a fixed number of months. See Figure 4 for a depiction of a rabbit tree in which rabbits live for three months (meaning that they reproduce only twice before dying).\n",
    "\n",
    "Given: Positive integers n≤100 and m≤20.\n",
    "\n",
    "Return: The total number of pairs of rabbits that will remain after the n-th month if all rabbits live for m months."
   ]
  },
  {
   "cell_type": "code",
   "execution_count": 72,
   "metadata": {},
   "outputs": [],
   "source": [
    "def mortal_fibonacci(n, m):\n",
    "    # This coe is 1-based so months may not be 0 or less\n",
    "    if n <= 0:\n",
    "        return \"n must be greater than 0\"\n",
    "    # In months 1 and 2 there is only 1 pair of rabbits\n",
    "    if n == 1 or n == 2:\n",
    "        return 1\n",
    "    # Calculate the total populatin using fibonacci squence \n",
    "    # F(n)=F(n−1)+F(n−2) (with F1=F2=1 to initiate the sequence)\n",
    "    else:\n",
    "        total_pop = fibonacci(n-1, k) + k * fibonacci(n-2, k)\n",
    "    return total_pop"
   ]
  },
  {
   "cell_type": "markdown",
   "metadata": {},
   "source": [
    "# Inferring mRNA from Protein\n",
    "\n",
    "For positive integers a and n, a modulo n (written a mod n in shorthand) is the remainder when a is divided by n. For example, 29 mod 11=7 because 29=11×2+7.\n",
    "\n",
    "Modular arithmetic is the study of addition, subtraction, multiplication, and division with respect to the modulo operation. We say that a and b are congruent modulo n if a mod n = b mod n; in this case, we use the notation a ≡ b mod n.\n",
    "\n",
    "Two useful facts in modular arithmetic are that if a ≡ b mod n and c ≡ d mod n, then a + c ≡ b + d mod n and a × c ≡ b × d mod n. To check your understanding of these rules, you may wish to verify these relationships for a=29, b=73, c=10, d=32, and n=11.\n",
    "\n",
    "As you will see in this exercise, some Rosalind problems will ask for a (very large) integer solution modulo a smaller number to avoid the computational pitfalls that arise with storing such large numbers.\n",
    "\n",
    "Given: A protein string of length at most 1000 aa.\n",
    "\n",
    "Return: The total number of different RNA strings from which the protein could have been translated, modulo 1,000,000. (Don't neglect the importance of the stop codon in protein translation.)"
   ]
  },
  {
   "cell_type": "code",
   "execution_count": 34,
   "metadata": {},
   "outputs": [],
   "source": [
    "RNA_codon_table = {\n",
    "    \"UUU\":\"F\", \"UUC\":\"F\", \"UUA\":\"L\", \"UUG\":\"L\",\n",
    "    \"UCU\":\"S\", \"UCC\":\"S\", \"UCA\":\"S\", \"UCG\":\"S\",\n",
    "    \"UAU\":\"Y\", \"UAC\":\"Y\", \"UAA\":\"STOP\", \"UAG\":\"STOP\",\n",
    "    \"UGU\":\"C\", \"UGC\":\"C\", \"UGA\":\"STOP\", \"UGG\":\"W\",\n",
    "    \"CUU\":\"L\", \"CUC\":\"L\", \"CUA\":\"L\", \"CUG\":\"L\",\n",
    "    \"CCU\":\"P\", \"CCC\":\"P\", \"CCA\":\"P\", \"CCG\":\"P\",\n",
    "    \"CAU\":\"H\", \"CAC\":\"H\", \"CAA\":\"Q\", \"CAG\":\"Q\",\n",
    "    \"CGU\":\"R\", \"CGC\":\"R\", \"CGA\":\"R\", \"CGG\":\"R\",\n",
    "    \"AUU\":\"I\", \"AUC\":\"I\", \"AUA\":\"I\", \"AUG\":\"M\",\n",
    "    \"ACU\":\"T\", \"ACC\":\"T\", \"ACA\":\"T\", \"ACG\":\"T\",\n",
    "    \"AAU\":\"N\", \"AAC\":\"N\", \"AAA\":\"K\", \"AAG\":\"K\",\n",
    "    \"AGU\":\"S\", \"AGC\":\"S\", \"AGA\":\"R\", \"AGG\":\"R\",\n",
    "    \"GUU\":\"V\", \"GUC\":\"V\", \"GUA\":\"V\", \"GUG\":\"V\",\n",
    "    \"GCU\":\"A\", \"GCC\":\"A\", \"GCA\":\"A\", \"GCG\":\"A\",\n",
    "    \"GAU\":\"D\", \"GAC\":\"D\", \"GAA\":\"E\", \"GAG\":\"E\",\n",
    "    \"GGU\":\"G\", \"GGC\":\"G\", \"GGA\":\"G\", \"GGG\":\"G\",\n",
    "}\n",
    "\n",
    "def reverse_codon_table(table):\n",
    "    r_key = ''\n",
    "    r_value = ''\n",
    "    reverse = {}\n",
    "    \n",
    "    for k in table.keys():\n",
    "        r_key = table[k]\n",
    "        r_value = k\n",
    "        if r_key in reverse:\n",
    "            reverse[r_key].append(r_value)\n",
    "        else:\n",
    "            reverse[r_key] = [r_value]\n",
    "            \n",
    "    return reverse\n",
    "\n",
    "def codon_freq_table(table):\n",
    "    reverse_table = reverse_codon_table(table)\n",
    "    freq = {}\n",
    "    for k in reverse_table.keys():\n",
    "        freq[k] = len(reverse_table[k])\n",
    "        \n",
    "    return freq"
   ]
  },
  {
   "cell_type": "code",
   "execution_count": 35,
   "metadata": {},
   "outputs": [
    {
     "ename": "SyntaxError",
     "evalue": "non-default argument follows default argument (<ipython-input-35-ebb645aabce6>, line 4)",
     "output_type": "error",
     "traceback": [
      "\u001b[1;36m  File \u001b[1;32m\"<ipython-input-35-ebb645aabce6>\"\u001b[1;36m, line \u001b[1;32m4\u001b[0m\n\u001b[1;33m    def num_rna_strings(dna, modulo=None, freq):\u001b[0m\n\u001b[1;31mSyntaxError\u001b[0m\u001b[1;31m:\u001b[0m non-default argument follows default argument\n"
     ]
    }
   ],
   "source": [
    "# https://stackoverflow.com/questions/46135385/inferring-mrna-from-protein-rosalind\n",
    "from functools import reduce\n",
    "from operator import mul\n",
    "\n",
    "def num_rna_strings(dna, modulo=None, freq):\n",
    "    if modulo:\n",
    "        reduce_fn = lambda a, b: (a * b) % modulo\n",
    "    else:\n",
    "        reduce_fn = mul\n",
    "    freqs = (freq[base] for base in dna)\n",
    "    print freqs\n",
    "    return reduce(reduce_fn, freqs, freq[\"STOP\"])"
   ]
  },
  {
   "cell_type": "code",
   "execution_count": 36,
   "metadata": {
    "scrolled": true
   },
   "outputs": [
    {
     "ename": "TypeError",
     "evalue": "num_rna_strings() takes at most 2 arguments (3 given)",
     "output_type": "error",
     "traceback": [
      "\u001b[1;31m---------------------------------------------------------------------------\u001b[0m",
      "\u001b[1;31mTypeError\u001b[0m                                 Traceback (most recent call last)",
      "\u001b[1;32m<ipython-input-36-768e0a2d61d4>\u001b[0m in \u001b[0;36m<module>\u001b[1;34m()\u001b[0m\n\u001b[0;32m      1\u001b[0m \u001b[0mfreq\u001b[0m \u001b[1;33m=\u001b[0m \u001b[0mcodon_freq_table\u001b[0m\u001b[1;33m(\u001b[0m\u001b[0mRNA_codon_table\u001b[0m\u001b[1;33m)\u001b[0m\u001b[1;33m\u001b[0m\u001b[0m\n\u001b[0;32m      2\u001b[0m \u001b[0mprotein\u001b[0m \u001b[1;33m=\u001b[0m \u001b[1;34m'MIFEYKCQPFSMNDDSTFQPFDPDGNGPVVMKTQCMYPAYKWNVQSKSIVKRHNHTYHISYAKLDHVVCDWPVDFVDPVGITNHQVKKHQFTIETDRRTTCEMRQSMVLFYLWGHPDVSFKPGWQEPVPTGAYLGQSHCGPKSGGTKDYVAHMKFTSDLCMKWTTHWQHECQNHMHHGGAWYFLGAHSHMYRRKSFRCNGTACHWNDHTIGQHLAGWMFIFSGQHWGWDRADYCQWMTMFNYNPSSDQWRTGHREVGGANKGDWDWFYWIYSKIDWLSYWQGYYPVGICNIMHGLPGFWLTWGTEWNQELKRTKGYEDVVCAQFADNNIFGDEGVSHYQDSQKEVCGFMYMMFCNLVYDVLFNDQLDPFNRIIFDTTRQWQMFQWNHFMILSQDHYHCVLCFCQARERRCYKEEDQIQETHRSNTLHTRALEMLPCCMRYCRDGMPASLVQFKAQIYPQIGPCEWEEPPWHFLNWYGAFFNPCSHLYMNLIHYCRQMVLRILRGEDPIIMFNEDFEHIASKCCNHFDPFRWAMRITHNRTFTTFHKGFMFYMMIYCPIQGGPVCHDSLQEKTGCAGINEEGIFKDMQRQYQQGNDSLTDIHWQMTPDMDATFKDPYWPNWVDREFCTKAEDPIRMHTCPFEAFEYVVHVSTHGMPHCEMCLPLPHTMWHGGAENNSHKGPIRMHRVYFMAEWNIDRWIFHDEYYTWCHAMAKCYREPSCHLFITFNYNIYSYIEQDDKFRKNMTKTQKHIGPRRRMTQMLPNNHYDFHGAMCETPPSRMAHYGSHLPNPNSNDFCDTANSYDPNREFQSCDCMNNKGQFPACCAVNPIVDHHFMWAFQHNKEDRYNSKGISLCLHGTYGALLHIWVEVIMKYSEQCQVPIILRQSLDKFRKKRSVMVICSIDFTMMGPHCGWDDGWKFRSSSVPRNWFMDCERMITRKQPQMVDDASCYTHGRPPKAFYFFEAKEHGHTYAFYFCIYHWVKPMETSYEFNVMNHQTQAT'\u001b[0m\u001b[1;33m\u001b[0m\u001b[0m\n\u001b[1;32m----> 3\u001b[1;33m \u001b[0mnum_rna_strings\u001b[0m\u001b[1;33m(\u001b[0m\u001b[0mprotein\u001b[0m\u001b[1;33m,\u001b[0m \u001b[1;36m1000000\u001b[0m\u001b[1;33m,\u001b[0m \u001b[0mfreq\u001b[0m\u001b[1;33m)\u001b[0m\u001b[1;33m\u001b[0m\u001b[0m\n\u001b[0m",
      "\u001b[1;31mTypeError\u001b[0m: num_rna_strings() takes at most 2 arguments (3 given)"
     ]
    }
   ],
   "source": [
    "freq = codon_freq_table(RNA_codon_table)\n",
    "protein = 'MIFEYKCQPFSMNDDSTFQPFDPDGNGPVVMKTQCMYPAYKWNVQSKSIVKRHNHTYHISYAKLDHVVCDWPVDFVDPVGITNHQVKKHQFTIETDRRTTCEMRQSMVLFYLWGHPDVSFKPGWQEPVPTGAYLGQSHCGPKSGGTKDYVAHMKFTSDLCMKWTTHWQHECQNHMHHGGAWYFLGAHSHMYRRKSFRCNGTACHWNDHTIGQHLAGWMFIFSGQHWGWDRADYCQWMTMFNYNPSSDQWRTGHREVGGANKGDWDWFYWIYSKIDWLSYWQGYYPVGICNIMHGLPGFWLTWGTEWNQELKRTKGYEDVVCAQFADNNIFGDEGVSHYQDSQKEVCGFMYMMFCNLVYDVLFNDQLDPFNRIIFDTTRQWQMFQWNHFMILSQDHYHCVLCFCQARERRCYKEEDQIQETHRSNTLHTRALEMLPCCMRYCRDGMPASLVQFKAQIYPQIGPCEWEEPPWHFLNWYGAFFNPCSHLYMNLIHYCRQMVLRILRGEDPIIMFNEDFEHIASKCCNHFDPFRWAMRITHNRTFTTFHKGFMFYMMIYCPIQGGPVCHDSLQEKTGCAGINEEGIFKDMQRQYQQGNDSLTDIHWQMTPDMDATFKDPYWPNWVDREFCTKAEDPIRMHTCPFEAFEYVVHVSTHGMPHCEMCLPLPHTMWHGGAENNSHKGPIRMHRVYFMAEWNIDRWIFHDEYYTWCHAMAKCYREPSCHLFITFNYNIYSYIEQDDKFRKNMTKTQKHIGPRRRMTQMLPNNHYDFHGAMCETPPSRMAHYGSHLPNPNSNDFCDTANSYDPNREFQSCDCMNNKGQFPACCAVNPIVDHHFMWAFQHNKEDRYNSKGISLCLHGTYGALLHIWVEVIMKYSEQCQVPIILRQSLDKFRKKRSVMVICSIDFTMMGPHCGWDDGWKFRSSSVPRNWFMDCERMITRKQPQMVDDASCYTHGRPPKAFYFFEAKEHGHTYAFYFCIYHWVKPMETSYEFNVMNHQTQAT'\n",
    "num_rna_strings(protein, 1000000, freq)"
   ]
  }
 ],
 "metadata": {
  "kernelspec": {
   "display_name": "Python 2",
   "language": "python",
   "name": "python2"
  },
  "language_info": {
   "codemirror_mode": {
    "name": "ipython",
    "version": 2
   },
   "file_extension": ".py",
   "mimetype": "text/x-python",
   "name": "python",
   "nbconvert_exporter": "python",
   "pygments_lexer": "ipython2",
   "version": "2.7.15"
  }
 },
 "nbformat": 4,
 "nbformat_minor": 2
}
